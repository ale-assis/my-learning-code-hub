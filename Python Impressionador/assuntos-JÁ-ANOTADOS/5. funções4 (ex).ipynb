{
 "cells": [
  {
   "metadata": {},
   "cell_type": "markdown",
   "source": "# Funções - Exercício 1",
   "id": "4b65984516d86533"
  },
  {
   "metadata": {},
   "cell_type": "markdown",
   "source": [
    "- Vamos criar uma function com parâmetro\n",
    "\n",
    "Digamos que estamos criando um programa para categorizar os produtos de uma revendedora de bebidas.\n",
    "\n",
    "Cada produto tem um código. O tipo de produto é dado pelas 3 primeiras letras do código.\n",
    "\n",
    "Ex:<br>\n",
    "Vinho -> BEB12302<br>\n",
    "Cerveja -> BEB12043<br>\n",
    "Vodka -> BEB34501<br>\n",
    "\n",
    "Guaraná -> BSA11104<br>\n",
    "Coca -> BSA54301<br>\n",
    "Sprite -> BSA34012<br>\n",
    "Água -> BSA09871<br>\n",
    "\n",
    "Repare que bebidas não alcóolicas começam com BSA e bebidas alcoolicas começam com BEB.\n",
    "\n",
    "Crie um programa que analise uma lista de produtos e envie instruções para a equipe de estoque dizendo quais produtos devem ser enviados para a área de bebidas alcóolicas."
   ],
   "id": "4e73317484ad18"
  },
  {
   "metadata": {
    "ExecuteTime": {
     "end_time": "2024-08-13T16:37:41.048271Z",
     "start_time": "2024-08-13T16:37:41.023285Z"
    }
   },
   "cell_type": "code",
   "source": [
    "def verificar_bebidas_alcoolicas(lista):\n",
    "    for bebida in lista:\n",
    "        if 'beb' in bebida or 'BEB' in bebida:\n",
    "            print(f'Enviar produto {bebida} para o setor de BEBIDAS ALCÓOLICAS')\n",
    "          \n",
    "\n",
    "produtos = ['beb46275','TFA23962','TFA64715','TFA69555','TFA56743','BSA45510','TFA44968','CAR75448','CAR23596','CAR13490','BEB21365','BEB31623','BSA62419','BEB73344','TFA20079','BEB80694','BSA11769','BEB19495','TFA14792','TFA78043','BSA33484','BEB97471','BEB62362','TFA27311','TFA17715','BEB85146','BEB48898','BEB79496','CAR38417','TFA19947','TFA58799','CAR94811','BSA59251','BEB15385','BEB24213','BEB56262','BSA96915','CAR53454','BEB75073']\n",
    "\n",
    "verificar_bebidas_alcoolicas(produtos)"
   ],
   "id": "81bcb6bde248439f",
   "outputs": [
    {
     "name": "stdout",
     "output_type": "stream",
     "text": [
      "Enviar produto beb46275 para o setor de BEBIDAS ALCÓOLICAS\n",
      "Enviar produto BEB21365 para o setor de BEBIDAS ALCÓOLICAS\n",
      "Enviar produto BEB31623 para o setor de BEBIDAS ALCÓOLICAS\n",
      "Enviar produto BEB73344 para o setor de BEBIDAS ALCÓOLICAS\n",
      "Enviar produto BEB80694 para o setor de BEBIDAS ALCÓOLICAS\n",
      "Enviar produto BEB19495 para o setor de BEBIDAS ALCÓOLICAS\n",
      "Enviar produto BEB97471 para o setor de BEBIDAS ALCÓOLICAS\n",
      "Enviar produto BEB62362 para o setor de BEBIDAS ALCÓOLICAS\n",
      "Enviar produto BEB85146 para o setor de BEBIDAS ALCÓOLICAS\n",
      "Enviar produto BEB48898 para o setor de BEBIDAS ALCÓOLICAS\n",
      "Enviar produto BEB79496 para o setor de BEBIDAS ALCÓOLICAS\n",
      "Enviar produto BEB15385 para o setor de BEBIDAS ALCÓOLICAS\n",
      "Enviar produto BEB24213 para o setor de BEBIDAS ALCÓOLICAS\n",
      "Enviar produto BEB56262 para o setor de BEBIDAS ALCÓOLICAS\n",
      "Enviar produto BEB75073 para o setor de BEBIDAS ALCÓOLICAS\n"
     ]
    }
   ],
   "execution_count": 14
  },
  {
   "metadata": {},
   "cell_type": "markdown",
   "source": "Quando você itera sobre uma lista com `for`, o iterável vai ser cada elemento da lista",
   "id": "8623da3c071e5e2e"
  }
 ],
 "metadata": {
  "kernelspec": {
   "display_name": "Python 3",
   "language": "python",
   "name": "python3"
  },
  "language_info": {
   "codemirror_mode": {
    "name": "ipython",
    "version": 2
   },
   "file_extension": ".py",
   "mimetype": "text/x-python",
   "name": "python",
   "nbconvert_exporter": "python",
   "pygments_lexer": "ipython2",
   "version": "2.7.6"
  }
 },
 "nbformat": 4,
 "nbformat_minor": 5
}
