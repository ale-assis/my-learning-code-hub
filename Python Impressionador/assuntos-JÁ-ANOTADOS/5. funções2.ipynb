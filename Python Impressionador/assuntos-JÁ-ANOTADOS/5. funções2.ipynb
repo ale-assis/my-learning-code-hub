{
 "cells": [
  {
   "cell_type": "markdown",
   "metadata": {},
   "source": [
    "# Funções pt2 - Retornando funções"
   ]
  },
  {
   "cell_type": "markdown",
   "metadata": {},
   "source": [
    ".strip() - remove o espaço no início e no final da string, caso o usuario digite o input com espaços desnecessarios"
   ]
  },
  {
   "cell_type": "code",
   "metadata": {
    "ExecuteTime": {
     "end_time": "2024-08-13T11:50:53.705082Z",
     "start_time": "2024-08-13T11:50:53.559173Z"
    }
   },
   "source": [
    "# código incorreto - print no escopo local\n",
    "def cadastrar_produto():\n",
    "    produto = input('Digite o nome do produto que deseja cadastrar: ')\n",
    "    produto = produto.casefold()\n",
    "    produto = produto.strip()\n",
    "    print(f'Produto {produto} cadastrado com sucesso!')"
   ],
   "outputs": [],
   "execution_count": 1
  },
  {
   "cell_type": "markdown",
   "metadata": {},
   "source": [
    "Por que não é ideal que o print fique dentro da função?\n",
    "Porque o ideal é que a função tenha somente 1 AÇÃO\n",
    "Se a função é pra cadastrar produto, ela somente vai fazer isso... agora fazer a ação de PRINTAR não é com ela\n",
    "Ou seja, o print pode ficar fora da função"
   ]
  },
  {
   "cell_type": "code",
   "metadata": {
    "ExecuteTime": {
     "end_time": "2024-08-13T11:50:55.521937Z",
     "start_time": "2024-08-13T11:50:53.822011Z"
    }
   },
   "source": [
    "# código correto - sem o print no escopo local\n",
    "def cadastrar_produto():\n",
    "    produto = input('Digite o nome do produto que deseja cadastrar: ')\n",
    "    produto = produto.casefold()\n",
    "    produto = produto.strip()\n",
    "\n",
    "print(f'O produto cadastrado foi {produto}')"
   ],
   "outputs": [
    {
     "ename": "NameError",
     "evalue": "name 'produto' is not defined",
     "output_type": "error",
     "traceback": [
      "\u001B[1;31m---------------------------------------------------------------------------\u001B[0m",
      "\u001B[1;31mNameError\u001B[0m                                 Traceback (most recent call last)",
      "\u001B[1;32m~\\AppData\\Local\\Temp\\ipykernel_8320\\2946075675.py\u001B[0m in \u001B[0;36m<module>\u001B[1;34m\u001B[0m\n\u001B[0;32m      5\u001B[0m     \u001B[0mproduto\u001B[0m \u001B[1;33m=\u001B[0m \u001B[0mproduto\u001B[0m\u001B[1;33m.\u001B[0m\u001B[0mstrip\u001B[0m\u001B[1;33m(\u001B[0m\u001B[1;33m)\u001B[0m\u001B[1;33m\u001B[0m\u001B[1;33m\u001B[0m\u001B[0m\n\u001B[0;32m      6\u001B[0m \u001B[1;33m\u001B[0m\u001B[0m\n\u001B[1;32m----> 7\u001B[1;33m \u001B[0mprint\u001B[0m\u001B[1;33m(\u001B[0m\u001B[1;34mf'O produto cadastrado foi {produto}'\u001B[0m\u001B[1;33m)\u001B[0m\u001B[1;33m\u001B[0m\u001B[1;33m\u001B[0m\u001B[0m\n\u001B[0m",
      "\u001B[1;31mNameError\u001B[0m: name 'produto' is not defined"
     ]
    }
   ],
   "execution_count": 2
  },
  {
   "cell_type": "markdown",
   "metadata": {},
   "source": [
    "Por que é importante usar o return em funções que usam uma variável que vamos precisar usar no código?  \n",
    "Porque as variáveis que estão no escopo local da função só existem ali. Caso precisemos usar essas variáveis \n",
    "FORA desse escopo, precisamos usar o RETURN para enviar essa variável para que ela \"exista\" no escopo global agora"
   ]
  },
  {
   "cell_type": "code",
   "metadata": {},
   "source": [
    "# código incorreto - sem return\n",
    "def cadastrar_produto():\n",
    "    produto = input('Digite o nome do produto que deseja cadastrar: ')\n",
    "    produto = produto.casefold()\n",
    "    produto = produto.strip()\n",
    "\n",
    "cadastrar_produto()\n",
    "print(produto)"
   ],
   "outputs": [],
   "execution_count": null
  },
  {
   "cell_type": "code",
   "metadata": {
    "ExecuteTime": {
     "end_time": "2024-08-13T11:50:55.526934Z",
     "start_time": "2024-08-13T11:50:55.526934Z"
    }
   },
   "source": [
    "# código correto - com return\n",
    "# código incorreto - sem return\n",
    "def cadastrar_produto():\n",
    "    produto = input('Digite o nome do produto que deseja cadastrar: ')\n",
    "    produto = produto.casefold()\n",
    "    produto = produto.strip()\n",
    "    return produto\n",
    "\n",
    "produto_novo = cadastrar_produto()\n",
    "print(produto_novo)"
   ],
   "outputs": [],
   "execution_count": null
  },
  {
   "cell_type": "markdown",
   "metadata": {},
   "source": [
    "O código acima rodou porque:  \n",
    "1 - a função retornou um valor para ser usado no escopo global -> a variável produto, nesse caso  \n",
    "2 - quando a função é rodada, é como se a própria função se tornasse o valor que ela retorna. Mas esse valor precisa ser INSTANCIADO  \n",
    "3 - Por isso que criamos uma NOVA variável, que vai ser a instância do valor retornado pela função cadastrar_produto()  \n",
    "4 - Caso quisermos, podermos nomear a instância com o mesmo nome da variável retornada pela função, devido ao fato de que mesmo que tenham o mesmo   nome, uma variável vai estar no escopo global e outra no escopo local... então é como se elas fossem \"diferentes\"\n"
   ]
  },
  {
   "cell_type": "markdown",
   "metadata": {},
   "source": [
    "Quando a função tem return, qualquer código abaixo dele não é executado\n",
    "porque o return é o FINAL da função\n"
   ]
  }
 ],
 "metadata": {
  "kernelspec": {
   "display_name": "Python 3",
   "language": "python",
   "name": "python3"
  },
  "language_info": {
   "codemirror_mode": {
    "name": "ipython",
    "version": 3
   },
   "file_extension": ".py",
   "mimetype": "text/x-python",
   "name": "python",
   "nbconvert_exporter": "python",
   "pygments_lexer": "ipython3",
   "version": "3.9.13"
  }
 },
 "nbformat": 4,
 "nbformat_minor": 2
}
