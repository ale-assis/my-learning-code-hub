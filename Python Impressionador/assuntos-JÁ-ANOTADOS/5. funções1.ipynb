{
 "cells": [
  {
   "cell_type": "markdown",
   "metadata": {},
   "source": [
    "# Funções"
   ]
  },
  {
   "cell_type": "markdown",
   "metadata": {},
   "source": [
    "Primeiro a gente cria o código e coloca ele dentro de uma função  \n",
    "Caso você precise repetir o código várias vezes enquanto estiver programando, é um bom sinal de que este código deva virar uma função"
   ]
  },
  {
   "cell_type": "code",
   "execution_count": 9,
   "metadata": {},
   "outputs": [
    {
     "name": "stdout",
     "output_type": "stream",
     "text": [
      "Somente é permitido nome em letra minúscula! Formatando...\n",
      "Produto teste cadastrado com sucesso!\n"
     ]
    }
   ],
   "source": [
    "# Criar uma função de cadastro de um Produto. Essa função deve garantir que o produto cadastrado está em letra minúscula.  \n",
    "product_name = input('Digite o nome do produto: ')\n",
    "while product_name.isupper():\n",
    "    print('Somente é permitido nome em letra minúscula! Formatando...')\n",
    "    product_name = product_name.lower()\n",
    "    break\n",
    "print(f'Produto {product_name} cadastrado com sucesso!')"
   ]
  },
  {
   "cell_type": "markdown",
   "metadata": {},
   "source": [
    "lower() é um método e islower() é outro método"
   ]
  },
  {
   "cell_type": "code",
   "execution_count": 10,
   "metadata": {},
   "outputs": [
    {
     "name": "stdout",
     "output_type": "stream",
     "text": [
      "Somente é permitido nome em letra minúscula! Formatando...\n",
      "Produto teste cadastrado com sucesso!\n"
     ]
    }
   ],
   "source": [
    "# mesmo código, só que usando .casefold()\n",
    "# Criar uma função de cadastro de um Produto. Essa função deve garantir que o produto cadastrado está em letra minúscula.  \n",
    "product_name = input('Digite o nome do produto: ')\n",
    "while product_name.casefold():\n",
    "    print('Somente é permitido nome em letra minúscula! Formatando...')\n",
    "    product_name = product_name.lower()\n",
    "    break\n",
    "print(f'Produto {product_name} cadastrado com sucesso!')\n"
   ]
  },
  {
   "cell_type": "markdown",
   "metadata": {},
   "source": [
    "Agora vou fazer a função do código acima"
   ]
  },
  {
   "cell_type": "code",
   "execution_count": 14,
   "metadata": {},
   "outputs": [
    {
     "name": "stdout",
     "output_type": "stream",
     "text": [
      "Somente é permitido nome em letra minúscula! Formatando...\n",
      "Produto teste cadastrado com sucesso!\n"
     ]
    }
   ],
   "source": [
    "def register_products():\n",
    "    product_name = input('Digite o nome do produto: ')\n",
    "    while product_name.casefold():\n",
    "        print('Somente é permitido nome em letra minúscula! Formatando...')\n",
    "        product_name = product_name.lower()\n",
    "        break\n",
    "    print(f'Produto {product_name} cadastrado com sucesso!')\n",
    "\n",
    "    \n",
    "register_products()\n"
   ]
  },
  {
   "cell_type": "markdown",
   "metadata": {},
   "source": [
    "A função não necessariamente precisa do return porque o return é só pra casos onde a gente vá precisar USAR o valor que a função retorna... como não vamos usar o print, ele é só uma mensagem a ser exibida, não precisa do return"
   ]
  },
  {
   "cell_type": "code",
   "execution_count": 13,
   "metadata": {},
   "outputs": [
    {
     "name": "stdout",
     "output_type": "stream",
     "text": [
      "Somente é permitido nome em letra minúscula! Formatando...\n",
      "Produto produto 1 cadastrado com sucesso!\n",
      "Somente é permitido nome em letra minúscula! Formatando...\n",
      "Produto produto 2 cadastrado com sucesso!\n",
      "Somente é permitido nome em letra minúscula! Formatando...\n",
      "Produto produto 3 cadastrado com sucesso!\n"
     ]
    }
   ],
   "source": [
    "# usando for range para cadastrar 3 produtos\n",
    "for i in range(3):\n",
    "    register_products()\n"
   ]
  }
 ],
 "metadata": {
  "kernelspec": {
   "display_name": "base",
   "language": "python",
   "name": "python3"
  },
  "language_info": {
   "codemirror_mode": {
    "name": "ipython",
    "version": 3
   },
   "file_extension": ".py",
   "mimetype": "text/x-python",
   "name": "python",
   "nbconvert_exporter": "python",
   "pygments_lexer": "ipython3",
   "version": "3.9.13"
  }
 },
 "nbformat": 4,
 "nbformat_minor": 2
}
