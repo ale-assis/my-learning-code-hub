{
 "cells": [
  {
   "cell_type": "markdown",
   "metadata": {},
   "source": [
    "# Capítulo 2  \n",
    "# Aula 01 - Ordem de Execução dos Programas"
   ]
  },
  {
   "cell_type": "markdown",
   "metadata": {},
   "source": [
    "A ordem de execução das linhas no python é exatamente de cima para baixo"
   ]
  },
  {
   "cell_type": "code",
   "execution_count": null,
   "metadata": {},
   "outputs": [],
   "source": [
    "print(faturamento)\n",
    "\n",
    "faturamento = 1000"
   ]
  },
  {
   "cell_type": "markdown",
   "metadata": {},
   "source": [
    "O código acima deu erro porque a gente declarou a variável `faturamento`  \n",
    "DEPOIS do `print()`, ou seja, o print foi usado antes da variável ser declarada  \n",
    "\n",
    "O correto seria fazer assim:"
   ]
  },
  {
   "cell_type": "code",
   "execution_count": 1,
   "metadata": {},
   "outputs": [
    {
     "name": "stdout",
     "output_type": "stream",
     "text": [
      "1000\n"
     ]
    }
   ],
   "source": [
    "faturamento = 1000\n",
    "print(faturamento)\n"
   ]
  },
  {
   "cell_type": "markdown",
   "metadata": {},
   "source": [
    "Ou seja, sempre que você for fazer seu código, você deve sempre pensar  \n",
    "na ordem que está as linhas das variáveis, pois para elas funcionarem  \n",
    "você deve declarar essas variáveis nas primeiras linhas."
   ]
  },
  {
   "cell_type": "code",
   "execution_count": 3,
   "metadata": {},
   "outputs": [
    {
     "name": "stdout",
     "output_type": "stream",
     "text": [
      "500\n",
      "500\n"
     ]
    }
   ],
   "source": [
    "custo = 500\n",
    "faturamento = 1000\n",
    "lucro = faturamento - custo\n",
    "print(lucro)\n",
    "\n",
    "custo = 700\n",
    "print(lucro)"
   ]
  },
  {
   "cell_type": "markdown",
   "metadata": {},
   "source": [
    "Porque o 2º lucro deu 500, se eu atualizei o valor do custo para 700?  \n",
    "    Porque você esqueceu de fazer uma nova declaração para a variável `lucro`  \n",
    "\n",
    "Você fez uma atualização no valor de custo, mas o `print` está mostrando  \n",
    "a variável lucro que foi declarada pela 1º vez. Você tem que fazer uma nova declaração  \n",
    "para o python entender que o valor do custo foi atualizado e agora a variável `lucro`  \n",
    "vai ter um valor diferente"
   ]
  },
  {
   "cell_type": "code",
   "execution_count": 6,
   "metadata": {},
   "outputs": [
    {
     "name": "stdout",
     "output_type": "stream",
     "text": [
      "500\n",
      "700\n",
      "300\n"
     ]
    }
   ],
   "source": [
    "# o print vai ser de 500, porque esse é o valor da variável lucro até esta linha de código\n",
    "print(lucro)\n",
    "print(custo)\n",
    "\n",
    "lucro = faturamento - custo\n",
    "print(lucro)\n",
    "# agora o lucro mudou, porque criamos uma nova declaração com os valores atualizados."
   ]
  }
 ],
 "metadata": {
  "kernelspec": {
   "display_name": "Python 3",
   "language": "python",
   "name": "python3"
  },
  "language_info": {
   "codemirror_mode": {
    "name": "ipython",
    "version": 3
   },
   "file_extension": ".py",
   "mimetype": "text/x-python",
   "name": "python",
   "nbconvert_exporter": "python",
   "pygments_lexer": "ipython3",
   "version": "3.12.0"
  }
 },
 "nbformat": 4,
 "nbformat_minor": 2
}
