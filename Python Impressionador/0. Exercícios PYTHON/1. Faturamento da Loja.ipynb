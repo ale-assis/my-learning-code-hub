{
 "cells": [
  {
   "cell_type": "markdown",
   "metadata": {},
   "source": [
    "# Exercícios do Módulo 1 - Operações, Variáveis e Input"
   ]
  },
  {
   "cell_type": "markdown",
   "metadata": {},
   "source": [
    "## Parte 1 - Operações e Variáveis"
   ]
  },
  {
   "cell_type": "markdown",
   "metadata": {},
   "source": [
    "Crie um programa que imprima os principais indicadores da loja Hashtag&Drink no último ano.\n",
    "Obs: faça tudo em variáveis.\n",
    "\n",
    "Valores do último ano:\n",
    "\n",
    "Quantidade de Vendas de Coca = 150  \n",
    "Quantidade de Vendas de Pepsi = 130  \n",
    "Preço unitário da Coca = 1,50  \n",
    "Preço unitário da Pepsi = 1,50  \n",
    "Custo da Loja = 2.500,00  \n",
    "\n",
    "Use o bloco abaixo para criar todas as variáveis que precisar."
   ]
  },
  {
   "cell_type": "code",
   "execution_count": 9,
   "metadata": {},
   "outputs": [],
   "source": [
    "qtde_vendas_coca = 150\n",
    "qtde_vendas_pepsi = 130\n",
    "preco_coca = 1.50\n",
    "preco_pepsi = 1.50\n",
    "custo_loja = 2500"
   ]
  },
  {
   "cell_type": "markdown",
   "metadata": {},
   "source": [
    "**1. Qual  foi o faturamento de Pepsi da loja?**"
   ]
  },
  {
   "cell_type": "code",
   "execution_count": 10,
   "metadata": {},
   "outputs": [
    {
     "name": "stdout",
     "output_type": "stream",
     "text": [
      "195.0\n"
     ]
    }
   ],
   "source": [
    "faturamento_pepsi = qtde_vendas_pepsi * preco_pepsi\n",
    "print(faturamento_pepsi)"
   ]
  },
  {
   "cell_type": "markdown",
   "metadata": {},
   "source": [
    "**2. Qual foi o faturamento de Coca da loja?**"
   ]
  },
  {
   "cell_type": "code",
   "execution_count": 11,
   "metadata": {},
   "outputs": [
    {
     "name": "stdout",
     "output_type": "stream",
     "text": [
      "225.0\n"
     ]
    }
   ],
   "source": [
    "faturamento_coca = qtde_vendas_coca * preco_coca\n",
    "print(faturamento_coca)"
   ]
  },
  {
   "cell_type": "markdown",
   "metadata": {},
   "source": [
    "**3. Qual foi o Lucro da loja?**"
   ]
  },
  {
   "cell_type": "code",
   "execution_count": 12,
   "metadata": {},
   "outputs": [
    {
     "name": "stdout",
     "output_type": "stream",
     "text": [
      "420.0\n",
      "-2080.0\n"
     ]
    }
   ],
   "source": [
    "faturamento_total = faturamento_pepsi + faturamento_coca\n",
    "print(faturamento_total)\n",
    "\n",
    "lucro = faturamento_total - custo_loja\n",
    "print(lucro)"
   ]
  },
  {
   "cell_type": "markdown",
   "metadata": {},
   "source": [
    "**4. Qual foi a Margem da loja?**  \n",
    "*(lembre-se, margem = lucro / faturamento)*  \n",
    "*Não precisa formartar em percentual*"
   ]
  },
  {
   "cell_type": "code",
   "execution_count": 13,
   "metadata": {},
   "outputs": [
    {
     "name": "stdout",
     "output_type": "stream",
     "text": [
      "-4.9523809523809526\n"
     ]
    }
   ],
   "source": [
    "margem = lucro / faturamento_total\n",
    "print(margem)"
   ]
  },
  {
   "cell_type": "markdown",
   "metadata": {},
   "source": [
    "## Parte 2 - Inputs e Strings"
   ]
  },
  {
   "cell_type": "markdown",
   "metadata": {},
   "source": [
    "A maioria das empresas trabalham com um Código para cada produto que possuem. A Hashtag&Drink, por exemplo, tem mais de  \n",
    "1.000 produtos e possui um código para cada produto.  \n",
    "Ex:  \n",
    "Coca => Código: BEB1300543  \n",
    "Pepsi => Código: BEB1300545  \n",
    "Vinho Primitivo Lucarelli => Código: BAC1546001  \n",
    "Vodka Smirnoff => Código: BAC17675002  \n",
    "\n",
    "Repare que todas as bebidas não alcóolicas tem o início do Código \"BEB\" e todas as bebidas alcóolicas tem o início  \n",
    "do código \"BAC\".  \n",
    "\n",
    "Crie um programa de consulta de bebida que, dado um código qualquer, identifique se a bebida é alcóolica. O programa  \n",
    "deve responder True para alcóolicas e False para bebidas não alcóolicas. Para inserir um código, use o input().  \n",
    "\n",
    "*Dica: Lembre-se do operador in para strings e sempre insira os códigos com letra maiúscula para facilitar.*"
   ]
  },
  {
   "cell_type": "code",
   "execution_count": 18,
   "metadata": {},
   "outputs": [
    {
     "name": "stdout",
     "output_type": "stream",
     "text": [
      "O código BEB505678 corresponde a uma bebida NÃO ALCÓOLICA.\n"
     ]
    }
   ],
   "source": [
    "codigo = input('Digite, em letra MAIÚSCULA, o código da bebida para verificarmos se ela é alcóolica ou não alcóolica: ')\n",
    "alcoolicas = 'BAC'\n",
    "nao_alcoolicas = 'BEB'\n",
    "if alcoolicas in codigo:\n",
    "    print(f'O código {codigo} corresponde a uma bebida ALCÓOLICA.')\n",
    "print(f'O código {codigo} corresponde a uma bebida NÃO ALCÓOLICA.')"
   ]
  },
  {
   "cell_type": "markdown",
   "metadata": {},
   "source": [
    "Solução 2 (mais simples, da hashtag)"
   ]
  },
  {
   "cell_type": "code",
   "execution_count": 1,
   "metadata": {},
   "outputs": [
    {
     "name": "stdout",
     "output_type": "stream",
     "text": [
      "True\n"
     ]
    }
   ],
   "source": [
    "codigo = input('Digite, em letra MAIÚSCULA, o código da bebida para verificarmos se ela é alcóolica ou não alcóolica: ')\n",
    "print('BEB' in codigo)"
   ]
  },
  {
   "cell_type": "markdown",
   "metadata": {},
   "source": [
    "Solução 3 (usando **ELIF**)"
   ]
  },
  {
   "cell_type": "code",
   "execution_count": 2,
   "metadata": {},
   "outputs": [
    {
     "name": "stdout",
     "output_type": "stream",
     "text": [
      "O código BEB1064405 corresponde a uma bebida NÃO ALCÓOLICA\n"
     ]
    }
   ],
   "source": [
    "codigo = input('Digite, em letra MAIÚSCULA, o código da bebida para verificarmos se ela é alcóolica ou não alcóolica: ')\n",
    "alcoolicas = 'BAC'\n",
    "nao_alcoolicas = 'BEB'\n",
    "if alcoolicas in codigo:\n",
    "    print(f'O código {codigo} corresponde a uma bebida ALCÓOLICA.')\n",
    "elif nao_alcoolicas in codigo: # ao usar o elif, deve colocar uma SEGUNDA CONDIÇÃO!!\n",
    "    print(f'O código {codigo} corresponde a uma bebida NÃO ALCÓOLICA')"
   ]
  },
  {
   "cell_type": "markdown",
   "metadata": {},
   "source": [
    "Atualizar: quando eu aprender melhor sobre estruturas de repetição quero melhorar o código, para permitir que ele  \n",
    "só permita que o usuário digite códigos começados com BEB ou BAC."
   ]
  }
 ],
 "metadata": {
  "kernelspec": {
   "display_name": "Python 3",
   "language": "python",
   "name": "python3"
  },
  "language_info": {
   "codemirror_mode": {
    "name": "ipython",
    "version": 3
   },
   "file_extension": ".py",
   "mimetype": "text/x-python",
   "name": "python",
   "nbconvert_exporter": "python",
   "pygments_lexer": "ipython3",
   "version": "3.12.0"
  }
 },
 "nbformat": 4,
 "nbformat_minor": 2
}
