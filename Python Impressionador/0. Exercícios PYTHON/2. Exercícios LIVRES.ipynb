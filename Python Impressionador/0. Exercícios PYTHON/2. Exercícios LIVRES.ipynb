{
 "cells": [
  {
   "cell_type": "markdown",
   "metadata": {},
   "source": [
    "# Exercícios Livres "
   ]
  },
  {
   "cell_type": "markdown",
   "metadata": {},
   "source": [
    "### Exercício para praticar o uso de alguns operadores importantes e também para praticar o uso do elif"
   ]
  },
  {
   "cell_type": "code",
   "execution_count": 13,
   "metadata": {},
   "outputs": [
    {
     "name": "stdout",
     "output_type": "stream",
     "text": [
      "RESULTADO C:\n",
      "    O número inserido é 0 e o resultado do cálculo é 1\n"
     ]
    }
   ],
   "source": [
    "x = int(input('Digite um número INTEIRO qualquer para começarmos a operação: '))\n",
    "\n",
    "if x >= 4:\n",
    "    y = x * 2\n",
    "    print(f'''RESULTADO A:\n",
    "    {x} é um número maior ou igual a quatro e o resultado do cálculo é {y}''')\n",
    "elif x < 4 and x != 0:\n",
    "    z = x + 10\n",
    "    print(f'''RESULTADO B: \n",
    "    {x} é um número menor que quatro e o resultado do cálculo é {z}''')\n",
    "elif x == 0:\n",
    "    w = x + 1\n",
    "    print(f'''RESULTADO C:\n",
    "    O número inserido é {x} e o resultado do cálculo é {w}''')"
   ]
  },
  {
   "cell_type": "markdown",
   "metadata": {},
   "source": [
    "### Exercício para verificar a importância da Indentação "
   ]
  },
  {
   "cell_type": "markdown",
   "metadata": {},
   "source": [
    "Repare como a indentação afeta o resultado dos dois códigos abaixo, apesarem de serem iguais"
   ]
  },
  {
   "cell_type": "code",
   "execution_count": 17,
   "metadata": {},
   "outputs": [
    {
     "name": "stdout",
     "output_type": "stream",
     "text": [
      "fim\n"
     ]
    }
   ],
   "source": [
    "# CÓDIGO 1\n",
    "x = 5\n",
    "if x > 5:\n",
    "    x = x * 2\n",
    "    print(x)\n",
    "print('O print() está dentro do bloco IF, e como a condição IF não foi True, nada foi printado')"
   ]
  },
  {
   "cell_type": "code",
   "execution_count": 25,
   "metadata": {},
   "outputs": [
    {
     "name": "stdout",
     "output_type": "stream",
     "text": [
      "5 == x <= 5\n",
      "CENÁRIO A: O print() está fora do bloco IF, e ele vai ser printado INDEPENDENTE da condição IF ser True ou False.\n",
      "      Nesse caso a condição IF foi False, e então o print foi mostrado com o valor inicial da variável x (5)\n",
      "\n",
      "12 == x > 5\n",
      "CENÁRIO B: O print está fora do bloco IF, e ele vai ser printado INDEPENDENTE da condição IF ser True ou False.\n",
      "      Nesse caso a condição IF foi True, por isso que o print foi mostrado com o cálculo que estava programado dentro \n",
      "      do bloco IF\n"
     ]
    }
   ],
   "source": [
    "# CÓDIGO 2\n",
    "x = 5\n",
    "if x > 5:\n",
    "    x = x * 2\n",
    "print(f'{x} == x <= 5')\n",
    "print('''CENÁRIO A: O print() está fora do bloco IF, e ele vai ser printado INDEPENDENTE da condição IF ser True ou False.\n",
    "      Nesse caso a condição IF foi False, e então o print foi mostrado com o valor inicial da variável x (5)''')\n",
    "print()\n",
    "\n",
    "x = 6\n",
    "if x > 5:\n",
    "    x = x * 2\n",
    "print(f'{x} == x > 5')\n",
    "print('''CENÁRIO B: O print está fora do bloco IF, e ele vai ser printado INDEPENDENTE da condição IF ser True ou False.\n",
    "      Nesse caso a condição IF foi True, por isso que o print foi mostrado com o cálculo que estava programado dentro \n",
    "      do bloco IF''')"
   ]
  },
  {
   "cell_type": "markdown",
   "metadata": {},
   "source": [
    "No código 1 o X dentro do bloco IF vai ser multiplicado por 2 e só vai ser printado caso o valor inicial da  \n",
    "variável x fosse maior que 5, de fato. (print está dentro do bloco IF)\n",
    "\n",
    "No código 2 foi printado o X fora do bloco IF, logo o valor de x é o valor inicial que foi atribuído na primeira linha  \n",
    "do código (5)... (print está fora do bloco IF)"
   ]
  },
  {
   "cell_type": "markdown",
   "metadata": {},
   "source": [
    "### Exercício para aprender melhor sobre **VARIÁVEIS**"
   ]
  },
  {
   "cell_type": "markdown",
   "metadata": {},
   "source": [
    "Declaração de variáveis por meio de VALORES  \n",
    "Nesse caso, você simplesmente atribuiu um valor qualquer a uma variável  \n",
    "Perceba que esse valor pode ser de QUALQUER um dos 4 tipos de dados suportados pelo python:  \n",
    "*String, Inteiro, Decimal ou Booleano*"
   ]
  },
  {
   "cell_type": "code",
   "execution_count": 1,
   "metadata": {},
   "outputs": [],
   "source": [
    "nome = 'João'\n",
    "var_bool = True\n",
    "raio = 2\n",
    "pi = 3.14159265359"
   ]
  },
  {
   "cell_type": "markdown",
   "metadata": {},
   "source": [
    "Declaração de variáveis por meio de EXPRESSÕES  \n",
    "Nesse caso, ao invés de atribuir diretamente valores, estamos atribuindo EXPRESSÕES que resultarão em um determinado valor  \n",
    " "
   ]
  },
  {
   "cell_type": "code",
   "execution_count": 2,
   "metadata": {},
   "outputs": [],
   "source": [
    "area = pi * (raio * raio)\n",
    "nome_completo = nome + 'da Silva'\n",
    "media = (10 + 15 + 20 + 25) / 4"
   ]
  },
  {
   "cell_type": "markdown",
   "metadata": {},
   "source": [
    "Só lembrando que o resultado do operador + usado com strings sempre será um dado do tipo STRING também, veja:"
   ]
  },
  {
   "cell_type": "code",
   "execution_count": 3,
   "metadata": {},
   "outputs": [
    {
     "data": {
      "text/plain": [
       "str"
      ]
     },
     "execution_count": 3,
     "metadata": {},
     "output_type": "execute_result"
    }
   ],
   "source": [
    "type(nome_completo)"
   ]
  },
  {
   "cell_type": "code",
   "execution_count": 4,
   "metadata": {},
   "outputs": [
    {
     "data": {
      "text/plain": [
       "float"
      ]
     },
     "execution_count": 4,
     "metadata": {},
     "output_type": "execute_result"
    }
   ],
   "source": [
    "type(media)"
   ]
  }
 ],
 "metadata": {
  "kernelspec": {
   "display_name": "Python 3",
   "language": "python",
   "name": "python3"
  },
  "language_info": {
   "codemirror_mode": {
    "name": "ipython",
    "version": 3
   },
   "file_extension": ".py",
   "mimetype": "text/x-python",
   "name": "python",
   "nbconvert_exporter": "python",
   "pygments_lexer": "ipython3",
   "version": "3.12.0"
  }
 },
 "nbformat": 4,
 "nbformat_minor": 2
}
