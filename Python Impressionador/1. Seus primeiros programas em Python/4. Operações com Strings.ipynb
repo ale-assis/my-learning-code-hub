{
 "cells": [
  {
   "cell_type": "markdown",
   "metadata": {},
   "source": [
    "# Aula 4 - Operações com Strings"
   ]
  },
  {
   "cell_type": "markdown",
   "metadata": {},
   "source": [
    "#### Concatenando diferentes strings"
   ]
  },
  {
   "cell_type": "code",
   "execution_count": 2,
   "metadata": {},
   "outputs": [
    {
     "name": "stdout",
     "output_type": "stream",
     "text": [
      "Olá, meu nome éAlexandre\n"
     ]
    }
   ],
   "source": [
    "print('Olá, meu nome é'+'Alexandre')"
   ]
  },
  {
   "cell_type": "markdown",
   "metadata": {},
   "source": [
    "Ao concatenar as duas strings acima, o texto ficou colado...  \n",
    "Nisso você vai ter que usar um espaço em uma das strings para separar elas:"
   ]
  },
  {
   "cell_type": "code",
   "execution_count": 3,
   "metadata": {},
   "outputs": [
    {
     "name": "stdout",
     "output_type": "stream",
     "text": [
      "Olá, meu nome é Alexandre\n",
      "Olá, meu nome é Alexandre\n"
     ]
    }
   ],
   "source": [
    "print('Olá, meu nome é '+'Alexandre')\n",
    "#OU\n",
    "print('Olá, meu nome é'+' Alexandre')"
   ]
  },
  {
   "cell_type": "markdown",
   "metadata": {},
   "source": [
    "#### Usando o operador *in* com strings"
   ]
  },
  {
   "cell_type": "markdown",
   "metadata": {},
   "source": [
    "Usar o in vai verificar se o elemento A está contido no elemento B  \n",
    "O in faz uma comparação lógica entre esses 2 elementos e retorna um valor de TRUE ou FALSE  \n",
    "Se A estiver dentro de B, então será TRUE  \n",
    "Se A não estiver dentro de B, então será FALSE    \n",
    "O tipo de dado do resultado será **BOOLEANO**"
   ]
  },
  {
   "cell_type": "code",
   "execution_count": 5,
   "metadata": {},
   "outputs": [
    {
     "name": "stdout",
     "output_type": "stream",
     "text": [
      "False\n",
      "False\n",
      "True\n",
      "True\n",
      "True\n",
      "True\n"
     ]
    },
    {
     "ename": "TypeError",
     "evalue": "argument of type 'int' is not iterable",
     "output_type": "error",
     "traceback": [
      "\u001b[1;31m---------------------------------------------------------------------------\u001b[0m",
      "\u001b[1;31mTypeError\u001b[0m                                 Traceback (most recent call last)",
      "Cell \u001b[1;32mIn[5], line 12\u001b[0m\n\u001b[0;32m      9\u001b[0m \u001b[38;5;28mprint\u001b[39m(\u001b[38;5;124m'\u001b[39m\u001b[38;5;124mHe\u001b[39m\u001b[38;5;124m'\u001b[39m \u001b[38;5;129;01min\u001b[39;00m \u001b[38;5;124m'\u001b[39m\u001b[38;5;124mHello World\u001b[39m\u001b[38;5;124m'\u001b[39m)\n\u001b[0;32m     10\u001b[0m \u001b[38;5;28mprint\u001b[39m(\u001b[38;5;124m'\u001b[39m\u001b[38;5;124mH\u001b[39m\u001b[38;5;124m'\u001b[39m \u001b[38;5;129;01min\u001b[39;00m \u001b[38;5;124m'\u001b[39m\u001b[38;5;124mHello World\u001b[39m\u001b[38;5;124m'\u001b[39m)\n\u001b[1;32m---> 12\u001b[0m \u001b[38;5;28mprint\u001b[39m(\u001b[38;5;241;43m1\u001b[39;49m\u001b[43m \u001b[49m\u001b[38;5;129;43;01min\u001b[39;49;00m\u001b[43m \u001b[49m\u001b[38;5;241;43m231\u001b[39;49m)\n",
      "\u001b[1;31mTypeError\u001b[0m: argument of type 'int' is not iterable"
     ]
    }
   ],
   "source": [
    "print('Olá, meu nome é ' in 'Alexandre')\n",
    "\n",
    "# A ordem dos elementos que o IN vai comparar também importa\n",
    "print('Olá, meu nome é ' in ('Olá'))\n",
    "print('Olá' in 'Olá, meu nome é')\n",
    "\n",
    "\n",
    "print('Hello' in 'Hello World')\n",
    "print('He' in 'Hello World')\n",
    "print('H' in 'Hello World')"
   ]
  },
  {
   "cell_type": "markdown",
   "metadata": {},
   "source": [
    "É útil usar o in para verificar se uma sílaba ou letra está contida em outra string, veja:"
   ]
  },
  {
   "cell_type": "code",
   "execution_count": 6,
   "metadata": {},
   "outputs": [
    {
     "name": "stdout",
     "output_type": "stream",
     "text": [
      "True\n"
     ]
    }
   ],
   "source": [
    "print('A' in 'Alexandre')"
   ]
  },
  {
   "cell_type": "markdown",
   "metadata": {},
   "source": [
    "O operador in é case sensitive  \n",
    "Veja os diferentes resultados que deu ao usar o operador in com letras maiúsculas e minúsculas  \n",
    "\n",
    "Perceba que abaixo a gente usou **uma vírgula para separar as strings das variáveis**"
   ]
  },
  {
   "cell_type": "code",
   "execution_count": 23,
   "metadata": {},
   "outputs": [
    {
     "name": "stdout",
     "output_type": "stream",
     "text": [
      "A:  True\n",
      "B:  False\n",
      "C:  True\n",
      "D:  True\n",
      "E:  True\n",
      "F:  False\n",
      "G:  False\n"
     ]
    }
   ],
   "source": [
    "result1 = 'Lira' in 'O Lira é top!'\n",
    "print('A: ', result1)\n",
    "\n",
    "result2 = 'lira' in 'O Lira é top!'\n",
    "print('B: ', result2)\n",
    "\n",
    "result3 = 'lira' in 'O lira é top!'\n",
    "print('C: ', result3)\n",
    "\n",
    "result4 = 'L' in 'O Lira é top!'\n",
    "print('D: ', result4)\n",
    "\n",
    "result5 = 'Li' in 'O Lira é top!'\n",
    "print('E: ', result5)\n",
    "\n",
    "result6 = 'li' in 'O Lira é top!'\n",
    "print('F: ', result6)\n",
    "\n",
    "result7 = 'l' in 'O Lira é top!'\n",
    "print('G: ', result7)"
   ]
  },
  {
   "cell_type": "markdown",
   "metadata": {},
   "source": [
    "A linha de código abaixo deu erro porque o operador in só faz comparação de textos,  \n",
    "Ele não consegue comparar números  \n",
    "Isso porque o tipo de dado dos números (int e decimal) não são ITERÁVEIS\n",
    "Só strings que são iteráveis"
   ]
  },
  {
   "cell_type": "code",
   "execution_count": 1,
   "metadata": {},
   "outputs": [
    {
     "ename": "TypeError",
     "evalue": "argument of type 'int' is not iterable",
     "output_type": "error",
     "traceback": [
      "\u001b[1;31m---------------------------------------------------------------------------\u001b[0m",
      "\u001b[1;31mTypeError\u001b[0m                                 Traceback (most recent call last)",
      "Cell \u001b[1;32mIn[1], line 1\u001b[0m\n\u001b[1;32m----> 1\u001b[0m \u001b[38;5;28mprint\u001b[39m(\u001b[38;5;241;43m1\u001b[39;49m\u001b[43m \u001b[49m\u001b[38;5;129;43;01min\u001b[39;49;00m\u001b[43m \u001b[49m\u001b[38;5;241;43m231\u001b[39;49m)\n",
      "\u001b[1;31mTypeError\u001b[0m: argument of type 'int' is not iterable"
     ]
    }
   ],
   "source": [
    "print(1 in 231)"
   ]
  }
 ],
 "metadata": {
  "kernelspec": {
   "display_name": "Python 3",
   "language": "python",
   "name": "python3"
  },
  "language_info": {
   "codemirror_mode": {
    "name": "ipython",
    "version": 3
   },
   "file_extension": ".py",
   "mimetype": "text/x-python",
   "name": "python",
   "nbconvert_exporter": "python",
   "pygments_lexer": "ipython3",
   "version": "3.12.0"
  }
 },
 "nbformat": 4,
 "nbformat_minor": 2
}
