{
 "cells": [
  {
   "cell_type": "markdown",
   "metadata": {},
   "source": [
    "# Aula 7 - Função INPUT"
   ]
  },
  {
   "cell_type": "markdown",
   "metadata": {},
   "source": [
    "#### Nessa aula vamos aprender a usar a função input() pegar informações do Usuário"
   ]
  },
  {
   "cell_type": "markdown",
   "metadata": {},
   "source": [
    "Ao usar o input e um texto dentro, ele vai fazer uma pergunta ao usuário  \n",
    "Em seguida, o input exibe a RESPOSTA que o usuário deu  \n",
    "A resposta vai ser sempre uma string"
   ]
  },
  {
   "cell_type": "code",
   "execution_count": 2,
   "metadata": {},
   "outputs": [
    {
     "data": {
      "text/plain": [
       "'Alexandre'"
      ]
     },
     "execution_count": 2,
     "metadata": {},
     "output_type": "execute_result"
    }
   ],
   "source": [
    "input('Qual é o seu nome?')\n"
   ]
  },
  {
   "cell_type": "markdown",
   "metadata": {},
   "source": [
    "Aqui o nome não foi exibido porque ele foi armazenado na variável **nome**"
   ]
  },
  {
   "cell_type": "code",
   "execution_count": 4,
   "metadata": {},
   "outputs": [],
   "source": [
    "nome = input('Qual é o seu nome? ')"
   ]
  },
  {
   "cell_type": "markdown",
   "metadata": {},
   "source": [
    "Aqui usamos o print para trabalhar com a informação que o usuário deu no INPUT"
   ]
  },
  {
   "cell_type": "code",
   "execution_count": 7,
   "metadata": {},
   "outputs": [
    {
     "name": "stdout",
     "output_type": "stream",
     "text": [
      "Olá Alexandre, seja bem vindo!\n"
     ]
    }
   ],
   "source": [
    "nome = input('Olá. Para começarmos, me diga qual o seu nome. ')\n",
    "print(f'Olá {nome}, seja bem vindo!')"
   ]
  },
  {
   "cell_type": "markdown",
   "metadata": {},
   "source": [
    "Solução 1 para exibir nome e sobrenome com o espaço aplicado entre eles"
   ]
  },
  {
   "cell_type": "code",
   "execution_count": 10,
   "metadata": {},
   "outputs": [
    {
     "name": "stdout",
     "output_type": "stream",
     "text": [
      "Alexandre  Assis\n"
     ]
    }
   ],
   "source": [
    "nome = input('Olá. Para começarmos, me diga qual o seu primeiro nome. ')\n",
    "sobrenome = input('Muito bem. Agora me diga o seu sobrenome, por favor. ')\n",
    "\n",
    "print(nome + ' ' + sobrenome)"
   ]
  },
  {
   "cell_type": "markdown",
   "metadata": {},
   "source": [
    "Solução 2 para exibir nome e sobrenome com o espaço aplicado entre eles "
   ]
  },
  {
   "cell_type": "code",
   "execution_count": 8,
   "metadata": {},
   "outputs": [
    {
     "name": "stdout",
     "output_type": "stream",
     "text": [
      "Olá Alexandre Assis, seja muito bem vindo!\n"
     ]
    }
   ],
   "source": [
    "nome = input('Olá. Para começarmos, me diga qual o seu primeiro nome. ')\n",
    "sobrenome = input('Muito bem. Agora me diga o seu sobrenome, por favor. ')\n",
    "nome_completo = nome + ' ' + sobrenome\n",
    "\n",
    "print(f'Olá {nome_completo}, seja muito bem vindo!')"
   ]
  },
  {
   "cell_type": "markdown",
   "metadata": {},
   "source": [
    "Solução 3 para exibir nome e sobrenome com o espaço aplicado entre eles"
   ]
  },
  {
   "cell_type": "code",
   "execution_count": 9,
   "metadata": {},
   "outputs": [
    {
     "name": "stdout",
     "output_type": "stream",
     "text": [
      "Olá Alexandre Assis, seja muito bem vindo!\n"
     ]
    }
   ],
   "source": [
    "nome = input('Olá. Para começarmos, me diga qual o seu primeiro nome. ')\n",
    "sobrenome = input('Muito bem. Agora me diga o seu sobrenome, por favor. ')\n",
    "\n",
    "print(f'Olá {nome + ' ' + sobrenome}, seja muito bem vindo!')"
   ]
  },
  {
   "cell_type": "markdown",
   "metadata": {},
   "source": [
    "#### Calculando LUCRO de uma empresa"
   ]
  },
  {
   "cell_type": "markdown",
   "metadata": {},
   "source": [
    "Perceba que abaixo eu usei a função int() para CONVERTER o tipo de dado gerado pelo input()  \n",
    "Nesse caso converteu de str para int  \n",
    "Com isso eu consegui fazer a operação entre as variáveis de faturamento e custos"
   ]
  },
  {
   "cell_type": "code",
   "execution_count": 4,
   "metadata": {},
   "outputs": [
    {
     "name": "stdout",
     "output_type": "stream",
     "text": [
      "O lucro bruto da sua empresa é de 250,00 reais.\n"
     ]
    }
   ],
   "source": [
    "faturamento = int(input('Por favor, informe o faturamento total da sua empresa: '))\n",
    "custos = int(input('Por favor, informe os custos totais da sua empresa: '))\n",
    "lucro = faturamento - custos\n",
    "\n",
    "print(f'O lucro bruto da sua empresa é de {lucro},00 reais.')"
   ]
  }
 ],
 "metadata": {
  "kernelspec": {
   "display_name": "Python 3",
   "language": "python",
   "name": "python3"
  },
  "language_info": {
   "codemirror_mode": {
    "name": "ipython",
    "version": 3
   },
   "file_extension": ".py",
   "mimetype": "text/x-python",
   "name": "python",
   "nbconvert_exporter": "python",
   "pygments_lexer": "ipython3",
   "version": "3.12.0"
  }
 },
 "nbformat": 4,
 "nbformat_minor": 2
}
