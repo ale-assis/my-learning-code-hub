{
 "cells": [
  {
   "cell_type": "markdown",
   "metadata": {},
   "source": [
    "# Aula 6 - Variáveis no python"
   ]
  },
  {
   "cell_type": "markdown",
   "metadata": {},
   "source": [
    "#### Algumas regras para usar variáveis"
   ]
  },
  {
   "cell_type": "markdown",
   "metadata": {},
   "source": [
    "Variáveis que tem mais de uma palavra NÃO podem ter espaço"
   ]
  },
  {
   "cell_type": "code",
   "execution_count": 4,
   "metadata": {},
   "outputs": [
    {
     "name": "stdout",
     "output_type": "stream",
     "text": [
      "100\n",
      "100\n",
      "100\n",
      "100\n",
      "100\n",
      "100\n"
     ]
    }
   ],
   "source": [
    "quantidadedevendas = 100\n",
    "#OU\n",
    "quantidade_de_vendas = 100\n",
    "#OU\n",
    "quantidadeDeVendas = 100\n",
    "#OU\n",
    "Quantidadedevendas = 100\n",
    "#OU\n",
    "Quantidade_de_vendas = 100\n",
    "#OU\n",
    "QuantidadeDeVendas = 100\n",
    "\n",
    "print(f'''{quantidadedevendas}\n",
    "{quantidade_de_vendas}\n",
    "{quantidadeDeVendas}\n",
    "{Quantidadedevendas}\n",
    "{Quantidade_de_vendas}\n",
    "{QuantidadeDeVendas}''')"
   ]
  },
  {
   "cell_type": "code",
   "execution_count": null,
   "metadata": {},
   "outputs": [],
   "source": []
  }
 ],
 "metadata": {
  "kernelspec": {
   "display_name": "Python 3",
   "language": "python",
   "name": "python3"
  },
  "language_info": {
   "codemirror_mode": {
    "name": "ipython",
    "version": 3
   },
   "file_extension": ".py",
   "mimetype": "text/x-python",
   "name": "python",
   "nbconvert_exporter": "python",
   "pygments_lexer": "ipython3",
   "version": "3.12.0"
  }
 },
 "nbformat": 4,
 "nbformat_minor": 2
}
