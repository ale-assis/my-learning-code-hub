{
 "cells": [
  {
   "cell_type": "markdown",
   "id": "1b2f751f",
   "metadata": {},
   "source": [
    "# Aula 1 - Conceitos iniciais 1"
   ]
  },
  {
   "cell_type": "markdown",
   "id": "19a76835",
   "metadata": {},
   "source": [
    "Aqui você vai imprimir o número 123 (cento e vinte e três)  \n",
    "**Tipo de dado**: número"
   ]
  },
  {
   "cell_type": "code",
   "execution_count": 1,
   "id": "771539e6",
   "metadata": {},
   "outputs": [
    {
     "name": "stdout",
     "output_type": "stream",
     "text": [
      "123\n"
     ]
    }
   ],
   "source": [
    "print(123)"
   ]
  },
  {
   "cell_type": "markdown",
   "id": "f084cf6c",
   "metadata": {},
   "source": [
    "Aqui você vai imprimir a STRING 123 usando **ASPAS SIMPLES**, ou seja: uma sequência com o número 1, 2 e 3  \n",
    "**Tipo de dado**: string"
   ]
  },
  {
   "cell_type": "code",
   "execution_count": 2,
   "id": "3e309be4",
   "metadata": {},
   "outputs": [
    {
     "name": "stdout",
     "output_type": "stream",
     "text": [
      "123\n"
     ]
    }
   ],
   "source": [
    "print('123')"
   ]
  },
  {
   "cell_type": "markdown",
   "id": "828111f1",
   "metadata": {},
   "source": [
    "Aqui você vai imprimir a STRING 123 usando **ASPAS DUPLAS**, ou seja: uma sequência com o número 1, 2 e 3  \n",
    "**Tipo de dado:** string"
   ]
  },
  {
   "cell_type": "code",
   "execution_count": 3,
   "id": "ba36f6a3",
   "metadata": {
    "scrolled": true
   },
   "outputs": [
    {
     "name": "stdout",
     "output_type": "stream",
     "text": [
      "123\n"
     ]
    }
   ],
   "source": [
    "print(\"123\")"
   ]
  },
  {
   "cell_type": "markdown",
   "id": "5770d1d9",
   "metadata": {},
   "source": [
    "Você pode escrever uma STRING entre aspas duplas ou aspas simples\n",
    "\n",
    "\n",
    "Por padrão, é comum usar sempre aspas SIMPLES, pois há casos onde você precisa usar aspas duplas DENTRO da string também."
   ]
  },
  {
   "cell_type": "code",
   "execution_count": 4,
   "id": "82d979e9",
   "metadata": {},
   "outputs": [
    {
     "name": "stdout",
     "output_type": "stream",
     "text": [
      "novo código\n"
     ]
    }
   ],
   "source": [
    "print('novo código')"
   ]
  },
  {
   "cell_type": "markdown",
   "id": "46997ace",
   "metadata": {},
   "source": [
    "A linha de código abaixo deu erro porque \"novo codigo\" não foi escrito entre aspas\n",
    "\n",
    "\n",
    "Logo, o python entende que é uma **VARIÁVEL**\n",
    "\n",
    "E como essa variável não foi declarada, então deu esse erro\n",
    "\n",
    "\n",
    "Mas na verdade, ocorreu um erro de **SINTAXE**:\n",
    "\n",
    "\n",
    "*o nome de uma variável NÃO pode ter espaços*"
   ]
  },
  {
   "cell_type": "code",
   "execution_count": 5,
   "id": "bc21c33f",
   "metadata": {
    "scrolled": true
   },
   "outputs": [
    {
     "ename": "SyntaxError",
     "evalue": "invalid syntax. Perhaps you forgot a comma? (4028695563.py, line 1)",
     "output_type": "error",
     "traceback": [
      "\u001b[1;36m  Cell \u001b[1;32mIn[5], line 1\u001b[1;36m\u001b[0m\n\u001b[1;33m    print(novo codigo)\u001b[0m\n\u001b[1;37m          ^\u001b[0m\n\u001b[1;31mSyntaxError\u001b[0m\u001b[1;31m:\u001b[0m invalid syntax. Perhaps you forgot a comma?\n"
     ]
    }
   ],
   "source": [
    "print(novo codigo)"
   ]
  },
  {
   "cell_type": "markdown",
   "id": "903783c8",
   "metadata": {},
   "source": [
    "Então, o certo é você digitar uma variável de 2 formas"
   ]
  },
  {
   "cell_type": "markdown",
   "id": "07bf674b",
   "metadata": {},
   "source": [
    "1º Forma: escrevendo o nome tudo junto, sem espaços"
   ]
  },
  {
   "cell_type": "code",
   "execution_count": 5,
   "id": "657ee7a3",
   "metadata": {},
   "outputs": [
    {
     "name": "stdout",
     "output_type": "stream",
     "text": [
      "Hello World!\n"
     ]
    }
   ],
   "source": [
    "novocodigo = 'Hello World!'\n",
    "print(novocodigo)"
   ]
  },
  {
   "cell_type": "markdown",
   "id": "5416d56d",
   "metadata": {},
   "source": [
    "2º Forma: escrevendo com um underline separando os nomes"
   ]
  },
  {
   "cell_type": "code",
   "execution_count": 7,
   "id": "8ea9c9f6",
   "metadata": {},
   "outputs": [
    {
     "name": "stdout",
     "output_type": "stream",
     "text": [
      "Hello World!\n"
     ]
    }
   ],
   "source": [
    "novo_codigo = 'Hello World!'\n",
    "print(novo_codigo)"
   ]
  }
 ],
 "metadata": {
  "kernelspec": {
   "display_name": "Python 3 (ipykernel)",
   "language": "python",
   "name": "python3"
  },
  "language_info": {
   "codemirror_mode": {
    "name": "ipython",
    "version": 3
   },
   "file_extension": ".py",
   "mimetype": "text/x-python",
   "name": "python",
   "nbconvert_exporter": "python",
   "pygments_lexer": "ipython3",
   "version": "3.12.0"
  }
 },
 "nbformat": 4,
 "nbformat_minor": 5
}
