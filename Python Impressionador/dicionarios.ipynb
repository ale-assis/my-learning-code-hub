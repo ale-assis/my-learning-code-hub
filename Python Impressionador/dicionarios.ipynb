{
 "cells": [
  {
   "metadata": {},
   "cell_type": "markdown",
   "source": "## Dicionários",
   "id": "ea6f5bf9cc7775b3"
  },
  {
   "metadata": {},
   "cell_type": "markdown",
   "source": "Criando um dicionário",
   "id": "f4b2440639a1645c"
  },
  {
   "metadata": {},
   "cell_type": "code",
   "source": [
    "mais_vendidos = {'tecnologia': 'iphone', 'refrigeracao': 'ar consul 12000 btu', 'livros': 'o alquimista', 'eletrodomestico': 'geladeira', 'lazer': 'prancha surf'}\n",
    "print(mais_vendidos)"
   ],
   "id": "457106a6ad4b9408",
   "outputs": [
    {
     "name": "stdout",
     "output_type": "stream",
     "text": [
      "{'tecnologia': 'iphone', 'refrigeracao': 'ar consul 12000 btu', 'livros': 'o alquimista', 'eletrodomestico': 'geladeira', 'lazer': 'prancha surf'}\n"
     ]
    }
   ],
   "execution_count": 1
  },
  {
   "metadata": {},
   "cell_type": "markdown",
   "source": "Acessando um valor específico de um dicionário #1: simplesmente printando a variável do dicionário e a etiqueta da chave",
   "id": "396da174fb8b1f2e"
  },
  {
   "metadata": {
    "ExecuteTime": {
     "end_time": "2024-06-18T14:48:05.339561Z",
     "start_time": "2024-06-18T14:48:05.051812Z"
    }
   },
   "cell_type": "code",
   "source": "print(mais_vendidos['livros'])",
   "id": "ee44ef4cbb838442",
   "outputs": [
    {
     "name": "stdout",
     "output_type": "stream",
     "text": [
      "o alquimista\n"
     ]
    }
   ],
   "execution_count": 3
  },
  {
   "metadata": {},
   "cell_type": "markdown",
   "source": "Acessando um valor específico de um dicionário #2: atribuindo esse valor a uma variável",
   "id": "c524172020b7e49b"
  },
  {
   "metadata": {
    "ExecuteTime": {
     "end_time": "2024-06-18T14:16:21.073321Z",
     "start_time": "2024-06-18T14:16:21.059325Z"
    }
   },
   "cell_type": "code",
   "source": [
    "livro_mais_vendido = mais_vendidos['livros']\n",
    "print(livro_mais_vendido)"
   ],
   "id": "713004d19013020a",
   "outputs": [
    {
     "name": "stdout",
     "output_type": "stream",
     "text": [
      "o alquimista\n"
     ]
    }
   ],
   "execution_count": 2
  },
  {
   "metadata": {},
   "cell_type": "markdown",
   "source": "Acessando um valor específico de um dicionário #3: usando o `.get()`",
   "id": "e1bf346f67139cc3"
  },
  {
   "metadata": {
    "ExecuteTime": {
     "end_time": "2024-06-18T14:48:58.644722Z",
     "start_time": "2024-06-18T14:48:58.624736Z"
    }
   },
   "cell_type": "code",
   "source": "print(mais_vendidos.get('livros'))",
   "id": "c8f13bcdb7f7d734",
   "outputs": [
    {
     "name": "stdout",
     "output_type": "stream",
     "text": [
      "o alquimista\n"
     ]
    }
   ],
   "execution_count": 4
  },
  {
   "metadata": {},
   "cell_type": "markdown",
   "source": "É só passar a CHAVE como argumento da função",
   "id": "64d715bfa289b9f4"
  },
  {
   "metadata": {},
   "cell_type": "code",
   "outputs": [],
   "execution_count": null,
   "source": "",
   "id": "cc49154d726ff87b"
  }
 ],
 "metadata": {
  "kernelspec": {
   "display_name": "Python 3",
   "language": "python",
   "name": "python3"
  },
  "language_info": {
   "codemirror_mode": {
    "name": "ipython",
    "version": 2
   },
   "file_extension": ".py",
   "mimetype": "text/x-python",
   "name": "python",
   "nbconvert_exporter": "python",
   "pygments_lexer": "ipython2",
   "version": "2.7.6"
  }
 },
 "nbformat": 4,
 "nbformat_minor": 5
}
