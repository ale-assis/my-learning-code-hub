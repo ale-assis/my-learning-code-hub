{
 "cells": [
  {
   "metadata": {},
   "cell_type": "markdown",
   "source": [
    "É preferível usar tuplas com dados heterogêneos  \n",
    "Se for dados homogêneos, então usa uma lista mesmo  \n",
    "Se for dados heterogêneos, então usa uma tupla"
   ],
   "id": "3c9e7e820809365b"
  },
  {
   "metadata": {
    "ExecuteTime": {
     "end_time": "2024-06-12T10:33:14.187526Z",
     "start_time": "2024-06-12T10:33:14.166539Z"
    }
   },
   "cell_type": "code",
   "source": [
    "#criando tuplas e listas\n",
    "lista = ['Alexandre', 26, 'Outubro', 1997]\n",
    "tupla = ('Alexandre', 26, 'Outubro', 1997)"
   ],
   "id": "1b2b995a22000f93",
   "outputs": [],
   "execution_count": 1
  },
  {
   "metadata": {},
   "cell_type": "markdown",
   "source": [
    "Atribuindo valores de uma lista a variáveis e então alterando os valores dessa lista  \n",
    "Primeiro altera os valores e depois atribui novamente as variáveis  \n",
    "Se você altera os valores de uma lista 1 vez, já era, não dá pra voltar atrás.  \n",
    "Aí para ficar alterando você vai ter que fazer novas alterações ou rodar a lista original denovo"
   ],
   "id": "2e970dd2e8e7bb22"
  },
  {
   "metadata": {
    "ExecuteTime": {
     "end_time": "2024-06-10T13:15:44.883431Z",
     "start_time": "2024-06-10T13:15:44.869792Z"
    }
   },
   "cell_type": "code",
   "source": [
    "#atribuindo diferentes itens da lista a diferentes variáveis \n",
    "nome = lista[0] \n",
    "idade = lista[1]\n",
    "mes_nascimento = lista[2]\n",
    "ano_nascimento = lista[3]\n",
    "\n",
    "\n",
    "#alterando valores de uma lista\n",
    "lista[0] = 'Arthur'\n",
    "lista[1]= 10\n",
    "lista[2] = 'Maio'\n",
    "lista[3] = 2014\n",
    "#Alterei os valores da lista, mas esses valores ainda não foram atribuidos nas variaveis nome, idade, mes e ano\n",
    "\n",
    "print(lista)\n",
    "print(nome, idade, mes_nascimento, ano_nascimento)"
   ],
   "id": "1c23da4fb3c618ee",
   "outputs": [
    {
     "name": "stdout",
     "output_type": "stream",
     "text": [
      "['Arthur', 10, 'Maio', 2014]\n",
      "Alexandre 26 Outubro 1997\n"
     ]
    }
   ],
   "execution_count": 19
  },
  {
   "metadata": {},
   "cell_type": "markdown",
   "source": "Atribuindo valores de uma tupla a variáveis individuais",
   "id": "326df4fc7773648c"
  },
  {
   "metadata": {},
   "cell_type": "code",
   "outputs": [],
   "execution_count": null,
   "source": [
    "# atribuindo diferentes itens da tupla a diferentes variáveis\n",
    "nome = tupla[0]\n",
    "idade = tupla[1]\n",
    "mes_nascimento = tupla[2]\n",
    "ano_nascimento = tupla[3]\n",
    "print(nome, idade, mes_nascimento, ano_nascimento)"
   ],
   "id": "ebca8659c57207d"
  },
  {
   "metadata": {},
   "cell_type": "markdown",
   "source": [
    "# Fazendo unpack de tuplas  \n",
    "Unpack é basicamente você atribuir todos os itens de uma tupla a respectivas variáveis  \n",
    "A qtdade de itens da tupla e de variáveis deve ser exatamente a mesma, senão o python vai dar erros  \n",
    "unpack pode ser usado com listas também"
   ],
   "id": "539581278b7ce5a4"
  },
  {
   "metadata": {
    "ExecuteTime": {
     "end_time": "2024-06-10T13:07:45.379940Z",
     "start_time": "2024-06-10T13:07:45.371945Z"
    }
   },
   "cell_type": "code",
   "source": [
    "tupla2 =('Hunter x Hunter', 1998, 400, 'Shounen', 'Shounen Jump')\n",
    "nome_obra, ano_lancamento, qtd_capitulos, genero, revista = tupla2\n",
    "\n",
    "print(nome_obra, ano_lancamento, qtd_capitulos, genero, revista)"
   ],
   "id": "287375fb2ebd78cc",
   "outputs": [
    {
     "name": "stdout",
     "output_type": "stream",
     "text": [
      "Hunter x Hunter 1998 400 Shounen Shounen Jump\n"
     ]
    }
   ],
   "execution_count": 9
  },
  {
   "metadata": {
    "ExecuteTime": {
     "end_time": "2024-06-11T16:56:10.811470Z",
     "start_time": "2024-06-11T16:56:10.489630Z"
    }
   },
   "cell_type": "code",
   "source": [
    "lista3 = ['Hunter x Hunter', 1998, 400, 'Shounen', 'Shounen Jump']\n",
    "nome_obra, ano_lancamento, qtd_capitulos, genero, revista = lista3\n",
    "\n",
    "print(nome_obra, ano_lancamento, qtd_capitulos, genero, revista)"
   ],
   "id": "ba65de8174e992fd",
   "outputs": [
    {
     "name": "stdout",
     "output_type": "stream",
     "text": [
      "Hunter x Hunter 1998 400 Shounen Shounen Jump\n"
     ]
    }
   ],
   "execution_count": 1
  },
  {
   "metadata": {},
   "cell_type": "markdown",
   "source": "# Usando enumerate()",
   "id": "4ca66e31f3edb321"
  },
  {
   "metadata": {},
   "cell_type": "markdown",
   "source": "`enumerate()`vai enumerar os itens de uma lista ou tupla",
   "id": "ffd8f24cc7fa74f0"
  },
  {
   "metadata": {
    "ExecuteTime": {
     "end_time": "2024-06-11T16:57:22.516064Z",
     "start_time": "2024-06-11T16:57:22.480085Z"
    }
   },
   "cell_type": "code",
   "source": [
    "#criando lista só pra testar o enumerate\n",
    "vendas = [1000, 500, 155, 300, 987]\n",
    "funcionarios = ['Lira', 'Claudia', 'Roberto', 'Ana', 'Beatriz']\n",
    "\n",
    "#usando enumerate com listas\n",
    "for item in enumerate(vendas):\n",
    "    print(item)\n",
    "\n",
    "print()\n",
    "\n",
    "tupla2 = ('Hunter x Hunter', 1998, 400, 'Shounen', 'Shounen Jump')\n",
    "#usando enumerate com tuplas\n",
    "for item in enumerate(tupla2):\n",
    "    print(item)\n",
    "    \n"
   ],
   "id": "a5877fededd2668e",
   "outputs": [
    {
     "name": "stdout",
     "output_type": "stream",
     "text": [
      "(0, 1000)\n",
      "(1, 500)\n",
      "(2, 155)\n",
      "(3, 300)\n",
      "(4, 987)\n",
      "\n",
      "(0, 'Hunter x Hunter')\n",
      "(1, 1998)\n",
      "(2, 400)\n",
      "(3, 'Shounen')\n",
      "(4, 'Shounen Jump')\n"
     ]
    }
   ],
   "execution_count": 3
  },
  {
   "metadata": {},
   "cell_type": "markdown",
   "source": [
    "# Combinando unpacking com enumerate()  \n",
    "Aqui usamos o unpacking de LISTAS para printar o número de cada item da nossa lista  \n",
    "O número de cada item foi gerado por causa do enumerate()  \n",
    "O enumerate() retorna uma tupla com 2 valores, o número e o item original da lista. Uma tupla com esses 2 valores é criada para cada item da lista  \n"
   ],
   "id": "987b70e118f8ea1e"
  },
  {
   "metadata": {},
   "cell_type": "markdown",
   "source": "Usando enumerate + unpack de LISTAS\n",
   "id": "46bc8bab9229ce93"
  },
  {
   "metadata": {
    "ExecuteTime": {
     "end_time": "2024-06-11T19:22:13.860344Z",
     "start_time": "2024-06-11T19:22:13.842353Z"
    }
   },
   "cell_type": "code",
   "source": [
    "vendas = [1000, 500, 155, 300, 987]\n",
    "funcionarios = ['Lira', 'Claudia', 'Roberto', 'Ana', 'Beatriz']\n",
    "\n",
    "# forma menos ideal de fazer o código:\n",
    "for item in enumerate(vendas):\n",
    "    e1, venda = item #atribuir o output do enumerate em i e 1 item da lista em vendas, e faz isso a cada iteração\n",
    "    print(f'O funcionário {funcionarios[e1]} teve {venda} vendas')"
   ],
   "id": "7dfbc536a8a9a65b",
   "outputs": [
    {
     "name": "stdout",
     "output_type": "stream",
     "text": [
      "O funcionário Lira teve 1000 vendas\n",
      "O funcionário Claudia teve 500 vendas\n",
      "O funcionário Roberto teve 155 vendas\n",
      "O funcionário Ana teve 300 vendas\n",
      "O funcionário Beatriz teve 987 vendas\n"
     ]
    }
   ],
   "execution_count": 49
  },
  {
   "metadata": {
    "ExecuteTime": {
     "end_time": "2024-06-11T19:21:24.958348Z",
     "start_time": "2024-06-11T19:21:24.941360Z"
    }
   },
   "cell_type": "code",
   "source": [
    "vendas = [1000, 500, 155, 300, 987]\n",
    "funcionarios = ['Lira', 'Claudia', 'Roberto', 'Ana', 'Beatriz']\n",
    "\n",
    "# forma mais elegante de fazer o código:\n",
    "for i, numero_vendas in enumerate(vendas):\n",
    "    print(f'O funcionário {funcionarios[i]} vendeu {numero_vendas}')"
   ],
   "id": "b720d496fce605a1",
   "outputs": [
    {
     "name": "stdout",
     "output_type": "stream",
     "text": [
      "O funcionário Lira vendeu 1000\n",
      "O funcionário Claudia vendeu 500\n",
      "O funcionário Roberto vendeu 155\n",
      "O funcionário Ana vendeu 300\n",
      "O funcionário Beatriz vendeu 987\n"
     ]
    }
   ],
   "execution_count": 47
  },
  {
   "metadata": {},
   "cell_type": "markdown",
   "source": "Enumerate + unpack TUPLAS\n",
   "id": "ae23e43f66e3e62c"
  },
  {
   "metadata": {
    "ExecuteTime": {
     "end_time": "2024-06-11T18:43:10.315459Z",
     "start_time": "2024-06-11T18:43:10.293931Z"
    }
   },
   "cell_type": "code",
   "source": [
    "tupla2 = ('Hunter x Hunter', 1998, 400, 'Shounen', 'Shounen Jump')\n",
    "\n",
    "#forma menos ideal de código\n",
    "for i in enumerate(tupla2):\n",
    "    enumerador2, tupla_item = i\n",
    "    print(enumerador2)\n",
    "    print(tupla_item)"
   ],
   "id": "780f00bd1a4951c0",
   "outputs": [
    {
     "name": "stdout",
     "output_type": "stream",
     "text": [
      "0\n",
      "Hunter x Hunter\n",
      "1\n",
      "1998\n",
      "2\n",
      "400\n",
      "3\n",
      "Shounen\n",
      "4\n",
      "Shounen Jump\n"
     ]
    }
   ],
   "execution_count": 32
  },
  {
   "metadata": {
    "ExecuteTime": {
     "end_time": "2024-06-11T19:41:01.724031Z",
     "start_time": "2024-06-11T19:41:01.667475Z"
    }
   },
   "cell_type": "code",
   "source": [
    "tupla2 = ('Hunter x Hunter', 1998, 400, 'Shounen', 'Shounen Jump')\n",
    "\n",
    "#forma elegante - imprimindo cada item de forma individual da tupla\n",
    "for enumerador, manga_info in enumerate(tupla2):\n",
    "    print(tupla2[enumerador])"
   ],
   "id": "2d0165c2b89cb9bc",
   "outputs": [
    {
     "name": "stdout",
     "output_type": "stream",
     "text": [
      "Hunter x Hunter\n",
      "1998\n",
      "400\n",
      "Shounen\n",
      "Shounen Jump\n"
     ]
    }
   ],
   "execution_count": 50
  },
  {
   "metadata": {},
   "cell_type": "markdown",
   "source": "# Unpacking de lista com várias tuplas",
   "id": "2c23a0297b52556a"
  },
  {
   "metadata": {},
   "cell_type": "markdown",
   "source": [
    "É possível criar uma lista que tenha várias tuplas como cada item dessa lista.  \n",
    "Não se esqueça de usar as vírgulas entre as tuplas e usar vírgula na ÚLTIMA TUPLA"
   ],
   "id": "850c3766fc488"
  },
  {
   "metadata": {
    "ExecuteTime": {
     "end_time": "2024-06-12T10:57:08.294084Z",
     "start_time": "2024-06-12T10:57:08.178157Z"
    }
   },
   "cell_type": "code",
   "source": [
    "vendas = [\n",
    "    ('20/08/2024', 'iphone x', 'azul', '128gb', 350, 4000),\n",
    "    ('20/08/2024', 'iphone x', 'prata', '128gb', 1500, 4000),\n",
    "    ('20/08/2024', 'ipad', 'azul', '256gb', 127, 6000),\n",
    "    ('20/08/2024', 'ipad', 'prata', '128gb', 981, 5000),\n",
    "    ('21/08/2024', 'iphone x', 'azul', '128gb', 397, 4000),\n",
    "    ('21/08/2024', 'iphone x', 'prata', '128gb', 1017, 4000),\n",
    "    ('21/08/2024', 'ipad', 'prata', '256gb', 50, 6000),\n",
    "    ('21/08/2024', 'ipad', 'prata', '128gb', 4000, 5000),\n",
    "]"
   ],
   "id": "6555c7353d247bf",
   "outputs": [],
   "execution_count": 2
  },
  {
   "metadata": {},
   "cell_type": "markdown",
   "source": [
    "Multiplicando itens de uma tupla direto pelo índice  \n",
    "Como a estrutura vendas é uma lista que possui uma tupla, ou seja, 2 dimensões, eu precisei passar 2 índices:"
   ],
   "id": "6f883590370a2e90"
  },
  {
   "metadata": {
    "ExecuteTime": {
     "end_time": "2024-06-12T12:01:44.123389Z",
     "start_time": "2024-06-12T12:01:44.111396Z"
    }
   },
   "cell_type": "code",
   "source": [
    "faturamento = vendas[0][4] * vendas[0][5]\n",
    "print(f'Faturamento da primeira tupla: {faturamento}')"
   ],
   "id": "ceee5cbd95509c30",
   "outputs": [
    {
     "name": "stdout",
     "output_type": "stream",
     "text": [
      "Faturamento da primeira tupla: 1400000\n"
     ]
    }
   ],
   "execution_count": 15
  },
  {
   "metadata": {},
   "cell_type": "markdown",
   "source": [
    "Só que fazer dessa forma não é muito intuitivo, pois não vamos saber quem estamos multiplicando.  \n",
    "Por isso que nesses casos recomenda-se o unpacking  \n",
    "Vamos fazer o unpacking seletivo, ou seja, apenas de um elemento da lista  \n",
    "Como é uma lista de tuplas, abaixo fizemos o unpacking apenas da primeira tupla  "
   ],
   "id": "61a8c1ec63a6d11"
  },
  {
   "metadata": {
    "ExecuteTime": {
     "end_time": "2024-06-12T12:06:09.008568Z",
     "start_time": "2024-06-12T12:06:08.988582Z"
    }
   },
   "cell_type": "code",
   "source": [
    "data, produto, cor, capacidade, unidades, preco = vendas[0]\n",
    "print(vendas[0])\n",
    "faturamento = unidades * preco\n",
    "print(faturamento)"
   ],
   "id": "784d16a488fec449",
   "outputs": [
    {
     "name": "stdout",
     "output_type": "stream",
     "text": [
      "('20/08/2024', 'iphone x', 'azul', '128gb', 350, 4000)\n",
      "1400000\n"
     ]
    }
   ],
   "execution_count": 19
  },
  {
   "metadata": {},
   "cell_type": "markdown",
   "source": [
    "Fazendo o unpacking dessa lista, onde vamos armazenas cada valor das tuplas em uma variável principal.  \n",
    "Exemplo: todos os valores de cores vai ser armazenado em uma variável chamada \"cor\"  \n",
    "Lembrando que para o unpacking dar certo, a quantidade de variáveis deve ser a mesma quantidade de ITENS de cada tupla"
   ],
   "id": "f398dffd8ad5ec4c"
  },
  {
   "metadata": {},
   "cell_type": "markdown",
   "source": "Usando o unpacking de tuplas para calcular o faturamento do iphone no dia 20/08/2024",
   "id": "1618ac6f26b357c7"
  },
  {
   "metadata": {
    "ExecuteTime": {
     "end_time": "2024-06-12T11:07:40.366195Z",
     "start_time": "2024-06-12T11:07:40.347207Z"
    }
   },
   "cell_type": "code",
   "source": [
    "faturamento = 0\n",
    "for item in vendas:\n",
    "    data, produto, cor, armazenamento, unidades_vendidas,preco = item\n",
    "    if produto == 'iphone x' and data == '20/08/2024':\n",
    "        faturamento += unidades_vendidas * preco\n",
    "print(faturamento)"
   ],
   "id": "80f5c8d884c9e709",
   "outputs": [
    {
     "name": "stdout",
     "output_type": "stream",
     "text": [
      "7400000\n"
     ]
    }
   ],
   "execution_count": 6
  },
  {
   "metadata": {},
   "cell_type": "markdown",
   "source": "Usando o unpacking de tuplas para identificar qual foi o produto mais vendido no dia 21/08/2024",
   "id": "36263415b2244bff"
  },
  {
   "metadata": {
    "ExecuteTime": {
     "end_time": "2024-06-12T11:19:54.057221Z",
     "start_time": "2024-06-12T11:19:54.037231Z"
    }
   },
   "cell_type": "code",
   "source": [
    "# código que eu fiz\n",
    "\n",
    "contador = 0\n",
    "contador2 = 0\n",
    "for item in vendas:\n",
    "    data, produto, cor, armazenamento, unidades_vendidas,preco = item\n",
    "    if produto == 'iphone x' and data == '21/08/2024':\n",
    "        contador += unidades_vendidas\n",
    "    if produto == 'ipad' and data == '21/08/2024':\n",
    "        contador2 += unidades_vendidas\n",
    "print(f'Quantidade vendidas de iphone: {contador}')\n",
    "print(f'Quantidade vendidas de ipad: {contador2}')\n",
    "if contador2 > contador:\n",
    "    print('O produto mais vendido foi o Ipad')\n",
    "else:\n",
    "    print('O produto mais vendido foi o Iphone x')"
   ],
   "id": "8ec2b29fb075e7eb",
   "outputs": [
    {
     "name": "stdout",
     "output_type": "stream",
     "text": [
      "Quantidade vendidas de iphone: 1414\n",
      "Quantidade vendidas de ipad: 4050\n",
      "O produto mais vendido foi o Ipad\n"
     ]
    }
   ],
   "execution_count": 12
  },
  {
   "metadata": {
    "ExecuteTime": {
     "end_time": "2024-06-12T11:26:28.009975Z",
     "start_time": "2024-06-12T11:26:27.911101Z"
    }
   },
   "cell_type": "code",
   "source": [
    "# correção da hashtag\n",
    "\n",
    "faturamento = 0\n",
    "qtde_produto_mais_vendido = 0\n",
    "for item in vendas:\n",
    "    data, produto, cor, armazenamento, unidades_vendidas, preco = item\n",
    "    if data == '21/08/2024':\n",
    "        if unidades_vendidas > qtde_produto_mais_vendido:\n",
    "            produto_mais_vendido = produto\n",
    "            qtde_produto_mais_vendido = unidades_vendidas\n",
    "print(f'O produto mais vendido no dia 21/08/2024 foi o {produto} com {unidades_vendidas} unidades vendidas.')"
   ],
   "id": "751b650ba2d6beba",
   "outputs": [
    {
     "name": "stdout",
     "output_type": "stream",
     "text": [
      "O produto mais vendido no dia 21/08/2024 foi o ipad com 4000 unidades vendidas.\n"
     ]
    }
   ],
   "execution_count": 13
  },
  {
   "metadata": {},
   "cell_type": "markdown",
   "source": "Agora vamos incluir a cor e a capacidade",
   "id": "4e708837d46c228d"
  },
  {
   "metadata": {
    "ExecuteTime": {
     "end_time": "2024-06-12T12:24:39.759204Z",
     "start_time": "2024-06-12T12:24:39.590286Z"
    }
   },
   "cell_type": "code",
   "source": [
    "# correção da hashtag\n",
    "\n",
    "produto_mais_vendido = ''\n",
    "qtde_produto_mais_vendido = 0\n",
    "cor_produto_mais_vendido = ''\n",
    "armazenamento_produto_mais_vendido = ''\n",
    "\n",
    "for item in vendas:\n",
    "    data, produto, cor, armazenamento, unidades_vendidas, preco = item\n",
    "    if data == '21/08/2024':\n",
    "        if unidades_vendidas > qtde_produto_mais_vendido:\n",
    "            produto_mais_vendido = produto\n",
    "            qtde_produto_mais_vendido = unidades_vendidas\n",
    "            cor_produto_mais_vendido = cor\n",
    "            armazenamento_produto_mais_vendido = armazenamento\n",
    "print(f'O produto mais vendido no dia 21/08/2024 foi o {produto} com {unidades_vendidas} unidades vendidas.\\nCor: {cor_produto_mais_vendido}\\nArmazenamento: {armazenamento_produto_mais_vendido}')"
   ],
   "id": "cc2359b4c783dbf2",
   "outputs": [
    {
     "name": "stdout",
     "output_type": "stream",
     "text": [
      "O produto mais vendido no dia 21/08/2024 foi o ipad com 4000 unidades vendidas.\n",
      "Cor: prata\n",
      "Armazenamento: 128gb\n"
     ]
    }
   ],
   "execution_count": 22
  },
  {
   "metadata": {},
   "cell_type": "markdown",
   "source": "Uma outra forma de fazer uma comparação é usar o `in`, veja:",
   "id": "6e63c910ff5f2fbe"
  },
  {
   "metadata": {
    "ExecuteTime": {
     "end_time": "2024-06-12T12:09:27.145544Z",
     "start_time": "2024-06-12T12:09:27.085338Z"
    }
   },
   "cell_type": "code",
   "source": [
    "contador = 0\n",
    "contador2 = 0\n",
    "for item in vendas:\n",
    "    data, produto, cor, armazenamento, unidades_vendidas,preco = item\n",
    "    if 'iphone' in produto and data == '21/08/2024':\n",
    "        contador += unidades_vendidas\n",
    "    if 'ipad' in produto and data == '21/08/2024':\n",
    "        contador2 += unidades_vendidas\n",
    "print(f'Quantidade vendidas de iphone: {contador}')\n",
    "print(f'Quantidade vendidas de ipad: {contador2}')\n",
    "if contador2 > contador:\n",
    "    print('O produto mais vendido foi o Ipad')\n",
    "else:\n",
    "    print('O produto mais vendido foi o Iphone x')"
   ],
   "id": "7a717b7ca0610f96",
   "outputs": [
    {
     "name": "stdout",
     "output_type": "stream",
     "text": [
      "Quantidade vendidas de iphone: 1414\n",
      "Quantidade vendidas de ipad: 4050\n",
      "O produto mais vendido foi o Ipad\n"
     ]
    }
   ],
   "execution_count": 20
  },
  {
   "metadata": {},
   "cell_type": "markdown",
   "source": [
    "É possível de fazer o unpacking direto nas variáveisdo for também:  \n",
    "Isso vai te fazer economizar 1 linha de código"
   ],
   "id": "22aa5573f7289b59"
  },
  {
   "metadata": {
    "ExecuteTime": {
     "end_time": "2024-06-12T12:14:15.118075Z",
     "start_time": "2024-06-12T12:14:15.095072Z"
    }
   },
   "cell_type": "code",
   "source": [
    "contador = 0\n",
    "contador2 = 0\n",
    "for data, produto, cor, armazenamento, unidades_vendidas,preco in vendas:\n",
    "    if 'iphone' in produto and data == '21/08/2024':\n",
    "        contador += unidades_vendidas\n",
    "    if 'ipad' in produto and data == '21/08/2024':\n",
    "        contador2 += unidades_vendidas\n",
    "print(f'Quantidade vendidas de iphone: {contador}')\n",
    "print(f'Quantidade vendidas de ipad: {contador2}')\n",
    "if contador2 > contador:\n",
    "    print('O produto mais vendido foi o Ipad')\n",
    "else:\n",
    "    print('O produto mais vendido foi o Iphone x')"
   ],
   "id": "3d10025befb5597e",
   "outputs": [
    {
     "name": "stdout",
     "output_type": "stream",
     "text": [
      "Quantidade vendidas de iphone: 1414\n",
      "Quantidade vendidas de ipad: 4050\n",
      "O produto mais vendido foi o Ipad\n"
     ]
    }
   ],
   "execution_count": 21
  },
  {
   "metadata": {},
   "cell_type": "markdown",
   "source": "Próxima aula: fazer exercícios de tupla",
   "id": "9637f28da40363b1"
  },
  {
   "metadata": {},
   "cell_type": "code",
   "outputs": [],
   "execution_count": null,
   "source": "",
   "id": "3548cd81476ecf3c"
  }
 ],
 "metadata": {
  "kernelspec": {
   "display_name": "Python 3",
   "language": "python",
   "name": "python3"
  },
  "language_info": {
   "codemirror_mode": {
    "name": "ipython",
    "version": 2
   },
   "file_extension": ".py",
   "mimetype": "text/x-python",
   "name": "python",
   "nbconvert_exporter": "python",
   "pygments_lexer": "ipython2",
   "version": "2.7.6"
  }
 },
 "nbformat": 4,
 "nbformat_minor": 5
}
