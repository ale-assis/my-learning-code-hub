{
 "cells": [
  {
   "metadata": {},
   "cell_type": "markdown",
   "source": [
    "É preferível usar tuplas com dados heterogêneos  \n",
    "Se for dados homogêneos, então usa uma lista mesmo  \n",
    "Se for dados heterogêneos, então usa uma tupla"
   ],
   "id": "3c9e7e820809365b"
  },
  {
   "metadata": {
    "ExecuteTime": {
     "end_time": "2024-06-10T13:14:48.878255Z",
     "start_time": "2024-06-10T13:14:48.872258Z"
    }
   },
   "cell_type": "code",
   "source": [
    "#criando tuplas e listas\n",
    "lista = ['Alexandre', 26, 'Outubro', 1997]\n",
    "tupla = ('Alexandre', 26, 'Outubro', 1997)"
   ],
   "id": "1b2b995a22000f93",
   "outputs": [],
   "execution_count": 17
  },
  {
   "metadata": {},
   "cell_type": "markdown",
   "source": [
    "Atribuindo valores de uma lista a variáveis e então alterando os valores dessa lista  \n",
    "Primeiro altera os valores e depois atribui novamente as variáveis  \n",
    "Se você altera os valores de uma lista 1 vez, já era, não dá pra voltar atrás.  \n",
    "Aí para ficar alterando você vai ter que fazer novas alterações ou rodar a lista original denovo"
   ],
   "id": "2e970dd2e8e7bb22"
  },
  {
   "metadata": {
    "ExecuteTime": {
     "end_time": "2024-06-10T13:15:44.883431Z",
     "start_time": "2024-06-10T13:15:44.869792Z"
    }
   },
   "cell_type": "code",
   "source": [
    "#atribuindo diferentes itens da lista a diferentes variáveis \n",
    "nome = lista[0] \n",
    "idade = lista[1]\n",
    "mes_nascimento = lista[2]\n",
    "ano_nascimento = lista[3]\n",
    "\n",
    "\n",
    "#alterando valores de uma lista\n",
    "lista[0] = 'Arthur'\n",
    "lista[1]= 10\n",
    "lista[2] = 'Maio'\n",
    "lista[3] = 2014\n",
    "#Alterei os valores da lista, mas esses valores ainda não foram atribuidos nas variaveis nome, idade, mes e ano\n",
    "\n",
    "print(lista)\n",
    "print(nome, idade, mes_nascimento, ano_nascimento)"
   ],
   "id": "1c23da4fb3c618ee",
   "outputs": [
    {
     "name": "stdout",
     "output_type": "stream",
     "text": [
      "['Arthur', 10, 'Maio', 2014]\n",
      "Alexandre 26 Outubro 1997\n"
     ]
    }
   ],
   "execution_count": 19
  },
  {
   "metadata": {},
   "cell_type": "markdown",
   "source": "Atribuindo valores de uma tupla a variáveis individuais",
   "id": "326df4fc7773648c"
  },
  {
   "metadata": {},
   "cell_type": "code",
   "outputs": [],
   "execution_count": null,
   "source": [
    "# atribuindo diferentes itens da tupla a diferentes variáveis\n",
    "nome = tupla[0]\n",
    "idade = tupla[1]\n",
    "mes_nascimento = tupla[2]\n",
    "ano_nascimento = tupla[3]\n",
    "print(nome, idade, mes_nascimento, ano_nascimento)"
   ],
   "id": "ebca8659c57207d"
  },
  {
   "metadata": {},
   "cell_type": "markdown",
   "source": [
    "# Fazendo unpack de tuplas  \n",
    "Unpack é basicamente você atribuir todos os itens de uma tupla a respectivas variáveis  \n",
    "A qtdade de itens da tupla e de variáveis deve ser exatamente a mesma, senão o python vai dar erros  \n",
    "unpack pode ser usado com listas também"
   ],
   "id": "539581278b7ce5a4"
  },
  {
   "metadata": {
    "ExecuteTime": {
     "end_time": "2024-06-10T13:07:45.379940Z",
     "start_time": "2024-06-10T13:07:45.371945Z"
    }
   },
   "cell_type": "code",
   "source": [
    "tupla2 =('Hunter x Hunter', 1998, 400, 'Shounen', 'Shounen Jump')\n",
    "nome_obra, ano_lancamento, qtd_capitulos, genero, revista = tupla2\n",
    "\n",
    "print(nome_obra, ano_lancamento, qtd_capitulos, genero, revista)"
   ],
   "id": "287375fb2ebd78cc",
   "outputs": [
    {
     "name": "stdout",
     "output_type": "stream",
     "text": [
      "Hunter x Hunter 1998 400 Shounen Shounen Jump\n"
     ]
    }
   ],
   "execution_count": 9
  },
  {
   "metadata": {
    "ExecuteTime": {
     "end_time": "2024-06-11T16:56:10.811470Z",
     "start_time": "2024-06-11T16:56:10.489630Z"
    }
   },
   "cell_type": "code",
   "source": [
    "lista3 = ['Hunter x Hunter', 1998, 400, 'Shounen', 'Shounen Jump']\n",
    "nome_obra, ano_lancamento, qtd_capitulos, genero, revista = lista3\n",
    "\n",
    "print(nome_obra, ano_lancamento, qtd_capitulos, genero, revista)"
   ],
   "id": "ba65de8174e992fd",
   "outputs": [
    {
     "name": "stdout",
     "output_type": "stream",
     "text": [
      "Hunter x Hunter 1998 400 Shounen Shounen Jump\n"
     ]
    }
   ],
   "execution_count": 1
  },
  {
   "metadata": {},
   "cell_type": "markdown",
   "source": "# Usando enumerate()",
   "id": "4ca66e31f3edb321"
  },
  {
   "metadata": {},
   "cell_type": "markdown",
   "source": "`enumerate()`vai enumerar os itens de uma lista ou tupla",
   "id": "ffd8f24cc7fa74f0"
  },
  {
   "metadata": {
    "ExecuteTime": {
     "end_time": "2024-06-11T16:57:22.516064Z",
     "start_time": "2024-06-11T16:57:22.480085Z"
    }
   },
   "cell_type": "code",
   "source": [
    "#criando lista só pra testar o enumerate\n",
    "vendas = [1000, 500, 155, 300, 987]\n",
    "funcionarios = ['Lira', 'Claudia', 'Roberto', 'Ana', 'Beatriz']\n",
    "\n",
    "#usando enumerate com listas\n",
    "for item in enumerate(vendas):\n",
    "    print(item)\n",
    "\n",
    "print()\n",
    "\n",
    "tupla2 = ('Hunter x Hunter', 1998, 400, 'Shounen', 'Shounen Jump')\n",
    "#usando enumerate com tuplas\n",
    "for item in enumerate(tupla2):\n",
    "    print(item)\n",
    "    \n"
   ],
   "id": "a5877fededd2668e",
   "outputs": [
    {
     "name": "stdout",
     "output_type": "stream",
     "text": [
      "(0, 1000)\n",
      "(1, 500)\n",
      "(2, 155)\n",
      "(3, 300)\n",
      "(4, 987)\n",
      "\n",
      "(0, 'Hunter x Hunter')\n",
      "(1, 1998)\n",
      "(2, 400)\n",
      "(3, 'Shounen')\n",
      "(4, 'Shounen Jump')\n"
     ]
    }
   ],
   "execution_count": 3
  },
  {
   "metadata": {},
   "cell_type": "markdown",
   "source": [
    "# Combinando unpacking com enumerate()  \n",
    "Aqui usamos o unpacking de LISTAS para printar o número de cada item da nossa lista  \n",
    "O número de cada item foi gerado por causa do enumerate()  \n",
    "O enumerate() retorna uma tupla com 2 valores, o número e o item original da lista. Uma tupla com esses 2 valores é criada para cada item da lista  \n"
   ],
   "id": "987b70e118f8ea1e"
  },
  {
   "metadata": {},
   "cell_type": "markdown",
   "source": "Usando enumerate + unpack de LISTAS\n",
   "id": "46bc8bab9229ce93"
  },
  {
   "metadata": {
    "ExecuteTime": {
     "end_time": "2024-06-11T19:22:13.860344Z",
     "start_time": "2024-06-11T19:22:13.842353Z"
    }
   },
   "cell_type": "code",
   "source": [
    "vendas = [1000, 500, 155, 300, 987]\n",
    "funcionarios = ['Lira', 'Claudia', 'Roberto', 'Ana', 'Beatriz']\n",
    "\n",
    "# forma menos ideal de fazer o código:\n",
    "for item in enumerate(vendas):\n",
    "    e1, venda = item #atribuir o output do enumerate em i e 1 item da lista em vendas, e faz isso a cada iteração\n",
    "    print(f'O funcionário {funcionarios[e1]} teve {venda} vendas')"
   ],
   "id": "7dfbc536a8a9a65b",
   "outputs": [
    {
     "name": "stdout",
     "output_type": "stream",
     "text": [
      "O funcionário Lira teve 1000 vendas\n",
      "O funcionário Claudia teve 500 vendas\n",
      "O funcionário Roberto teve 155 vendas\n",
      "O funcionário Ana teve 300 vendas\n",
      "O funcionário Beatriz teve 987 vendas\n"
     ]
    }
   ],
   "execution_count": 49
  },
  {
   "metadata": {
    "ExecuteTime": {
     "end_time": "2024-06-11T19:21:24.958348Z",
     "start_time": "2024-06-11T19:21:24.941360Z"
    }
   },
   "cell_type": "code",
   "source": [
    "vendas = [1000, 500, 155, 300, 987]\n",
    "funcionarios = ['Lira', 'Claudia', 'Roberto', 'Ana', 'Beatriz']\n",
    "\n",
    "# forma mais elegante de fazer o código:\n",
    "for i, numero_vendas in enumerate(vendas):\n",
    "    print(f'O funcionário {funcionarios[i]} vendeu {numero_vendas}')"
   ],
   "id": "b720d496fce605a1",
   "outputs": [
    {
     "name": "stdout",
     "output_type": "stream",
     "text": [
      "O funcionário Lira vendeu 1000\n",
      "O funcionário Claudia vendeu 500\n",
      "O funcionário Roberto vendeu 155\n",
      "O funcionário Ana vendeu 300\n",
      "O funcionário Beatriz vendeu 987\n"
     ]
    }
   ],
   "execution_count": 47
  },
  {
   "metadata": {},
   "cell_type": "markdown",
   "source": "Enumerate + unpack TUPLAS\n",
   "id": "ae23e43f66e3e62c"
  },
  {
   "metadata": {
    "ExecuteTime": {
     "end_time": "2024-06-11T18:43:10.315459Z",
     "start_time": "2024-06-11T18:43:10.293931Z"
    }
   },
   "cell_type": "code",
   "source": [
    "tupla2 = ('Hunter x Hunter', 1998, 400, 'Shounen', 'Shounen Jump')\n",
    "\n",
    "#forma menos ideal de código\n",
    "for i in enumerate(tupla2):\n",
    "    enumerador2, tupla_item = i\n",
    "    print(enumerador2)\n",
    "    print(tupla_item)"
   ],
   "id": "780f00bd1a4951c0",
   "outputs": [
    {
     "name": "stdout",
     "output_type": "stream",
     "text": [
      "0\n",
      "Hunter x Hunter\n",
      "1\n",
      "1998\n",
      "2\n",
      "400\n",
      "3\n",
      "Shounen\n",
      "4\n",
      "Shounen Jump\n"
     ]
    }
   ],
   "execution_count": 32
  },
  {
   "metadata": {
    "ExecuteTime": {
     "end_time": "2024-06-11T19:41:01.724031Z",
     "start_time": "2024-06-11T19:41:01.667475Z"
    }
   },
   "cell_type": "code",
   "source": [
    "tupla2 = ('Hunter x Hunter', 1998, 400, 'Shounen', 'Shounen Jump')\n",
    "\n",
    "#forma elegante - imprimindo cada item de forma individual da tupla\n",
    "for enumerador, manga_info in enumerate(tupla2):\n",
    "    print(tupla2[enumerador])"
   ],
   "id": "2d0165c2b89cb9bc",
   "outputs": [
    {
     "name": "stdout",
     "output_type": "stream",
     "text": [
      "Hunter x Hunter\n",
      "1998\n",
      "400\n",
      "Shounen\n",
      "Shounen Jump\n"
     ]
    }
   ],
   "execution_count": 50
  },
  {
   "metadata": {
    "ExecuteTime": {
     "end_time": "2024-06-11T19:03:09.399245Z",
     "start_time": "2024-06-11T19:03:09.377108Z"
    }
   },
   "cell_type": "code",
   "source": [
    "tupla2 = ('Hunter x Hunter', 1998, 400, 'Shounen', 'Shounen Jump')\n",
    "tupla3 = ('Nome da obra', 'Ano de publicação', 'Qtdade de Capítulos', 'Gênero', 'Editora')\n",
    "\n",
    "#forma elegante - imprimindo cada item de forma individual da tupla de acordo com a outra tupla\n",
    "for enumerador, manga_info in enumerate(tupla2):\n",
    "    print(tupla3[enumerador],':', manga_info)"
   ],
   "id": "b8d7f79924fc644f",
   "outputs": [
    {
     "name": "stdout",
     "output_type": "stream",
     "text": [
      "Nome da obra : Hunter x Hunter\n",
      "Ano de publicação : 1998\n",
      "Qtdade de Capítulos : 400\n",
      "Gênero : Shounen\n",
      "Editora : Shounen Jump\n"
     ]
    }
   ],
   "execution_count": 44
  },
  {
   "metadata": {},
   "cell_type": "code",
   "outputs": [],
   "execution_count": null,
   "source": "",
   "id": "881df982df044377"
  }
 ],
 "metadata": {
  "kernelspec": {
   "display_name": "Python 3",
   "language": "python",
   "name": "python3"
  },
  "language_info": {
   "codemirror_mode": {
    "name": "ipython",
    "version": 2
   },
   "file_extension": ".py",
   "mimetype": "text/x-python",
   "name": "python",
   "nbconvert_exporter": "python",
   "pygments_lexer": "ipython2",
   "version": "2.7.6"
  }
 },
 "nbformat": 4,
 "nbformat_minor": 5
}
