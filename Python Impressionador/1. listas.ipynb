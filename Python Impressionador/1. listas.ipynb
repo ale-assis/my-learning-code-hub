{
 "cells": [
  {
   "cell_type": "code",
   "execution_count": 1,
   "metadata": {},
   "outputs": [
    {
     "name": "stdout",
     "output_type": "stream",
     "text": [
      "['Lira', 'Alon', 'Maria', 'Ana']\n"
     ]
    }
   ],
   "source": [
    "# usando del com listas\n",
    "funcionarios = ['João', 'Lira', 'Alon', 'Maria', 'Ana']\n",
    "del funcionarios[0]\n",
    "print(funcionarios)"
   ]
  },
  {
   "cell_type": "markdown",
   "metadata": {},
   "source": [
    "`del` pode ser usado com listas também, basta passar o índice da lista na etiqueta e o valor correspondente a este índice vai ser removido direto na lista"
   ]
  },
  {
   "cell_type": "code",
   "execution_count": 4,
   "metadata": {},
   "outputs": [
    {
     "name": "stdout",
     "output_type": "stream",
     "text": [
      "Alon\n"
     ]
    }
   ],
   "source": [
    "# usando pop com listas\n",
    "\n",
    "funcionarios = ['João', 'Lira', 'Alon', 'Maria', 'Ana']\n",
    "\n",
    "nova_lista = funcionarios.pop(2)\n",
    "print(nova_lista)\n",
    "\n",
    "\n"
   ]
  }
 ],
 "metadata": {
  "kernelspec": {
   "display_name": "Python 3",
   "language": "python",
   "name": "python3"
  },
  "language_info": {
   "codemirror_mode": {
    "name": "ipython",
    "version": 3
   },
   "file_extension": ".py",
   "mimetype": "text/x-python",
   "name": "python",
   "nbconvert_exporter": "python",
   "pygments_lexer": "ipython3",
   "version": "3.12.0"
  }
 },
 "nbformat": 4,
 "nbformat_minor": 2
}
