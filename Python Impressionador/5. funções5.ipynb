{
 "cells": [
  {
   "metadata": {},
   "cell_type": "markdown",
   "source": "# Funções - Ordem dos parâmetros: Posicional e Nomeado ",
   "id": "4f8799c4680df9b4"
  },
  {
   "metadata": {},
   "cell_type": "markdown",
   "source": [
    "Existem duas formas distintas de informar parâmetros para funções:  \n",
    "- colocar parâmetros pela ORDEM (parâmetros posicionais)\n",
    "- colocar parâmetros pelo NOME (parâmetros nomeados ou também conhecido como keyword argument)\n",
    "\n",
    "A escolha de qual tipo de parâmetro usar vai ser escolhida na hora que for USAR a função  \n",
    "Primeiro definimos ela normalmente, com todos os parâmetros necessários. E na hora que chamarmos a função\n",
    "podemos escolher se vamos passar os argumentos de forma posicional ou de forma nomeada  \n",
    "Se for posicional, você deve colocar os argumentos NA MESMA ORDEM que eles foram definidos na função  \n",
    "Se for nomeado, você pode colocar os argumentos fora de ordem, mas deve colocar o NOME do argumento e o argumento entre aspas"
   ],
   "id": "1570da363fe29a39"
  },
  {
   "metadata": {
    "ExecuteTime": {
     "end_time": "2024-08-14T11:48:56.633464Z",
     "start_time": "2024-08-14T11:48:56.619718Z"
    }
   },
   "cell_type": "code",
   "source": [
    "def definir_categoria(bebida, cod_categoria):\n",
    "    bebida = bebida.upper()\n",
    "    if cod_categoria in bebida:\n",
    "        return True\n",
    "    else:\n",
    "        return False\n",
    "    \n",
    "\n",
    "produtos = ['beb46275','TFA23962','TFA64715','TFA69555','TFA56743','BSA45510','TFA44968','CAR75448','CAR23596','CAR13490','BEB21365','BEB31623','BSA62419','BEB73344','TFA20079','BEB80694','BSA11769','BEB19495','TFA14792','TFA78043','BSA33484','BEB97471','BEB62362','TFA27311','TFA17715','BEB85146','BEB48898','BEB79496','CAR38417','TFA19947','TFA58799','CAR94811','BSA59251','BEB15385','BEB24213','BEB56262','BSA96915','CAR53454','BEB75073']\n",
    "\n",
    "# parâmetros posicionais -> seguir a exata ORDEM dos parâmetros \n",
    "for produto in produtos:\n",
    "    if definir_categoria(produto, 'BEB'):\n",
    "        print(f'Enviar {produto} para setor de bebidas ALCOOLICAS.')\n",
    "    elif definir_categoria(produto, 'BSA'):\n",
    "        print(f'Enviar {produto} para setor de bebidas NÃO ALCOOLICAS.')\n"
   ],
   "id": "9588fe6405582a64",
   "outputs": [
    {
     "name": "stdout",
     "output_type": "stream",
     "text": [
      "Enviar beb46275 para setor de bebidas ALCOOLICAS.\n",
      "Enviar BSA45510 para setor de bebidas NÃO ALCOOLICAS.\n",
      "Enviar BEB21365 para setor de bebidas ALCOOLICAS.\n",
      "Enviar BEB31623 para setor de bebidas ALCOOLICAS.\n",
      "Enviar BSA62419 para setor de bebidas NÃO ALCOOLICAS.\n",
      "Enviar BEB73344 para setor de bebidas ALCOOLICAS.\n",
      "Enviar BEB80694 para setor de bebidas ALCOOLICAS.\n",
      "Enviar BSA11769 para setor de bebidas NÃO ALCOOLICAS.\n",
      "Enviar BEB19495 para setor de bebidas ALCOOLICAS.\n",
      "Enviar BSA33484 para setor de bebidas NÃO ALCOOLICAS.\n",
      "Enviar BEB97471 para setor de bebidas ALCOOLICAS.\n",
      "Enviar BEB62362 para setor de bebidas ALCOOLICAS.\n",
      "Enviar BEB85146 para setor de bebidas ALCOOLICAS.\n",
      "Enviar BEB48898 para setor de bebidas ALCOOLICAS.\n",
      "Enviar BEB79496 para setor de bebidas ALCOOLICAS.\n",
      "Enviar BSA59251 para setor de bebidas NÃO ALCOOLICAS.\n",
      "Enviar BEB15385 para setor de bebidas ALCOOLICAS.\n",
      "Enviar BEB24213 para setor de bebidas ALCOOLICAS.\n",
      "Enviar BEB56262 para setor de bebidas ALCOOLICAS.\n",
      "Enviar BSA96915 para setor de bebidas NÃO ALCOOLICAS.\n",
      "Enviar BEB75073 para setor de bebidas ALCOOLICAS.\n"
     ]
    }
   ],
   "execution_count": 8
  },
  {
   "metadata": {
    "ExecuteTime": {
     "end_time": "2024-08-14T11:47:57.850867Z",
     "start_time": "2024-08-14T11:47:57.837841Z"
    }
   },
   "cell_type": "code",
   "source": [
    "# parâmetros nomeados -> não precisa seguir a exata ORDEM dos parâmetros, mas deve colocar as palavras-chaves exatas \n",
    "for produto in produtos:\n",
    "    if definir_categoria(cod_categoria='BEB', bebida=produto):\n",
    "        print(f'Enviar {produto} para setor de bebidas ALCOOLICAS.')\n",
    "    elif definir_categoria(cod_categoria='BSA', bebida=produto):\n",
    "        print(f'Enviar {produto} para setor de bebidas NÃO ALCOOLICAS.')"
   ],
   "id": "a8d58446cd18614d",
   "outputs": [
    {
     "name": "stdout",
     "output_type": "stream",
     "text": [
      "Enviar beb46275 para setor de bebidas ALCOOLICAS.\n",
      "Enviar BSA45510 para setor de bebidas NÃO ALCOOLICAS.\n",
      "Enviar BEB21365 para setor de bebidas ALCOOLICAS.\n",
      "Enviar BEB31623 para setor de bebidas ALCOOLICAS.\n",
      "Enviar BSA62419 para setor de bebidas NÃO ALCOOLICAS.\n",
      "Enviar BEB73344 para setor de bebidas ALCOOLICAS.\n",
      "Enviar BEB80694 para setor de bebidas ALCOOLICAS.\n",
      "Enviar BSA11769 para setor de bebidas NÃO ALCOOLICAS.\n",
      "Enviar BEB19495 para setor de bebidas ALCOOLICAS.\n",
      "Enviar BSA33484 para setor de bebidas NÃO ALCOOLICAS.\n",
      "Enviar BEB97471 para setor de bebidas ALCOOLICAS.\n",
      "Enviar BEB62362 para setor de bebidas ALCOOLICAS.\n",
      "Enviar BEB85146 para setor de bebidas ALCOOLICAS.\n",
      "Enviar BEB48898 para setor de bebidas ALCOOLICAS.\n",
      "Enviar BEB79496 para setor de bebidas ALCOOLICAS.\n",
      "Enviar BSA59251 para setor de bebidas NÃO ALCOOLICAS.\n",
      "Enviar BEB15385 para setor de bebidas ALCOOLICAS.\n",
      "Enviar BEB24213 para setor de bebidas ALCOOLICAS.\n",
      "Enviar BEB56262 para setor de bebidas ALCOOLICAS.\n",
      "Enviar BSA96915 para setor de bebidas NÃO ALCOOLICAS.\n",
      "Enviar BEB75073 para setor de bebidas ALCOOLICAS.\n"
     ]
    }
   ],
   "execution_count": 7
  },
  {
   "metadata": {},
   "cell_type": "markdown",
   "source": [
    "Caso você comece a chamar a função com 1 parâmetro 1 NOMEADA, você NÃO vai poder usar outro método de ordem para os demais parâmetros da função:\n",
    "Se você começou a chamar a função com 1 parâmetro nomeado, TODOS os demais parâmetros da função deverão ser NOMEADOS \n",
    "Por isso o código abaixo deu erro"
   ],
   "id": "7e12f41fd962e0db"
  },
  {
   "metadata": {
    "ExecuteTime": {
     "end_time": "2024-08-14T11:59:36.384750Z",
     "start_time": "2024-08-14T11:59:36.337383Z"
    }
   },
   "cell_type": "code",
   "source": [
    "# vai dar erro, pois tem que usar apenas 1 método de ordem ao chamar a função\n",
    "for produto in produtos:\n",
    "    if definir_categoria(cod_categoria='BEB', produto):\n",
    "        print(f'Enviar {produto} para setor de bebidas ALCOOLICAS.')\n",
    "    elif definir_categoria(cod_categoria='BSA', produto):\n",
    "        print(f'Enviar {produto} para setor de bebidas NÃO ALCOOLICAS.')"
   ],
   "id": "ea32a7ce62f1a836",
   "outputs": [
    {
     "ename": "SyntaxError",
     "evalue": "positional argument follows keyword argument (683999912.py, line 3)",
     "output_type": "error",
     "traceback": [
      "\u001B[1;36m  File \u001B[1;32m\"C:\\Users\\Alexandre\\AppData\\Local\\Temp\\ipykernel_4584\\683999912.py\"\u001B[1;36m, line \u001B[1;32m3\u001B[0m\n\u001B[1;33m    if definir_categoria(cod_categoria='BEB', produto):\u001B[0m\n\u001B[1;37m                                                     ^\u001B[0m\n\u001B[1;31mSyntaxError\u001B[0m\u001B[1;31m:\u001B[0m positional argument follows keyword argument\n"
     ]
    }
   ],
   "execution_count": 12
  },
  {
   "metadata": {},
   "cell_type": "code",
   "outputs": [],
   "execution_count": null,
   "source": [
    "# forma correta -> todos os parâmetros nomeados\n",
    "for produto in produtos:\n",
    "    if definir_categoria(cod_categoria='BEB', bebida=produto):\n",
    "        print(f'Enviar {produto} para setor de bebidas ALCOOLICAS.')\n",
    "    elif definir_categoria(cod_categoria='BSA', bebida=produto):\n",
    "        print(f'Enviar {produto} para setor de bebidas NÃO ALCOOLICAS.')"
   ],
   "id": "669a4d4a8ec52632"
  },
  {
   "metadata": {},
   "cell_type": "markdown",
   "source": "Agora se você começou a chamar a função com usou 1 parâmetro posicional, você pode escolher entre colocar os demais parâmetros como POSICIONAIS ou NOMEADOS",
   "id": "f26a13fb22d826bb"
  },
  {
   "metadata": {
    "ExecuteTime": {
     "end_time": "2024-08-14T17:56:03.448238Z",
     "start_time": "2024-08-14T17:56:02.509487Z"
    }
   },
   "cell_type": "code",
   "source": [
    "for produto in produtos:\n",
    "    if definir_categoria(produto, cod_categoria='BEB'):\n",
    "        print(f'Enviar {produto} para setor de bebidas ALCOOLICAS.')\n",
    "    elif definir_categoria(produto, cod_categoria='BSA' ):\n",
    "        print(f'Enviar {produto} para setor de bebidas NÃO ALCOOLICAS.')"
   ],
   "id": "37a9277d991a7124",
   "outputs": [
    {
     "name": "stdout",
     "output_type": "stream",
     "text": [
      "Enviar beb46275 para setor de bebidas ALCOOLICAS.\n",
      "Enviar BSA45510 para setor de bebidas NÃO ALCOOLICAS.\n",
      "Enviar BEB21365 para setor de bebidas ALCOOLICAS.\n",
      "Enviar BEB31623 para setor de bebidas ALCOOLICAS.\n",
      "Enviar BSA62419 para setor de bebidas NÃO ALCOOLICAS.\n",
      "Enviar BEB73344 para setor de bebidas ALCOOLICAS.\n",
      "Enviar BEB80694 para setor de bebidas ALCOOLICAS.\n",
      "Enviar BSA11769 para setor de bebidas NÃO ALCOOLICAS.\n",
      "Enviar BEB19495 para setor de bebidas ALCOOLICAS.\n",
      "Enviar BSA33484 para setor de bebidas NÃO ALCOOLICAS.\n",
      "Enviar BEB97471 para setor de bebidas ALCOOLICAS.\n",
      "Enviar BEB62362 para setor de bebidas ALCOOLICAS.\n",
      "Enviar BEB85146 para setor de bebidas ALCOOLICAS.\n",
      "Enviar BEB48898 para setor de bebidas ALCOOLICAS.\n",
      "Enviar BEB79496 para setor de bebidas ALCOOLICAS.\n",
      "Enviar BSA59251 para setor de bebidas NÃO ALCOOLICAS.\n",
      "Enviar BEB15385 para setor de bebidas ALCOOLICAS.\n",
      "Enviar BEB24213 para setor de bebidas ALCOOLICAS.\n",
      "Enviar BEB56262 para setor de bebidas ALCOOLICAS.\n",
      "Enviar BSA96915 para setor de bebidas NÃO ALCOOLICAS.\n",
      "Enviar BEB75073 para setor de bebidas ALCOOLICAS.\n"
     ]
    }
   ],
   "execution_count": 17
  },
  {
   "metadata": {},
   "cell_type": "markdown",
   "source": [
    "No código abaixo vai dar erro também, pois se você usa parâmetros POSICIONAIS, você deve seguir a exata ordem dos argumentos  \n",
    "Isso porque você montou o que o código da função vai fazer pensando na ordem que esses argumentos seriam colocados...  \n",
    "Então, se você não seguir a ordem a função não vai funcionar como deveria. "
   ],
   "id": "15592413d84b789d"
  },
  {
   "metadata": {
    "ExecuteTime": {
     "end_time": "2024-08-14T18:03:02.092920Z",
     "start_time": "2024-08-14T18:03:02.030658Z"
    }
   },
   "cell_type": "code",
   "source": [
    "# vai dar erro, pois tem que usar apenas 1 método de ordem ao chamar a função\n",
    "for produto in produtos:\n",
    "    if definir_categoria('BEB', produto):\n",
    "        print(f'Enviar {produto} para setor de bebidas ALCOOLICAS.')\n",
    "    elif definir_categoria('BSA', produto):\n",
    "        print(f'Enviar {produto} para setor de bebidas NÃO ALCOOLICAS.')"
   ],
   "id": "fbcca07648b162ef",
   "outputs": [],
   "execution_count": 18
  },
  {
   "metadata": {},
   "cell_type": "markdown",
   "source": "Lembrando que essas regras da ordem dos parâmetros vale para a função que você está chamando no momento. Por isso que no código abaixo, em uma função eu usei a chamada começando com parâmetros nomeados na outra função comecei a chamada com parâmetros posicionais",
   "id": "7301671c734e4433"
  },
  {
   "metadata": {
    "ExecuteTime": {
     "end_time": "2024-08-14T12:11:25.369032Z",
     "start_time": "2024-08-14T12:11:25.355564Z"
    }
   },
   "cell_type": "code",
   "source": [
    "for produto in produtos:\n",
    "    if definir_categoria(cod_categoria='BEB', bebida=produto):\n",
    "        print(f'Enviar {produto} para setor de bebidas ALCOOLICAS.')\n",
    "    elif definir_categoria(produto, 'BSA'):\n",
    "        print(f'Enviar {produto} para setor de bebidas NÃO ALCOOLICAS.')"
   ],
   "id": "84b0552c5e962c01",
   "outputs": [
    {
     "name": "stdout",
     "output_type": "stream",
     "text": [
      "Enviar beb46275 para setor de bebidas ALCOOLICAS.\n",
      "Enviar BSA45510 para setor de bebidas NÃO ALCOOLICAS.\n",
      "Enviar BEB21365 para setor de bebidas ALCOOLICAS.\n",
      "Enviar BEB31623 para setor de bebidas ALCOOLICAS.\n",
      "Enviar BSA62419 para setor de bebidas NÃO ALCOOLICAS.\n",
      "Enviar BEB73344 para setor de bebidas ALCOOLICAS.\n",
      "Enviar BEB80694 para setor de bebidas ALCOOLICAS.\n",
      "Enviar BSA11769 para setor de bebidas NÃO ALCOOLICAS.\n",
      "Enviar BEB19495 para setor de bebidas ALCOOLICAS.\n",
      "Enviar BSA33484 para setor de bebidas NÃO ALCOOLICAS.\n",
      "Enviar BEB97471 para setor de bebidas ALCOOLICAS.\n",
      "Enviar BEB62362 para setor de bebidas ALCOOLICAS.\n",
      "Enviar BEB85146 para setor de bebidas ALCOOLICAS.\n",
      "Enviar BEB48898 para setor de bebidas ALCOOLICAS.\n",
      "Enviar BEB79496 para setor de bebidas ALCOOLICAS.\n",
      "Enviar BSA59251 para setor de bebidas NÃO ALCOOLICAS.\n",
      "Enviar BEB15385 para setor de bebidas ALCOOLICAS.\n",
      "Enviar BEB24213 para setor de bebidas ALCOOLICAS.\n",
      "Enviar BEB56262 para setor de bebidas ALCOOLICAS.\n",
      "Enviar BSA96915 para setor de bebidas NÃO ALCOOLICAS.\n",
      "Enviar BEB75073 para setor de bebidas ALCOOLICAS.\n"
     ]
    }
   ],
   "execution_count": 15
  },
  {
   "metadata": {},
   "cell_type": "markdown",
   "source": [
    "Entendendo melhor o funcionamento dos parâmetros de `print()`  \n",
    "Seguindo a regra: se começar a função com parâmetro posicional, você pode incluir parâmetros nomeados depois.  \n",
    "Agora se começasse com parâmetro nomeado, todos os demais parâmetros devem ser nomeados também."
   ],
   "id": "a09caf30c5a9b1b5"
  },
  {
   "metadata": {
    "ExecuteTime": {
     "end_time": "2024-08-14T12:38:55.423799Z",
     "start_time": "2024-08-14T12:38:55.403338Z"
    }
   },
   "cell_type": "code",
   "source": [
    "qtde_produtos = len(produtos)\n",
    "print('Quantidade total de produtos:', qtde_produtos, 'texto2', 'texto3', sep='\\n')"
   ],
   "id": "7ac63e97e2cb1033",
   "outputs": [
    {
     "name": "stdout",
     "output_type": "stream",
     "text": [
      "Quantidade total de produtos:\n",
      "39\n",
      "texto2\n",
      "texto3\n"
     ]
    }
   ],
   "execution_count": 16
  },
  {
   "metadata": {},
   "cell_type": "markdown",
   "source": "Por que no código acima o sep ficou em ultimo ?",
   "id": "6ef0faf3ef8df782"
  }
 ],
 "metadata": {
  "kernelspec": {
   "display_name": "Python 3",
   "language": "python",
   "name": "python3"
  },
  "language_info": {
   "codemirror_mode": {
    "name": "ipython",
    "version": 2
   },
   "file_extension": ".py",
   "mimetype": "text/x-python",
   "name": "python",
   "nbconvert_exporter": "python",
   "pygments_lexer": "ipython2",
   "version": "2.7.6"
  }
 },
 "nbformat": 4,
 "nbformat_minor": 5
}
