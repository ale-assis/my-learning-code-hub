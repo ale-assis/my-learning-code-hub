{
 "cells": [
  {
   "cell_type": "markdown",
   "id": "ea6f5bf9cc7775b3",
   "metadata": {},
   "source": [
    "## Dicionários"
   ]
  },
  {
   "cell_type": "markdown",
   "id": "f4b2440639a1645c",
   "metadata": {},
   "source": [
    "Criando um dicionário"
   ]
  },
  {
   "cell_type": "code",
   "execution_count": 1,
   "id": "457106a6ad4b9408",
   "metadata": {
    "ExecuteTime": {
     "end_time": "2024-06-19T11:26:33.424659Z",
     "start_time": "2024-06-19T11:26:33.065659Z"
    }
   },
   "outputs": [
    {
     "name": "stdout",
     "output_type": "stream",
     "text": [
      "{'tecnologia': 'iphone', 'refrigeracao': 'ar consul 12000 btu', 'livros': 'o alquimista', 'eletrodomestico': 'geladeira', 'lazer': 'prancha surf'}\n"
     ]
    }
   ],
   "source": [
    "mais_vendidos = {'tecnologia': 'iphone', 'refrigeracao': 'ar consul 12000 btu', 'livros': 'o alquimista', 'eletrodomestico': 'geladeira', 'lazer': 'prancha surf'}\n",
    "print(mais_vendidos)"
   ]
  },
  {
   "cell_type": "markdown",
   "id": "396da174fb8b1f2e",
   "metadata": {},
   "source": [
    "Acessando um valor específico de um dicionário #1: simplesmente printando a variável do dicionário e a etiqueta da chave"
   ]
  },
  {
   "cell_type": "code",
   "execution_count": 2,
   "id": "ee44ef4cbb838442",
   "metadata": {
    "ExecuteTime": {
     "end_time": "2024-06-19T11:26:35.217786Z",
     "start_time": "2024-06-19T11:26:35.200799Z"
    }
   },
   "outputs": [
    {
     "name": "stdout",
     "output_type": "stream",
     "text": [
      "o alquimista\n"
     ]
    }
   ],
   "source": [
    "print(mais_vendidos['livros'])"
   ]
  },
  {
   "cell_type": "markdown",
   "id": "c524172020b7e49b",
   "metadata": {},
   "source": [
    "Acessando um valor específico de um dicionário #2: atribuindo esse valor a uma variável"
   ]
  },
  {
   "cell_type": "code",
   "execution_count": 3,
   "id": "713004d19013020a",
   "metadata": {
    "ExecuteTime": {
     "end_time": "2024-06-19T11:26:35.610827Z",
     "start_time": "2024-06-19T11:26:35.591838Z"
    }
   },
   "outputs": [
    {
     "name": "stdout",
     "output_type": "stream",
     "text": [
      "o alquimista\n"
     ]
    }
   ],
   "source": [
    "livro_mais_vendido = mais_vendidos['livros']\n",
    "print(livro_mais_vendido)"
   ]
  },
  {
   "cell_type": "markdown",
   "id": "e1bf346f67139cc3",
   "metadata": {},
   "source": [
    "Acessando um valor específico de um dicionário #3: usando o `.get()`"
   ]
  },
  {
   "cell_type": "code",
   "execution_count": 4,
   "id": "c8f13bcdb7f7d734",
   "metadata": {
    "ExecuteTime": {
     "end_time": "2024-06-19T11:26:35.703771Z",
     "start_time": "2024-06-19T11:26:35.685781Z"
    }
   },
   "outputs": [
    {
     "name": "stdout",
     "output_type": "stream",
     "text": [
      "o alquimista\n"
     ]
    }
   ],
   "source": [
    "print(mais_vendidos.get('livros'))"
   ]
  },
  {
   "cell_type": "markdown",
   "id": "64d715bfa289b9f4",
   "metadata": {},
   "source": [
    "É só passar a CHAVE como argumento da função"
   ]
  },
  {
   "cell_type": "markdown",
   "id": "b355d2c592564e5e",
   "metadata": {},
   "source": [
    "Manipulando dados dentro de um dicionário"
   ]
  },
  {
   "cell_type": "code",
   "execution_count": 5,
   "id": "bea12cfc37862fa3",
   "metadata": {},
   "outputs": [
    {
     "name": "stdout",
     "output_type": "stream",
     "text": [
      "{'Hunter x Hunter': 400, 'Naruto': 700}\n",
      "{'Hunter x Hunter': 'Valor alterado', 'Naruto': 700}\n",
      "{'Hunter x Hunter': 'Valor alterado', 'Naruto': 700, 'One Piece': 1000}\n",
      "{'Hunter x Hunter': 'Valor alterado', 'Naruto': 700, 'One Piece': 'Novo valor = 1001', 'Remove1': 'Valor a remover1', 'Remove2': 'Valor a remover2', 'Remove3': 'Valor a remover3'}\n"
     ]
    }
   ],
   "source": [
    "#adicionando itens (chave: valor) em um dicionário vazio\n",
    "mangas = {}\n",
    "mangas['Hunter x Hunter'] = 400\n",
    "mangas['Naruto'] = 700\n",
    "print(mangas)\n",
    "\n",
    "#alterando valor de uma chave com etiqueta\n",
    "mangas['Hunter x Hunter'] = 'Valor alterado'\n",
    "print(mangas)\n",
    "\n",
    "#adicionando itens (chave: valor) em um dicionário com .update()\n",
    "mangas.update({'One Piece': 1000})\n",
    "print(mangas)\n",
    "\n",
    "#alterando valor de uma chave com .update()\n",
    "mangas.update({'One Piece': 'Novo valor = 1001', 'Remove1': 'Valor a remover1', 'Remove2': 'Valor a remover2', 'Remove3': 'Valor a remover3'})\n",
    "print(mangas)"
   ]
  },
  {
   "cell_type": "markdown",
   "id": "523e5034",
   "metadata": {},
   "source": [
    "Removendo itens (chave: valor) de um dicionário"
   ]
  },
  {
   "cell_type": "code",
   "execution_count": 6,
   "id": "7c91342a",
   "metadata": {},
   "outputs": [
    {
     "name": "stdout",
     "output_type": "stream",
     "text": [
      "Dicionário: Meses do 1º TRIMESTRE\n",
      "{'janeiro': 100000, 'fevereiro': 120000, 'março': 90000} \n",
      "\n",
      "Dicionário: Meses do 2º TRIMESTRE\n",
      "{'abril': 88000, 'maio': 89000, 'junho': 120000} \n",
      "\n",
      "Removido a chave junho e seu valor:\n",
      "{'abril': 88000, 'maio': 89000} \n",
      "\n",
      "Removido a chave maior e seu valor, e foi atribuido o valor a nova variavel:\n",
      "{'abril': 88000}\n",
      "89000 \n",
      "\n",
      "Removido todos os itens do dicionário: \n",
      "{}\n"
     ]
    }
   ],
   "source": [
    "lucro_1tri = {'janeiro': 100000, 'fevereiro': 120000, 'março': 90000}\n",
    "lucro_2tri = {'abril': 88000, 'maio': 89000, 'junho': 120000}\n",
    "print('Dicionário: Meses do 1º TRIMESTRE')\n",
    "print(lucro_1tri, '\\n')\n",
    "print('Dicionário: Meses do 2º TRIMESTRE')\n",
    "print(lucro_2tri, '\\n')\n",
    "\n",
    "#removendo itens de um dicionário com o del \n",
    "#del remove o item do dicionário diretamente na variável do dicionário\n",
    "del lucro_2tri['junho']\n",
    "print('Removido a chave junho e seu valor:')\n",
    "print(lucro_2tri, '\\n')\n",
    "\n",
    "#removendo itens de um dicionário com .pop()\n",
    "#.pop() remove o item de um dicionário e atribui somente o VALOR a nova variável\n",
    "lucro_maio = lucro_2tri.pop('maio')\n",
    "print('Removido a chave maior e seu valor, e foi atribuido o valor a nova variavel:')\n",
    "print(lucro_2tri)\n",
    "print(lucro_maio, '\\n')\n",
    "\n",
    "#removendo todos os itens de um dicionário e o deixando vazio\n",
    "lucro_1tri.clear()\n",
    "print('Removido todos os itens do dicionário: ')\n",
    "print(lucro_1tri)\n",
    "\n"
   ]
  },
  {
   "cell_type": "markdown",
   "id": "920a1060",
   "metadata": {},
   "source": [
    "# Fazendo UNPACK em dicionários com o FOR"
   ]
  },
  {
   "cell_type": "code",
   "execution_count": 7,
   "id": "78a2eac3",
   "metadata": {},
   "outputs": [
    {
     "name": "stdout",
     "output_type": "stream",
     "text": [
      "{'tecnologia': 'iphone', 'refrigeracao': 'ar consul 12000 btu', 'livros': 'o alquimista', 'eletrodomestico': 'geladeira', 'lazer': 'prancha surf'}\n"
     ]
    }
   ],
   "source": [
    "mais_vendidos = {'tecnologia': 'iphone', 'refrigeracao': 'ar consul 12000 btu', 'livros': 'o alquimista', 'eletrodomestico': 'geladeira', 'lazer': 'prancha surf'}\n",
    "\n",
    "for chave in"
   ]
  },
  {
   "cell_type": "code",
   "execution_count": null,
   "id": "81a1c6ab",
   "metadata": {},
   "outputs": [],
   "source": []
  }
 ],
 "metadata": {
  "kernelspec": {
   "display_name": "Python 3 (ipykernel)",
   "language": "python",
   "name": "python3"
  },
  "language_info": {
   "codemirror_mode": {
    "name": "ipython",
    "version": 3
   },
   "file_extension": ".py",
   "mimetype": "text/x-python",
   "name": "python",
   "nbconvert_exporter": "python",
   "pygments_lexer": "ipython3",
   "version": "3.9.13"
  }
 },
 "nbformat": 4,
 "nbformat_minor": 5
}
