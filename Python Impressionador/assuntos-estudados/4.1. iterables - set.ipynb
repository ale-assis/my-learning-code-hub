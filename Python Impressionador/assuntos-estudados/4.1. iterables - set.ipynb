{
 "cells": [
  {
   "cell_type": "markdown",
   "metadata": {},
   "source": [
    "# Iterables: Set"
   ]
  },
  {
   "cell_type": "markdown",
   "metadata": {},
   "source": [
    "Desvantagem do set: os itens do set NÃO possui ordem  \n",
    "Isso significa que eu não posso fazer análises como: saber qual primeiro item, saber qual último item e etc  \n",
    "Quando você roda o código do set, os itens sempre vão aparecer em ordens diferentes, como se fossem embaralhados cada vez que o código é rodado...\n",
    "\n",
    "Vantagem do set: Não pode ter valores duplicados  \n",
    "Então você pode pegar uma lista que tem valores duplicados, transformar em set e depois transformar pra listas... isso vai remover os valores duplicados\n",
    "Ou pra fazer contagem distinta. Ou seja, você tem uma lista de clientes de uma loja e quer contar quantos clientes distintos tem na loja... Uma forma fácil é transformar a lista em set e então contar os itens do set. Pois você vai ta garantindo que não tenha valores duplicados\n",
    "\n"
   ]
  },
  {
   "cell_type": "code",
   "execution_count": 1,
   "metadata": {},
   "outputs": [
    {
     "name": "stdout",
     "output_type": "stream",
     "text": [
      "{'macarrao', 'azeite', 'arroz', 'atum', 'feijao'}\n"
     ]
    }
   ],
   "source": [
    "lista = ['arroz', 'feijao', 'macarrao', 'atum', 'azeite']\n",
    "\n",
    "conjunto = set(lista)\n",
    "print(conjunto)"
   ]
  },
  {
   "cell_type": "markdown",
   "metadata": {},
   "source": [
    "Duas formas de criar set: ou você cria o set já com itens ou você transforma uma lista que tem valores em um set"
   ]
  },
  {
   "cell_type": "markdown",
   "metadata": {},
   "source": [
    "Ao usar o restart do jupyter, tudo que estava salvo na memória, como todas as variáveis do código, são jogadas foras\n",
    "Pode usar isso para liberar espaço na memória?"
   ]
  },
  {
   "cell_type": "code",
   "execution_count": 7,
   "metadata": {},
   "outputs": [
    {
     "name": "stdout",
     "output_type": "stream",
     "text": [
      "14\n",
      "\n",
      "Conjunto de cpf: {'099.366.790-24', '817.754.550-76', '345.572.610-00', '864.687.780-93', '459.533.160-62', '141.876.850-22', '564.439.620-79'}\n",
      "Quantidade de registros distintos no conjunto: 7\n",
      "\n",
      "Lista atualizada com registros únicos: ['099.366.790-24', '817.754.550-76', '345.572.610-00', '864.687.780-93', '459.533.160-62', '141.876.850-22', '564.439.620-79']\n",
      "7\n"
     ]
    }
   ],
   "source": [
    "# lista com cpfs duplicados (7 cpfs distintos, mas cada um está duplicado... totalizando 14 registros na lista)\n",
    "cpf_list = ['564.439.620-79', '099.366.790-24', '345.572.610-00', '459.533.160-62', '817.754.550-76', '864.687.780-93', '141.876.850-22', '564.439.620-79', '099.366.790-24', '345.572.610-00', '459.533.160-62', '817.754.550-76', '864.687.780-93', '141.876.850-22']\n",
    "\n",
    "# sabendo quantas pessoas tem na lista de cpfs com len\n",
    "print(len(cpf_list))\n",
    "print()\n",
    "\n",
    "# transformando lista em set para garantir que cada registro seja único \n",
    "set_cpf_list = set(cpf_list)\n",
    "print(f'Conjunto de cpf: {set_cpf_list}')\n",
    "print(f'Quantidade de registros distintos no conjunto: {len(set_cpf_list)}')\n",
    "print()\n",
    "\n",
    "# retransformando o set em uma lista, para garantir que eu vou ter uma lista contendo apenas registros distintos/únicos\n",
    "list_cpf_customers = list(set_cpf_list)\n",
    "print(f'Lista atualizada com registros únicos: {list_cpf_customers}')\n",
    "print(len(list_cpf_customers))"
   ]
  }
 ],
 "metadata": {
  "kernelspec": {
   "display_name": "base",
   "language": "python",
   "name": "python3"
  },
  "language_info": {
   "codemirror_mode": {
    "name": "ipython",
    "version": 3
   },
   "file_extension": ".py",
   "mimetype": "text/x-python",
   "name": "python",
   "nbconvert_exporter": "python",
   "pygments_lexer": "ipython3",
   "version": "3.9.13"
  }
 },
 "nbformat": 4,
 "nbformat_minor": 2
}
