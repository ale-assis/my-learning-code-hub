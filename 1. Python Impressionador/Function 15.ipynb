{
 "cells": [
  {
   "cell_type": "markdown",
   "metadata": {},
   "source": [
    "# Exceções e Erros em Funções\n",
    "\n",
    "### Como \"testar\" erros e tratar exceções:"
   ]
  },
  {
   "cell_type": "markdown",
   "metadata": {},
   "source": [
    "try except é como se fosse um IF especializado em testar erros que podem vir a acontecer  \n",
    "2 casos:  \n",
    "- avisar um erro que o usuário cometeu\n",
    "- tratar o erro, tentando \"desviar dele\"\n",
    "\n",
    "o try except também é uma forma de evitar que o seu código pare assim que der o erro  \n",
    "try except pode ser usado tanto no escopo de funções como no escopo global \n",
    "qualquer erro que dê dentro do TRY vai fazer o código pular automaticamente pro except"
   ]
  },
  {
   "cell_type": "markdown",
   "metadata": {},
   "source": [
    "### Qual a diferença de usar print() e raise no except?  \n",
    "O print() é uma mensagem normal e não interrompe o código no except  \n",
    "Já o raise vai ser usado com o Tipo de erro() e vai ser um sinalizador de erro de fato, e isso vai interromper o código no except  \n",
    "Você pode usar Exception() ou os tipos de erros específicos:  \n",
    "raise TypeError('O erro foi esse')\n",
    "raise ValueError('O erro foi esse')\n",
    "raise ZeroDivisionError('O erro foi esse')"
   ]
  },
  {
   "cell_type": "raw",
   "metadata": {},
   "source": [
    "try:\n",
    "    o que eu quero tentar fazer\n",
    "except:\n",
    "    o que vou fazer caso dê erro"
   ]
  },
  {
   "cell_type": "markdown",
   "metadata": {},
   "source": [
    "1 - Tratamento simples (try except apenas)  \n",
    "Código da função inteiro dentro do try  \n",
    "primeira linha do try = linha que a gente ESPERA ocorrer algum erro\n",
    "Nesse caso, mesmo que o erro do except não ocorra na primeira linha do try mas sim em outras linhas, ainda assim o código vai cair dentro do except  \n",
    "Nesse caso, não vamos conseguir identificar a causa real do erro, pois vai ficar ambíguo  \n",
    "O ideal é ISOLAR a linha que esperamos o erro ocorrer, e então colocar o resto do código da função dentro do ELSE"
   ]
  },
  {
   "cell_type": "code",
   "execution_count": 4,
   "metadata": {},
   "outputs": [
    {
     "ename": "SyntaxError",
     "evalue": "expected ':' (1700146798.py, line 9)",
     "output_type": "error",
     "traceback": [
      "\u001b[1;36m  Cell \u001b[1;32mIn[4], line 9\u001b[1;36m\u001b[0m\n\u001b[1;33m    elif 'yahoo' in servidor\u001b[0m\n\u001b[1;37m                            ^\u001b[0m\n\u001b[1;31mSyntaxError\u001b[0m\u001b[1;31m:\u001b[0m expected ':'\n"
     ]
    }
   ],
   "source": [
    "def descobrir_servidor1(email):\n",
    "    try:\n",
    "        posicao_a = email.index('@')\n",
    "        servidor = email[posicao_a:]\n",
    "        if 'gmail' in servidor:\n",
    "            return 'gmail'\n",
    "        elif 'hotmail' in servidor or 'outlook' in servidor or 'live' in servidor:\n",
    "            return 'hotmail'\n",
    "        elif 'yahoo' in servidor\n",
    "            return 'yahoo'\n",
    "        elif 'uol' in servidor or 'bol' in servidor:\n",
    "            return 'uol'\n",
    "        else:\n",
    "            return 'não determinado'\n",
    "    except:\n",
    "        print('Email digitado não contém @. Digite novamente.')"
   ]
  },
  {
   "cell_type": "code",
   "execution_count": 5,
   "metadata": {},
   "outputs": [
    {
     "name": "stdout",
     "output_type": "stream",
     "text": [
      "Email digitado não contém @. Digite novamente.\n",
      "None\n"
     ]
    }
   ],
   "source": [
    "email = input('Qual o seu e-mail?')\n",
    "print(descobrir_servidor1(email))\n"
   ]
  },
  {
   "cell_type": "markdown",
   "metadata": {},
   "source": [
    "2 - Tratamento simples - try except \n",
    "Só a linha que esperamos dar erro dentro do try  \n",
    "Caso você coloque seu código fora do try e após o except, ele ainda vai rodar normalmente\n",
    "O código não vai ser encerrado no except, ele consegue executar as linhas debaixo também\n",
    "Agora caso esse código abaixo do except depender do funcionamento da linha no try, aí poderá um erro também, mas esse erro NÃO VAI ESTAR ligado ao fato do código estar abaixo do except:"
   ]
  },
  {
   "cell_type": "code",
   "execution_count": null,
   "metadata": {},
   "outputs": [],
   "source": [
    "# deu erro, mas foi por causa da variavel posicao_a, do try, que não foi carregada porque essa linha o usuario não vai digitar o @\n",
    "def descobrir_servidor2(email):\n",
    "    try:\n",
    "        posicao_a = email.index('@')\n",
    "    except:\n",
    "        print('Email digitado não contém @. Digite novamente!')\n",
    "    servidor = email[posicao_a:]\n",
    "    if 'gmail' in servidor:\n",
    "        return 'gmail'\n",
    "    elif 'hotmail' in servidor or 'outlook' in servidor or 'live' in servidor:\n",
    "        return 'hotmail'\n",
    "    elif 'yahoo' in servidor:\n",
    "        return 'yahoo'\n",
    "    elif 'uol' in servidor or 'bol' in servidor:\n",
    "        return 'uol'\n",
    "    else:\n",
    "        return 'não determinado'"
   ]
  },
  {
   "cell_type": "code",
   "execution_count": 8,
   "metadata": {},
   "outputs": [],
   "source": [
    "# O except vai ser rodado, informando o erro. Além disso, a linha seguinte vai ser rodada normalmente\n",
    "def descobrir_servidor2(email):\n",
    "    try:\n",
    "        posicao_a = email.index('@')\n",
    "    except:\n",
    "        print('Email digitado não contém @. Digite novamente.')\n",
    "    print('Resto do código da função rodou após o except')"
   ]
  },
  {
   "cell_type": "code",
   "execution_count": 9,
   "metadata": {},
   "outputs": [
    {
     "name": "stdout",
     "output_type": "stream",
     "text": [
      "Email digitado não contém @. Digite novamente.\n",
      "Resto do código da função rodou após o except\n",
      "None\n"
     ]
    }
   ],
   "source": [
    "email = input('Qual o seu e-mail?')\n",
    "print(descobrir_servidor2(email))\n"
   ]
  },
  {
   "cell_type": "markdown",
   "metadata": {},
   "source": [
    "Continuar a testar o try except de todas as formas possíveis para fixar o entendimento"
   ]
  },
  {
   "cell_type": "markdown",
   "metadata": {},
   "source": [
    "- Cuidado: uma vez dentro do try, qualquer erro vai levar ao except"
   ]
  },
  {
   "cell_type": "markdown",
   "metadata": {},
   "source": [
    "### Como \"printar\" um erro em uma function"
   ]
  },
  {
   "cell_type": "raw",
   "metadata": {},
   "source": [
    "raise Exception('O erro foi esse')\n",
    "\n",
    "ou então avisando qual o tipo de erro que ele teve\n",
    "\n",
    "raise TypeError('O erro foi esse')\n",
    "raise ValueError('O erro foi esse')\n",
    "raise ZeroDivisionError('O erro foi esse')"
   ]
  },
  {
   "cell_type": "code",
   "execution_count": null,
   "metadata": {},
   "outputs": [],
   "source": [
    "def descobrir_servidor(email):\n",
    "    posicao_a = email.index('@')\n",
    "    servidor = email[posicao_a:]\n",
    "    if 'gmail' in servidor:\n",
    "        return 'gmail'\n",
    "    elif 'hotmail' in servidor or 'outlook' in servidor or 'live' in servidor:\n",
    "        return 'hotmail'\n",
    "    elif 'yahoo' in servidor:\n",
    "        return 'yahoo'\n",
    "    elif 'uol' in servidor or 'bol' in servidor:\n",
    "        return 'uol'\n",
    "    else:\n",
    "        return 'não determinado'"
   ]
  },
  {
   "cell_type": "markdown",
   "metadata": {},
   "source": [
    "### Tratamento Completo:"
   ]
  },
  {
   "cell_type": "markdown",
   "metadata": {},
   "source": [
    "é possível colocar diferentes except no tratamento... você pode criar um except para cada tipo de erro específico  \n",
    "e o finally é sempre colocado por último, caso precise, porque o código do finally vai rodar independente se deu erro ou não  \n",
    "Qual a diferença de colocar o código da função dentro do try e colocar dentro do else?  \n",
    "- se você colcoar o código inteiro dentro do try, caso dê erro em outra linha que não seja a linha que vocÊ espera o erro ocorrer, não vai ter como você saber qual erro foi\n",
    "- o else só vai rodar se o try funcionar\n",
    "- quando você coloca apenas a linha que vai verificar o erro dentro do try, você vai estar isolando essa linha que vai dar o erro que você conhece"
   ]
  },
  {
   "cell_type": "raw",
   "metadata": {
    "vscode": {
     "languageId": "raw"
    }
   },
   "source": [
    "try:\n",
    "    tente fazer isso\n",
    "except ErroEspecífico:\n",
    "    deu esse erro aqui que era esperado \n",
    "except ValueError:\n",
    "    faz isso aqui\n",
    "else:\n",
    "    caso não dê o erro esperado, rode isso.\n",
    "finally:\n",
    "    independente do que acontecer, faça isso."
   ]
  },
  {
   "cell_type": "code",
   "execution_count": null,
   "metadata": {},
   "outputs": [],
   "source": []
  }
 ],
 "metadata": {
  "kernelspec": {
   "display_name": "Python 3",
   "language": "python",
   "name": "python3"
  },
  "language_info": {
   "codemirror_mode": {
    "name": "ipython",
    "version": 3
   },
   "file_extension": ".py",
   "mimetype": "text/x-python",
   "name": "python",
   "nbconvert_exporter": "python",
   "pygments_lexer": "ipython3",
   "version": "3.12.0"
  }
 },
 "nbformat": 4,
 "nbformat_minor": 4
}
