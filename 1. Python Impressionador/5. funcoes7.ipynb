{
 "cells": [
  {
   "cell_type": "markdown",
   "metadata": {},
   "source": [
    "# Funções - Return com mais de uma informação"
   ]
  },
  {
   "cell_type": "markdown",
   "metadata": {},
   "source": [
    "É possível retornar diferentes TIPOS de OBJETOS, através das funções:  \n",
    "- variáveis \n",
    "- strings\n",
    "- booleans\n",
    "- integers \n",
    "- floats \n",
    "- tuplas\n",
    "- dicionarios\n",
    "- listas e etc.\n",
    "\n",
    "Porque, no final das contas, você vai usar esse OBJETO do return para atribuir a uma nova variável no escopo GLOBAL do seu código "
   ]
  },
  {
   "cell_type": "markdown",
   "metadata": {},
   "source": [
    "Exemplo de função retornando booleano"
   ]
  },
  {
   "cell_type": "code",
   "execution_count": 1,
   "metadata": {},
   "outputs": [
    {
     "name": "stdout",
     "output_type": "stream",
     "text": [
      "O vendedor bateu a meta :)\n"
     ]
    }
   ],
   "source": [
    "def bateu_meta(vendas, meta):\n",
    "    if vendas >= meta:\n",
    "        return True\n",
    "    else:\n",
    "        return False\n",
    "\n",
    "vendas_jose = 200\n",
    "meta = 150\n",
    "\n",
    "# usando uma função diretamente dentro de um IF\n",
    "if bateu_meta(vendas_jose, meta):\n",
    "    print('O vendedor bateu a meta :)')\n",
    "else:\n",
    "    print('O vendedor não bateu a meta :(')\n",
    "\n"
   ]
  },
  {
   "cell_type": "markdown",
   "metadata": {},
   "source": [
    "Criando uma função que RETORNE mais de 1 valor"
   ]
  },
  {
   "cell_type": "code",
   "execution_count": 2,
   "metadata": {},
   "outputs": [
    {
     "data": {
      "text/plain": [
       "(15, -5, 0.5, 50)"
      ]
     },
     "execution_count": 2,
     "metadata": {},
     "output_type": "execute_result"
    }
   ],
   "source": [
    "def operacoes_basicas(num1, num2):\n",
    "    soma = num1 + num2\n",
    "    subtracao = num1 - num2\n",
    "    divisao = num1 / num2\n",
    "    multiplicacao = num1 * num2\n",
    "    return soma, subtracao, divisao, multiplicacao\n",
    "\n",
    "operacoes_basicas(5, 10)"
   ]
  },
  {
   "cell_type": "markdown",
   "metadata": {},
   "source": [
    "Criando uma função que filtre emails (se é gmail, hotmal, yahoo e etc)      "
   ]
  },
  {
   "cell_type": "code",
   "execution_count": 3,
   "metadata": {},
   "outputs": [
    {
     "name": "stdout",
     "output_type": "stream",
     "text": [
      "['emily.jones@outlook.com', 'linda_jackson@outlook.com']\n"
     ]
    }
   ],
   "source": [
    "def filtrar_lista_texto(lista, pedaco_texto):\n",
    "    lista_filtrada = []\n",
    "    for item in lista:\n",
    "        if pedaco_texto in item:\n",
    "            lista_filtrada.append(item)\n",
    "    return lista_filtrada\n",
    "\n",
    "lista_textos = [\n",
    "    \"alexis.smith@gmail.com\",\n",
    "    \"jane_doe1990@hotmail.com\",\n",
    "    \"charles.brown@yahoo.com\",\n",
    "    \"emily.jones@outlook.com\",\n",
    "    \"michael.taylor@gmail.com\",\n",
    "    \"sarah.wilson@hotmail.com\",\n",
    "    \"daniel.moore@yahoo.com\",\n",
    "    \"linda_jackson@outlook.com\",\n",
    "    \"jason.martin@gmail.com\",\n",
    "    \"susan.lewis@yahoo.com\"\n",
    "]\n",
    "\n",
    "# função foi usada diretamente na atribuição da variável lista\n",
    "lista = filtrar_lista_texto(lista_textos, 'outlook')\n",
    "print(lista)"
   ]
  },
  {
   "cell_type": "markdown",
   "metadata": {},
   "source": [
    "Por padrão, quando você retorna mais de 1 valor em uma função, esses valores serão colocados em uma TUPLA"
   ]
  },
  {
   "cell_type": "code",
   "execution_count": 4,
   "metadata": {},
   "outputs": [
    {
     "data": {
      "text/plain": [
       "(15, -5, 0.5, 50)"
      ]
     },
     "execution_count": 4,
     "metadata": {},
     "output_type": "execute_result"
    }
   ],
   "source": [
    "def operacoes_basicas(num1, num2):\n",
    "    soma = num1 + num2\n",
    "    subtracao = num1 - num2\n",
    "    divisao = num1 / num2\n",
    "    multiplicacao = num1 * num2\n",
    "    return soma, subtracao, divisao, multiplicacao\n",
    "\n",
    "operacoes_basicas(5, 10)"
   ]
  },
  {
   "cell_type": "markdown",
   "metadata": {},
   "source": [
    "Caso você queira, é possível os valores de uma função em forma de LISTA, DICIONÁRIO e até CONJUNTOS também.  \n",
    "Mas o recomendado é sempre retornar os valores em forma de TUPLA"
   ]
  },
  {
   "cell_type": "code",
   "execution_count": 5,
   "metadata": {},
   "outputs": [
    {
     "data": {
      "text/plain": [
       "[15, -5, 0.5, 50]"
      ]
     },
     "execution_count": 5,
     "metadata": {},
     "output_type": "execute_result"
    }
   ],
   "source": [
    "# retornando os valores em forma de LISTA\n",
    "def operacoes_basicas(num1, num2):\n",
    "    soma = num1 + num2\n",
    "    subtracao = num1 - num2\n",
    "    divisao = num1 / num2\n",
    "    multiplicacao = num1 * num2\n",
    "    return [soma, subtracao, divisao, multiplicacao]\n",
    "\n",
    "operacoes_basicas(5, 10)"
   ]
  },
  {
   "cell_type": "code",
   "execution_count": 6,
   "metadata": {},
   "outputs": [
    {
     "data": {
      "text/plain": [
       "{-5, 0.5, 15, 50}"
      ]
     },
     "execution_count": 6,
     "metadata": {},
     "output_type": "execute_result"
    }
   ],
   "source": [
    "# retornando os valores em forma de CONJUNTO\n",
    "def operacoes_basicas(num1, num2):\n",
    "    soma = num1 + num2\n",
    "    subtracao = num1 - num2\n",
    "    divisao = num1 / num2\n",
    "    multiplicacao = num1 * num2\n",
    "    return {soma, subtracao, divisao, multiplicacao}\n",
    "\n",
    "operacoes_basicas(5, 10)"
   ]
  },
  {
   "cell_type": "markdown",
   "metadata": {},
   "source": [
    "Para retornar os valores de uma lista em forma de dicionário, você tem que formatar o retorno para que tenha pelo menos 2 valores:  \n",
    "- um para a CHAVE\n",
    "- um para o VALOR "
   ]
  },
  {
   "cell_type": "code",
   "execution_count": 7,
   "metadata": {},
   "outputs": [
    {
     "data": {
      "text/plain": [
       "{15: -5, 0.5: 50}"
      ]
     },
     "execution_count": 7,
     "metadata": {},
     "output_type": "execute_result"
    }
   ],
   "source": [
    "# retornando os valores em forma de DICIONÁRIO\n",
    "def operacoes_basicas(num1, num2):\n",
    "    soma = num1 + num2\n",
    "    subtracao = num1 - num2\n",
    "    divisao = num1 / num2\n",
    "    multiplicacao = num1 * num2\n",
    "    return {soma:subtracao, divisao: multiplicacao}\n",
    "\n",
    "operacoes_basicas(5, 10)"
   ]
  },
  {
   "cell_type": "markdown",
   "metadata": {},
   "source": [
    "Qual a função do `len()`?  \n",
    "O `len()` serve para que a gente \"MATERIALIZE\" índice da lista em forma de VALOR... Se uma lista tem 9 itens, isso significa que  \n",
    "essa lista possui um índice de 10... Para que possamos \"pegar\" esse 10 para fazer operações no código, usamos o `len()`"
   ]
  },
  {
   "cell_type": "code",
   "execution_count": null,
   "metadata": {},
   "outputs": [],
   "source": []
  }
 ],
 "metadata": {
  "kernelspec": {
   "display_name": "Python 3",
   "language": "python",
   "name": "python3"
  },
  "language_info": {
   "codemirror_mode": {
    "name": "ipython",
    "version": 3
   },
   "file_extension": ".py",
   "mimetype": "text/x-python",
   "name": "python",
   "nbconvert_exporter": "python",
   "pygments_lexer": "ipython3",
   "version": "3.12.0"
  }
 },
 "nbformat": 4,
 "nbformat_minor": 2
}
