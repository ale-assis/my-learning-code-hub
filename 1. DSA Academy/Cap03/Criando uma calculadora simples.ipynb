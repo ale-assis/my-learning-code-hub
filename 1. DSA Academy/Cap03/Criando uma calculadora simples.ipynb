{
 "cells": [
  {
   "cell_type": "code",
   "execution_count": 11,
   "id": "e9bb3b41",
   "metadata": {},
   "outputs": [
    {
     "name": "stdout",
     "output_type": "stream",
     "text": [
      "Bem vindo à Calculadora simples!\n",
      "\n",
      "Para começarmos, digite um valor que deseja calcular: 10\n",
      "Muito bem! Agora, digite outro valor que deseja calcular: 10\n",
      "Qual operação você deseja fazer? Digite o sinal de operação que aparece após o \"=\":\n",
      "multiplicação = *\n",
      "divisão = /\n",
      "soma = +\n",
      "subtração = -\n",
      "+\n",
      "O resultado do cálculo é:  20.0\n"
     ]
    }
   ],
   "source": [
    "print('Bem vindo à Calculadora simples!\\n')\n",
    "num1 = float(input('Para começarmos, digite um valor que deseja calcular: '))\n",
    "num2 = float(input('Muito bem! Agora, digite outro valor que deseja calcular: '))\n",
    "operador = input('''Qual operação você deseja fazer? Digite o sinal de operação que aparece após o \"=\":\n",
    "multiplicação = *\n",
    "divisão = /\n",
    "soma = +\n",
    "subtração = -\\n''')\n",
    "\n",
    "if operador == '*':\n",
    "    resultado = num1 * num2\n",
    "    print('O resultado do cálculo é: ', resultado)\n",
    "    \n",
    "elif operador == '/' and num2 != 0:\n",
    "    resultado = num1 / num2\n",
    "    print('O resultado do cálculo é: ', resultado)\n",
    "    \n",
    "elif operador == '+':\n",
    "    resultado = num1 + num2\n",
    "    print('O resultado do cálculo é: ', resultado)\n",
    "    \n",
    "elif operador == '-':\n",
    "    resultado = num1 - num2\n",
    "    print('O resultado do cálculo é: ', resultado)\n",
    "    \n",
    "else:\n",
    "    print('Operação inválida, tente novamente!')"
   ]
  },
  {
   "cell_type": "code",
   "execution_count": null,
   "id": "20c2be05",
   "metadata": {},
   "outputs": [],
   "source": []
  },
  {
   "cell_type": "code",
   "execution_count": null,
   "id": "e7456abf",
   "metadata": {},
   "outputs": [],
   "source": []
  }
 ],
 "metadata": {
  "kernelspec": {
   "display_name": "Python 3 (ipykernel)",
   "language": "python",
   "name": "python3"
  },
  "language_info": {
   "codemirror_mode": {
    "name": "ipython",
    "version": 3
   },
   "file_extension": ".py",
   "mimetype": "text/x-python",
   "name": "python",
   "nbconvert_exporter": "python",
   "pygments_lexer": "ipython3",
   "version": "3.9.13"
  }
 },
 "nbformat": 4,
 "nbformat_minor": 5
}
