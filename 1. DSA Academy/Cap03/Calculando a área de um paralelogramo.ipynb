{
 "cells": [
  {
   "cell_type": "markdown",
   "id": "be1b8bb9",
   "metadata": {},
   "source": [
    "Descobrindo qual a versão do python"
   ]
  },
  {
   "cell_type": "code",
   "execution_count": 2,
   "id": "928c2da8",
   "metadata": {},
   "outputs": [
    {
     "name": "stdout",
     "output_type": "stream",
     "text": [
      "A versão do python sendo utilizada é a: 3.9.13\n"
     ]
    }
   ],
   "source": [
    "from platform import python_version\n",
    "print('A versão do python sendo utilizada é a:', python_version())"
   ]
  },
  {
   "cell_type": "code",
   "execution_count": 3,
   "id": "c071a1c6",
   "metadata": {},
   "outputs": [
    {
     "name": "stdout",
     "output_type": "stream",
     "text": [
      "Bem vindo ao Calculador de Área de Paralelogramo\n",
      "Para começarmos, por favor, insira o valor da base do paralelogramo: 6\n",
      "Muito bem! Agora insira o valor da altura do paralelogramo: 4\n",
      "A área do paralelogramo é  24.0\n"
     ]
    }
   ],
   "source": [
    "# Calculando a área de um Paralelograma\n",
    "\n",
    "print('Bem vindo ao Calculador de Área de Paralelogramo')\n",
    "base = float(input('Para começarmos, por favor, insira o valor da base do paralelogramo: '))\n",
    "altura = float(input('Muito bem! Agora insira o valor da altura do paralelogramo: '))\n",
    "area = base * altura\n",
    "print('A área do paralelogramo é ', area)\n"
   ]
  }
 ],
 "metadata": {
  "kernelspec": {
   "display_name": "Python 3 (ipykernel)",
   "language": "python",
   "name": "python3"
  },
  "language_info": {
   "codemirror_mode": {
    "name": "ipython",
    "version": 3
   },
   "file_extension": ".py",
   "mimetype": "text/x-python",
   "name": "python",
   "nbconvert_exporter": "python",
   "pygments_lexer": "ipython3",
   "version": "3.9.13"
  }
 },
 "nbformat": 4,
 "nbformat_minor": 5
}
