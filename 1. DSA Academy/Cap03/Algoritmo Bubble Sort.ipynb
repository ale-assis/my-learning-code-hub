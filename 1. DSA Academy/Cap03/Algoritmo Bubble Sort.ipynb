{
 "cells": [
  {
   "cell_type": "markdown",
   "id": "e3851048",
   "metadata": {},
   "source": [
    "Criando um algoritmo de bubble sort para ordenar de forma CRESCENTE uma lista com números embaralhados"
   ]
  },
  {
   "cell_type": "code",
   "execution_count": 6,
   "id": "89a3cb31",
   "metadata": {},
   "outputs": [
    {
     "name": "stdout",
     "output_type": "stream",
     "text": [
      "[1, 2, 3, 5, 7, 12, 25, 34, 37, 45, 54]\n"
     ]
    }
   ],
   "source": [
    "lista1 = [25, 12, 7, 2, 45, 34, 1, 5, 3, 54, 37]\n",
    "\n",
    "def bubble_sort(arr):\n",
    "    # define o tamanho da lista\n",
    "    n = len(lista1)\n",
    "    \n",
    "    # 1º loop percorre a lista por inteiro\n",
    "    for i in range(n):\n",
    "        \n",
    "        # 2º loop evita que o item atual se compare com ele mesmo\n",
    "        for j in range(0, n-i-1):\n",
    "            \n",
    "            # verifica se o item atual é maior que o próximo item, ou seja, se o item com índice +1 em relação ao item atual\n",
    "            if arr[j] > arr[j+1]:\n",
    "                \n",
    "                # se o item atual for maior que o próximo item (o que tem índice +1), eles trocam de lugar\n",
    "                arr[j], arr[j+1] = arr[j+1], arr[j]\n",
    "    return arr\n",
    "\n",
    "print(bubble_sort(lista1))"
   ]
  },
  {
   "cell_type": "markdown",
   "id": "54e56c43",
   "metadata": {},
   "source": [
    "Perceba que para trocar de lugar os itens dentro da lista, o que é feito é a troca de lugar entre as etiquetas que acessam\n",
    "os itens da lista, através do índice"
   ]
  },
  {
   "cell_type": "code",
   "execution_count": null,
   "id": "8334c410",
   "metadata": {},
   "outputs": [],
   "source": []
  }
 ],
 "metadata": {
  "kernelspec": {
   "display_name": "Python 3 (ipykernel)",
   "language": "python",
   "name": "python3"
  },
  "language_info": {
   "codemirror_mode": {
    "name": "ipython",
    "version": 3
   },
   "file_extension": ".py",
   "mimetype": "text/x-python",
   "name": "python",
   "nbconvert_exporter": "python",
   "pygments_lexer": "ipython3",
   "version": "3.9.13"
  }
 },
 "nbformat": 4,
 "nbformat_minor": 5
}
