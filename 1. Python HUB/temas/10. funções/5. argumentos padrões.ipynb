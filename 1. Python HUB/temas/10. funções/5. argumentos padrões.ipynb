{
 "cells": [
  {
   "cell_type": "markdown",
   "metadata": {},
   "source": [
    "# Funções - Valores Padrões para os Argumentos"
   ]
  },
  {
   "cell_type": "markdown",
   "metadata": {},
   "source": [
    "Criando função para calcular imposto  \n",
    "\n",
    "A carga tributária é o % que o imposto representa no preço total  \n",
    "Como a sua função já é a carga tributária, não precisa criar uma variável chamada carga...  \n",
    "\n",
    "Basta retornar a operação diretamente\n"
   ]
  },
  {
   "cell_type": "code",
   "execution_count": 3,
   "metadata": {},
   "outputs": [
    {
     "name": "stdout",
     "output_type": "stream",
     "text": [
      "20.0%\n"
     ]
    }
   ],
   "source": [
    "def carga_tributaria(preco, custo, lucro):\n",
    "    imposto = preco - custo - lucro\n",
    "    return imposto / preco\n",
    "\n",
    "preco = 1500\n",
    "custo = 400\n",
    "lucro = 800\n",
    "\n",
    "print(f'{carga_tributaria(preco, custo, lucro):.1%}')"
   ]
  },
  {
   "cell_type": "markdown",
   "metadata": {},
   "source": [
    "Argumentos padrões entram em jogo caso o usuário não defina um argumento na hora de chamar a função  \n",
    "\n",
    "Na função abaixo, temos duas possibilidades\n",
    "de código:  \n",
    "- Todo em letras maiúsculas (M)\n",
    "- Todo em letras minúsculas (m)\n",
    "\n",
    "Nosso padrão será minúsculas, mas o usuário\n",
    "poderá usar a palavra chave padrão=‘M’ para\n",
    "alterar para letras maiúsculas."
   ]
  },
  {
   "cell_type": "code",
   "execution_count": 21,
   "metadata": {},
   "outputs": [
    {
     "name": "stdout",
     "output_type": "stream",
     "text": [
      "['ABC12', 'ABC34', 'ABC37']\n"
     ]
    }
   ],
   "source": [
    "def padronizar_codigos(lista_codigos, padrao='m'):\n",
    "    for i, item in enumerate(lista_codigos):\n",
    "        item = item.replace('  ', ' ')\n",
    "        item = item.strip()\n",
    "        if padrao == 'm':\n",
    "            item = item.casefold()\n",
    "        elif padrao == 'M':\n",
    "            item = item.upper()\n",
    "        lista_codigos[i] = item\n",
    "    return lista_codigos\n",
    "\n",
    "cod_produtos = ['  ABC12  ', 'abc34', 'AbC37']\n",
    "print(padronizar_codigos(cod_produtos, 'M'))"
   ]
  },
  {
   "cell_type": "markdown",
   "metadata": {},
   "source": [
    "Mesma função, mas usada SEM colocar o argumento padrão  \n",
    "Mesmo assim ela vai funcionar, porque nós definimos um argumento padrão para ela... mesmo que o argumento não seja colocado, a função usa o argumento padrão no lugar"
   ]
  },
  {
   "cell_type": "code",
   "execution_count": 22,
   "metadata": {},
   "outputs": [
    {
     "name": "stdout",
     "output_type": "stream",
     "text": [
      "['abc12', 'abc34', 'abc37']\n"
     ]
    }
   ],
   "source": [
    "def padronizar_codigos(lista_codigos, padrao='m'):\n",
    "    for i, item in enumerate(lista_codigos):\n",
    "        item = item.replace('  ', ' ')\n",
    "        item = item.strip()\n",
    "        if padrao == 'm':\n",
    "            item = item.casefold()\n",
    "        elif padrao == 'M':\n",
    "            item = item.upper()\n",
    "        lista_codigos[i] = item\n",
    "    return lista_codigos\n",
    "\n",
    "cod_produtos = ['  ABC12  ', 'abc34', 'AbC37']\n",
    "print(padronizar_codigos(cod_produtos))"
   ]
  },
  {
   "cell_type": "markdown",
   "metadata": {},
   "source": [
    "### Modificando o valor da lista original ao fazer um for\n",
    "\n",
    "O código abaixo não vai funcionar corretamente"
   ]
  },
  {
   "cell_type": "code",
   "execution_count": 6,
   "metadata": {},
   "outputs": [
    {
     "name": "stdout",
     "output_type": "stream",
     "text": [
      "[10, 20, 30]\n"
     ]
    }
   ],
   "source": [
    "lista = [10, 20, 30]\n",
    "for item in lista:\n",
    "    item += 5\n",
    "\n",
    "print(lista)"
   ]
  },
  {
   "cell_type": "markdown",
   "metadata": {},
   "source": [
    "Para modificar o valor direto na lista com for, você tem que atribuir a operação ao ÍNDICE da lista  \n",
    "Para isso vamos precisar iterar sobre o índice e também sobre os valores da lista.  \n",
    "Os índices serão `i`  \n",
    "Os valores serão `item`  \n",
    "\n",
    "E então faz a operação REATRIBUINDO a variável dos valores da lista  \n",
    "E por fim reatribui os novos valores em cada índice da lista"
   ]
  },
  {
   "cell_type": "code",
   "execution_count": 19,
   "metadata": {},
   "outputs": [
    {
     "name": "stdout",
     "output_type": "stream",
     "text": [
      "[15, 25, 35]\n"
     ]
    }
   ],
   "source": [
    "lista = [10, 20, 30]\n",
    "\n",
    "for i, item in enumerate(lista):\n",
    "    item += 5\n",
    "    lista[i] = item\n",
    "\n",
    "print(lista)"
   ]
  },
  {
   "cell_type": "markdown",
   "metadata": {},
   "source": [
    "Retornando apenas 1 valor de uma iteração no for    \n",
    "\n",
    "Será retornado apenas o primeiro valor... isso significa que o `for` só vai fazer 1 iteração, e não 6 (range = 5)"
   ]
  },
  {
   "cell_type": "code",
   "execution_count": 23,
   "metadata": {},
   "outputs": [
    {
     "name": "stdout",
     "output_type": "stream",
     "text": [
      "0\n"
     ]
    }
   ],
   "source": [
    "def fazer_for():\n",
    "    for i in range(5):\n",
    "        return i\n",
    "\n",
    "print(fazer_for())"
   ]
  }
 ],
 "metadata": {
  "kernelspec": {
   "display_name": "base",
   "language": "python",
   "name": "python3"
  },
  "language_info": {
   "codemirror_mode": {
    "name": "ipython",
    "version": 3
   },
   "file_extension": ".py",
   "mimetype": "text/x-python",
   "name": "python",
   "nbconvert_exporter": "python",
   "pygments_lexer": "ipython3",
   "version": "3.9.13"
  }
 },
 "nbformat": 4,
 "nbformat_minor": 2
}
