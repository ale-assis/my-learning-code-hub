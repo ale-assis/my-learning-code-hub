{
 "cells": [
  {
   "cell_type": "markdown",
   "metadata": {},
   "source": [
    "# Funções - Tratando erros com try except"
   ]
  },
  {
   "cell_type": "markdown",
   "metadata": {},
   "source": [
    "try funciona como uma CONDIÇÃO INICIAL  \n",
    "caso essa condição não seja atendida, então o código cai dentro do except e exibe o erro  \n",
    "caso a condição seja sim atendida, então o código entra no bloco do else  \n",
    "\n",
    "perceba que o try except é uma forma mais \"setorizada\" de você digitar o código, pois vai permitindo colocar condições para garantir que o usuário esteja imputando valores corretamente  \n",
    "\n",
    "try except pode ser usado tanto dentro de functions quanto dentro de funções normais"
   ]
  },
  {
   "cell_type": "code",
   "execution_count": null,
   "metadata": {},
   "outputs": [
    {
     "ename": "",
     "evalue": "",
     "output_type": "error",
     "traceback": [
      "\u001b[1;31mRunning cells with 'anaconda3 (Python 3.9.13)' requires the ipykernel package.\n",
      "\u001b[1;31mRun the following command to install 'ipykernel' into the Python environment. \n",
      "\u001b[1;31mCommand: 'conda install -p d:\\anaconda3 ipykernel --update-deps --force-reinstall'"
     ]
    }
   ],
   "source": [
    "# Criando uma try except simples\n",
    "def descobrir_servidor(email):\n",
    "    try:\n",
    "        posicao_a = email.index('@')\n",
    "        servidor = email[posicao_a:]\n",
    "        if 'gmail' in servidor:\n",
    "            return 'gmail'\n",
    "        elif 'outlook' in servidor or 'hotmail' in servidor or 'live' in servidor:\n",
    "            return 'hotmail'\n",
    "        elif 'yahoo' in servidor:\n",
    "            return 'yahoo'\n",
    "        else:\n",
    "            return 'outro servidor de email'\n",
    "    except:\n",
    "        raise ValueError('O E-mail digitado não tem @, digite novamente.')\n",
    "\n",
    "# Criando uma try except simples que retorna uma mensagem ao invés de um erro\n",
    "# mesmo o try tendo mais de 1 linha, a primeira linha é a condição para que as demais continuem rodando...\n",
    "# se der erro na primeira linha do try, automaticamente o except é executado\n",
    "def descobrir_servidor(email):\n",
    "    try:\n",
    "        posicao_a = email.index('@')\n",
    "        servidor = email[posicao_a:]\n",
    "        if 'gmail' in servidor:\n",
    "            return 'gmail'\n",
    "        elif 'outlook' in servidor or 'hotmail' in servidor or 'live' in servidor:\n",
    "            return 'hotmail'\n",
    "        elif 'yahoo' in servidor:\n",
    "            return 'yahoo'\n",
    "        else:\n",
    "            return 'outro servidor de email'\n",
    "    except:\n",
    "        print('Digite um e-mail válido.')\n",
    "        \n",
    "\n",
    "# Criando uma try except com else \n",
    "# apenas a primeira linha fica na try e o resto do try fica dentro do else\n",
    "def descobrir_servidor(email):\n",
    "    try:\n",
    "        posicao_a = email.index('@')\n",
    "    except:\n",
    "        raise ValueError('O E-mail digitado não tem @, digite novamente.')\n",
    "    else:\n",
    "        servidor = email[posicao_a:]\n",
    "        if 'gmail' in servidor:\n",
    "            return 'gmail'\n",
    "        elif 'outlook' in servidor or 'hotmail' in servidor or 'live' in servidor:\n",
    "            return 'hotmail'\n",
    "        elif 'yahoo' in servidor:\n",
    "            return 'yahoo'\n",
    "        else:\n",
    "            return 'outro servidor de email'\n",
    "        \n",
    "# Criando uma try except com else mas que retorna uma MENSAGEM ao invés de erro\n",
    "def descobrir_servidor(email):\n",
    "    try:\n",
    "        posicao_a = email.index('@')\n",
    "    except:\n",
    "        print('Digite um e-mail válido.')\n",
    "    else:\n",
    "        servidor = email[posicao_a:]\n",
    "        if 'gmail' in servidor:\n",
    "            return 'gmail'\n",
    "        elif 'outlook' in servidor or 'hotmail' in servidor or 'live' in servidor:\n",
    "            return 'hotmail'\n",
    "        elif 'yahoo' in servidor:\n",
    "            return 'yahoo'\n",
    "        else:\n",
    "            return 'outro servidor de email'\n",
    "\n",
    "descobrir_servidor('alexandre@uol.com')"
   ]
  },
  {
   "cell_type": "markdown",
   "metadata": {},
   "source": [
    "O problema de fazer o try except simples é que, cada linha do try que der erro vai pular automaticamente pro except, ou seja, não tem como você controlar cada erro que acontecer, porque só vai ter 1 mensagem no except (que explica 1 erro apenas). Por esse motivo, é ideal que o try tenha apenas 1 linha de código"
   ]
  },
  {
   "cell_type": "markdown",
   "metadata": {},
   "source": [
    "É possível você personalizar a mensagem de erro no exception por meio de algumas palavras chaves:"
   ]
  },
  {
   "cell_type": "code",
   "execution_count": 2,
   "metadata": {},
   "outputs": [],
   "source": [
    "# Criando uma try except usando raise Exception\n",
    "def descobrir_servidor(email):\n",
    "    try:\n",
    "        posicao_a = email.index('@')\n",
    "    except:\n",
    "        raise Exception('O email digitado não contém @')\n",
    "    else:\n",
    "        servidor = email[posicao_a:]\n",
    "        if 'gmail' in servidor:\n",
    "            return 'gmail'\n",
    "        elif 'outlook' in servidor or 'hotmail' in servidor or 'live' in servidor:\n",
    "            return 'hotmail'\n",
    "        elif 'yahoo' in servidor:\n",
    "            return 'yahoo'\n",
    "        else:\n",
    "            return 'outro servidor de email'\n",
    "        \n",
    "\n",
    "# Criando uma try except usando raise TypeError\n",
    "def descobrir_servidor(email):\n",
    "    try:\n",
    "        posicao_a = email.index('@')\n",
    "    except:\n",
    "        raise TypeError('O email digitado não contém @')\n",
    "    else:\n",
    "        servidor = email[posicao_a:]\n",
    "        if 'gmail' in servidor:\n",
    "            return 'gmail'\n",
    "        elif 'outlook' in servidor or 'hotmail' in servidor or 'live' in servidor:\n",
    "            return 'hotmail'\n",
    "        elif 'yahoo' in servidor:\n",
    "            return 'yahoo'\n",
    "        else:\n",
    "            return 'outro servidor de email'\n",
    "        \n",
    "# Criando uma try except usando raise ZeroDivisionError\n",
    "def descobrir_servidor(email):\n",
    "    try:\n",
    "        posicao_a = email.index('@')\n",
    "    except:\n",
    "        raise ZeroDivisionError('O email digitado não contém @')\n",
    "    else:\n",
    "        servidor = email[posicao_a:]\n",
    "        if 'gmail' in servidor:\n",
    "            return 'gmail'\n",
    "        elif 'outlook' in servidor or 'hotmail' in servidor or 'live' in servidor:\n",
    "            return 'hotmail'\n",
    "        elif 'yahoo' in servidor:\n",
    "            return 'yahoo'\n",
    "        else:\n",
    "            return 'outro servidor de email'"
   ]
  },
  {
   "cell_type": "markdown",
   "metadata": {},
   "source": [
    "Existem diversos tipos de erros que você pode colocar no except, e isso vai depender do seu código.   \n",
    "Você pode consultar uma biblioteca de erros e checar qual código de erro se adequa mais ao seu código atual."
   ]
  },
  {
   "cell_type": "markdown",
   "metadata": {},
   "source": [
    "O Exception é um tratamento de erros mais geral. Caso você queira ser mais específico, pode usar os tipos mais específicos de erros"
   ]
  },
  {
   "cell_type": "markdown",
   "metadata": {},
   "source": [
    "O finally vai rodar independente se tiver dado um erro ou não. É o código que vocÊ quer que rode, independente do erro ou não. No entanto, o finally é menos comum de ser usado... o mais comum é o try except, e um pouco mais também é usado o else."
   ]
  },
  {
   "cell_type": "code",
   "execution_count": null,
   "metadata": {},
   "outputs": [],
   "source": [
    "# Criando uma try exception com finally\n",
    "try:\n",
    "    # tente fazer isso\n",
    "    print(\"Executando o bloco try\")\n",
    "except KeyError:\n",
    "    # deu esse erro aqui que era esperado\n",
    "    print(\"Erro KeyError capturado\")\n",
    "else:\n",
    "    # caso não dê o erro esperado, rode isso\n",
    "    print(\"Nenhum erro ocorreu\")\n",
    "finally:\n",
    "    # independentemente do que acontecer, faça isso\n",
    "    print(\"Bloco finally executado\")"
   ]
  },
  {
   "cell_type": "markdown",
   "metadata": {},
   "source": [
    "### Tipos de Erros e Exceções\n",
    "\n",
    "O Python tem inúmeros erros e exceções já prontas dentro dele, a lista completa está em: https://docs.python.org/3/library/exceptions.html"
   ]
  },
  {
   "cell_type": "markdown",
   "metadata": {},
   "source": [
    "### Principais Erros/Exceções"
   ]
  },
  {
   "cell_type": "markdown",
   "metadata": {},
   "source": [
    "#### 1. ZeroDivisionError\n",
    "\n",
    "Quando tentamos dividir um número por zero  \n",
    "\n",
    "#### 2. IndexError ou KeyError\n",
    "\n",
    "Quando tentamos pegar um índice que não existe em uma lista ou uma chave que não existe em um dicionário  \n",
    "\n",
    "#### 3. TypeError ou AttributeError\n",
    "\n",
    "Quando tentamos atribuir um parâmetro para uma função que não tem parâmetros ou que não possui aquele parâmetro específico ou algum outro erro no parâmetro passado para a função  \n",
    "\n",
    "#### 4. ImportError ou ModuleNotFoundError\n",
    "\n",
    "Quando tentamos importar um módulo não instalado no nosso computador ou algum objeto/função de um módulo que não existe  \n",
    "\n",
    "#### 5. NameError\n",
    "\n",
    "Quando tentamos usar uma variável que não existe/não foi iniciada  \n",
    "\n",
    "#### 6. SyntaxError\n",
    "\n",
    "Quando fizemos algum erro de escrita no código (deixamos de fechar algum parênteses, colchete ou chaves), escrevemos algo que não pode ser escrito ou escrevemos de forma errada  \n",
    "\n",
    "#### 7. IndentationError ou TabError\n",
    "\n",
    "Quando damos mais ou menos vezes Tab do que deveria em alguma linha de código (mais ou menos indentação)  \n",
    "\n",
    "#### 8. TypeError\n",
    "\n",
    "Quando tentamos fazer uma operação com um tipo de variável que não pode ser feito nela, ex: tentamos pegar o índice de um item de uma variável que é inteiro (ao invés de uma lista). Como números inteiros não são listas, teremos um typeerror   \n",
    "\n",
    "#### 9. UnicodeError\n",
    "\n",
    "Quando o programa não conseguiu usar o método de encoding correto. Normalmente isso sinaliza a existência de algum caractere especial como ~, ç, etc. que está atrapalhando o código.  \n",
    "\n",
    "#### 10. ValueError\n",
    "\n",
    "Quando passamos um valor que não pode ser passado para uma função ou método.\n",
    "\n"
   ]
  }
 ],
 "metadata": {
  "kernelspec": {
   "display_name": "Python 3",
   "language": "python",
   "name": "python3"
  },
  "language_info": {
   "codemirror_mode": {
    "name": "ipython",
    "version": 3
   },
   "file_extension": ".py",
   "mimetype": "text/x-python",
   "name": "python",
   "nbconvert_exporter": "python",
   "pygments_lexer": "ipython3",
   "version": "3.12.0"
  }
 },
 "nbformat": 4,
 "nbformat_minor": 2
}
