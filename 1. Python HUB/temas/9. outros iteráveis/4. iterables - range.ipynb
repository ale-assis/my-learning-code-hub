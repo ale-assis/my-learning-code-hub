{
 "cells": [
  {
   "cell_type": "markdown",
   "metadata": {},
   "source": [
    "# Iterables: Range"
   ]
  },
  {
   "cell_type": "markdown",
   "metadata": {},
   "source": [
    "Assim como as listas, tuplas, dicionários e strings, o RANGE também é um objeto iterável  \n",
    "\n",
    "No range, o último item é sempre EXCLUDENTE  \n",
    "\n",
    "range(5) -> usado em uma lista com 5 índices (0,1,2,3,4) e temos que colocar 1 a mais, porque o último item do range é sempre excludente\n",
    "\n",
    "3 formas de usar o range\n",
    "\n",
    "\n"
   ]
  },
  {
   "cell_type": "markdown",
   "metadata": {},
   "source": [
    "# 1º FORMA DE USAR O RANGE: intervalo de índices (5 = 0, 1, 2, 3, 4)"
   ]
  },
  {
   "cell_type": "code",
   "execution_count": 33,
   "metadata": {},
   "outputs": [
    {
     "name": "stdout",
     "output_type": "stream",
     "text": [
      "Produtos: arroz, Quantidade em estoque: 50\n",
      "Produtos: feijao, Quantidade em estoque: 100\n",
      "Produtos: macarrao, Quantidade em estoque: 20\n",
      "Produtos: atum, Quantidade em estoque: 5\n",
      "Produtos: azeite, Quantidade em estoque: 80\n"
     ]
    }
   ],
   "source": [
    "produtos = ['arroz', 'feijao', 'macarrao', 'atum', 'azeite']\n",
    "estoque = [50, 100, 20, 5, 80]\n",
    "\n",
    "for i in range(5):\n",
    "    print(f'Produtos: {produtos[i]}, Quantidade em estoque: {estoque[i]}')"
   ]
  },
  {
   "cell_type": "markdown",
   "metadata": {},
   "source": [
    "# 2º FORMA DE USAR O RANGE: excludente -1"
   ]
  },
  {
   "cell_type": "code",
   "execution_count": 34,
   "metadata": {},
   "outputs": [
    {
     "name": "stdout",
     "output_type": "stream",
     "text": [
      "1\n",
      "2\n",
      "3\n",
      "4\n",
      "5\n",
      "6\n",
      "7\n",
      "8\n",
      "9\n",
      "1\n",
      "2\n",
      "3\n",
      "4\n",
      "5\n",
      "6\n",
      "7\n",
      "8\n",
      "9\n",
      "10\n"
     ]
    }
   ],
   "source": [
    "# range(inicio, fim) -> começa do ponto que colocamos no inicio e vai até o ponto que colocamos no fim\n",
    "# printa A PARTIR do 1 e vai até o 9 (-1 excludente) \n",
    "for i in range(1, 10):\n",
    "    print(i) \n",
    "\n",
    "# printa A PARTIR do 1 e vai até o 10 (-1 excludente)\n",
    "for i in range(1, 11):\n",
    "    print(i) "
   ]
  },
  {
   "cell_type": "markdown",
   "metadata": {},
   "source": [
    "- Exemplo: Modelo Jack Welch da G&E\n",
    "\n",
    "    1. Classe A: 10% melhor\n",
    "    2. Classe B: 80% mantém/busca melhorar\n",
    "    3. Classe C: 10% pior\n",
    "    \n",
    "Quem são os funcionários classe B?"
   ]
  },
  {
   "cell_type": "code",
   "execution_count": 37,
   "metadata": {},
   "outputs": [
    {
     "name": "stdout",
     "output_type": "stream",
     "text": [
      "Funcionários da Classe B\n",
      "Funcionário: João, Vendas: 1200\n",
      "Funcionário: Francisco, Vendas: 1111\n",
      "Funcionário: Ana, Vendas: 1100\n",
      "Funcionário: Luiz, Vendas: 999\n",
      "Funcionário: Paulo, Vendas: 900\n",
      "Funcionário: Carlos, Vendas: 880\n",
      "Funcionário: Manoel, Vendas: 870\n",
      "Funcionário: Pedro, Vendas: 800\n",
      "Funcionário: Francisca, Vendas: 800\n",
      "Funcionário: Marcos, Vendas: 450\n",
      "Funcionário: Raimundo, Vendas: 400\n",
      "Funcionário: Sebastião, Vendas: 300\n",
      "Funcionário: Antônia, Vendas: 300\n",
      "Funcionário: Marcelo, Vendas: 120\n",
      "Funcionário: Jorge, Vendas: 90\n"
     ]
    }
   ],
   "source": [
    "funcionarios = ['Maria', 'José', 'Antônio', 'João', 'Francisco', 'Ana', 'Luiz', 'Paulo', 'Carlos', 'Manoel', 'Pedro', 'Francisca', 'Marcos', 'Raimundo', 'Sebastião', 'Antônia', 'Marcelo', 'Jorge', 'Márcia', 'Geraldo']\n",
    "vendas = [2750, 1900, 1500, 1200, 1111, 1100, 999, 900, 880, 870, 800, 800, 450, 400, 300, 300, 120, 90, 80, 70]\n",
    "\n",
    "print('Funcionários da Classe B')\n",
    "for i in range(3, 18):\n",
    "    print(f'Funcionário: {funcionarios[i]}, Vendas: {vendas[i]}')\n"
   ]
  },
  {
   "cell_type": "markdown",
   "metadata": {},
   "source": [
    "# 3º FORMA DE USAR O RANGE: com passos + excludente no último passo"
   ]
  },
  {
   "cell_type": "code",
   "execution_count": null,
   "metadata": {},
   "outputs": [],
   "source": []
  },
  {
   "cell_type": "code",
   "execution_count": 26,
   "metadata": {},
   "outputs": [
    {
     "name": "stdout",
     "output_type": "stream",
     "text": [
      "0\n",
      "10\n",
      "20\n",
      "30\n",
      "40\n",
      "50\n",
      "60\n",
      "70\n",
      "80\n",
      "90\n"
     ]
    }
   ],
   "source": [
    "# range(inicio, fim, passo) -> mesma coisa da forma 2, só que tem o passo: que é de quantos em quantos itens vai ser iterado, de 2 em 2, de 3 em 3 e assim por diante\n",
    "# aqui o excludente vai ser o PASSO, que vai excluir a quantidade referente ao passo, do valor do FIM\n",
    "# fim: 100, passo: 10 -> iterável até 100-10 = até 90\n",
    "# Se você quiser garantir que vá de 0 a 100 certinho, o valor do INÍCIO deve ser 0 sempre\n",
    "\n",
    "# de 0 a 90\n",
    "for i in range(0, 100, 10):\n",
    "    print(i)"
   ]
  },
  {
   "cell_type": "code",
   "execution_count": 27,
   "metadata": {},
   "outputs": [
    {
     "name": "stdout",
     "output_type": "stream",
     "text": [
      "0\n",
      "10\n",
      "20\n",
      "30\n",
      "40\n",
      "50\n",
      "60\n",
      "70\n",
      "80\n",
      "90\n",
      "100\n"
     ]
    }
   ],
   "source": [
    "# de 0 a 100\n",
    "for i in range(0, 110, 10):\n",
    "    print(i)\n"
   ]
  },
  {
   "cell_type": "code",
   "execution_count": 28,
   "metadata": {},
   "outputs": [
    {
     "name": "stdout",
     "output_type": "stream",
     "text": [
      "1\n",
      "11\n",
      "21\n",
      "31\n",
      "41\n",
      "51\n",
      "61\n",
      "71\n",
      "81\n",
      "91\n"
     ]
    }
   ],
   "source": [
    "# de 1 a 91\n",
    "for i in range(1, 100, 10):\n",
    "    print(i)"
   ]
  },
  {
   "cell_type": "code",
   "execution_count": 29,
   "metadata": {},
   "outputs": [
    {
     "name": "stdout",
     "output_type": "stream",
     "text": [
      "1\n",
      "11\n",
      "21\n",
      "31\n",
      "41\n",
      "51\n",
      "61\n",
      "71\n",
      "81\n",
      "91\n",
      "101\n"
     ]
    }
   ],
   "source": [
    "# de 1 a 101\n",
    "for i in range(1, 111, 10):\n",
    "    print(i)"
   ]
  },
  {
   "cell_type": "code",
   "execution_count": 30,
   "metadata": {},
   "outputs": [
    {
     "name": "stdout",
     "output_type": "stream",
     "text": [
      "0\n",
      "20\n",
      "40\n",
      "60\n",
      "80\n"
     ]
    }
   ],
   "source": [
    "# de 0 a 80\n",
    "for i in range(0, 100, 20):\n",
    "    print(i)"
   ]
  },
  {
   "cell_type": "code",
   "execution_count": 31,
   "metadata": {},
   "outputs": [
    {
     "name": "stdout",
     "output_type": "stream",
     "text": [
      "0\n",
      "20\n",
      "40\n",
      "60\n",
      "80\n",
      "100\n"
     ]
    }
   ],
   "source": [
    "# de 0 a 100\n",
    "for i in range(0, 120, 20):\n",
    "    print(i)"
   ]
  },
  {
   "cell_type": "code",
   "execution_count": 32,
   "metadata": {},
   "outputs": [
    {
     "name": "stdout",
     "output_type": "stream",
     "text": [
      "0\n",
      "20\n",
      "40\n",
      "60\n",
      "80\n",
      "100\n",
      "120\n"
     ]
    }
   ],
   "source": [
    "# de 0 a 120\n",
    "for i in range(0, 140, 20):\n",
    "    print(i)"
   ]
  }
 ],
 "metadata": {
  "kernelspec": {
   "display_name": "Python 3",
   "language": "python",
   "name": "python3"
  },
  "language_info": {
   "codemirror_mode": {
    "name": "ipython",
    "version": 3
   },
   "file_extension": ".py",
   "mimetype": "text/x-python",
   "name": "python",
   "nbconvert_exporter": "python",
   "pygments_lexer": "ipython3",
   "version": "3.9.13"
  }
 },
 "nbformat": 4,
 "nbformat_minor": 2
}
