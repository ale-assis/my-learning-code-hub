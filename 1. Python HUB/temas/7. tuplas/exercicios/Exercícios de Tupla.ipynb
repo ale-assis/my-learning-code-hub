{
 "cells": [
  {
   "cell_type": "markdown",
   "metadata": {},
   "source": [
    "# Exercícios\n",
    "\n",
    "São exercícios bem parecidos com os que fizemos com listas. Mas na tupla, podemos não só trabalhar com índices, mas fazer o \"unpacking\" das tuplas, o que pode facilitar nossos códigos.\n",
    "\n",
    "## 1. Análise de Vendas\n",
    "\n",
    "Nesse exercício vamos fazer uma \"análise simples\" de atingimento de Meta.\n",
    "\n",
    "Temos uma lista com os vendedores e os valores de vendas e queremos identificar (printar) quais os vendedores que bateram a meta e qual foi o valor que eles venderam."
   ]
  },
  {
   "cell_type": "code",
   "metadata": {
    "ExecuteTime": {
     "end_time": "2024-06-17T13:12:36.864298Z",
     "start_time": "2024-06-17T13:12:36.761388Z"
    }
   },
   "source": [
    "# MINHA RESOLUÇÃO\n",
    "\n",
    "meta = 10000\n",
    "vendas = [\n",
    "    ('João', 15000),\n",
    "    ('Julia', 27000),\n",
    "    ('Marcus', 9900),\n",
    "    ('Maria', 3750),\n",
    "    ('Ana', 10300),\n",
    "    ('Alon', 7870),\n",
    "]\n",
    "for item in vendas:\n",
    "    vendedor, venda = item\n",
    "    if venda == meta or venda > meta:\n",
    "        print(f'O vendedor {vendedor} bateu a meta, com {venda} vendas')"
   ],
   "outputs": [
    {
     "name": "stdout",
     "output_type": "stream",
     "text": [
      "O vendedor João bateu a meta, com 15000 vendas\n",
      "O vendedor Julia bateu a meta, com 27000 vendas\n",
      "O vendedor Ana bateu a meta, com 10300 vendas\n"
     ]
    }
   ],
   "execution_count": 26
  },
  {
   "metadata": {
    "ExecuteTime": {
     "end_time": "2024-06-17T13:12:24.665477Z",
     "start_time": "2024-06-17T13:12:24.551906Z"
    }
   },
   "cell_type": "code",
   "source": [
    "#CORREÇÃO DA HASHTAG\n",
    "# A diferença foi que o unpacking foi feito na mesma linha do for\n",
    "meta = 10000\n",
    "vendas = [\n",
    "    ('João', 15000),\n",
    "    ('Julia', 27000),\n",
    "    ('Marcus', 9900),\n",
    "    ('Maria', 3750),\n",
    "    ('Ana', 10300),\n",
    "    ('Alon', 7870),\n",
    "]\n",
    "for vendedor, qtde_venda in vendas:\n",
    "    if qtde_venda >= meta:\n",
    "        print(f'O vendedor {vendedor} bateu a meta, com {qtde_venda} vendas')"
   ],
   "outputs": [
    {
     "name": "stdout",
     "output_type": "stream",
     "text": [
      "O vendedor João bateu a meta, com 15000 vendas\n",
      "O vendedor Julia bateu a meta, com 27000 vendas\n",
      "O vendedor Ana bateu a meta, com 10300 vendas\n"
     ]
    }
   ],
   "execution_count": 25
  },
  {
   "cell_type": "markdown",
   "metadata": {},
   "source": [
    "## 2. Comparação com Ano Anterior\n",
    "\n",
    "Digamos que você está analisando as vendas de produtos de um ecommerce e quer identificar quais produtos tiveram no ano de 2020 mais vendas do que no ano de 2019, para reportar isso para a diretoria.\n",
    "\n",
    "Sua resposta pode ser um print de cada produto, qual foi a venda de 2019, a venda de 2020 e o % de crescimento de 2020 para 2019.\n",
    "\n",
    "Lembrando, para calcular o % de crescimento de um produto de um ano para o outro, podemos fazer: (vendas_produto2020/vendas_produto2019 - 1)\n",
    "\n",
    "A lógica da tupla é: (produto, vendas2019, vendas2020)"
   ]
  },
  {
   "cell_type": "code",
   "metadata": {
    "ExecuteTime": {
     "end_time": "2024-06-17T13:32:49.624795Z",
     "start_time": "2024-06-17T13:32:49.558715Z"
    }
   },
   "source": [
    "vendas_produtos = [('iphone', 558147, 951642), ('galaxy', 712350, 244295), ('ipad', 573823, 26964), ('tv', 405252, 787604), ('máquina de café', 718654, 867660), ('kindle', 531580, 78830), ('geladeira', 973139, 710331), ('adega', 892292, 646016), ('notebook dell', 422760, 694913), ('notebook hp', 154753, 539704), ('notebook asus', 887061, 324831), ('microsoft surface', 438508, 667179), ('webcam', 237467, 295633), ('caixa de som', 489705, 725316), ('microfone', 328311, 644622), ('câmera canon', 591120, 994303)]\n",
    "\n",
    "for item in vendas_produtos:\n",
    "    produto, ano_2019, ano_2020 = item\n",
    "    if ano_2020 > ano_2019:\n",
    "        print(f'{produto}\\nVendas em 2019: {ano_2019}\\nVendas em 2020: {ano_2020}\\nCrescimento: {ano_2020/ano_2019-1:.1%}\\n\\n')        "
   ],
   "outputs": [
    {
     "name": "stdout",
     "output_type": "stream",
     "text": [
      "iphone\n",
      "Vendas em 2019: 558147\n",
      "Vendas em 2020: 951642\n",
      "Crescimento: 70.5%\n",
      "\n",
      "\n",
      "tv\n",
      "Vendas em 2019: 405252\n",
      "Vendas em 2020: 787604\n",
      "Crescimento: 94.3%\n",
      "\n",
      "\n",
      "máquina de café\n",
      "Vendas em 2019: 718654\n",
      "Vendas em 2020: 867660\n",
      "Crescimento: 20.7%\n",
      "\n",
      "\n",
      "notebook dell\n",
      "Vendas em 2019: 422760\n",
      "Vendas em 2020: 694913\n",
      "Crescimento: 64.4%\n",
      "\n",
      "\n",
      "notebook hp\n",
      "Vendas em 2019: 154753\n",
      "Vendas em 2020: 539704\n",
      "Crescimento: 248.8%\n",
      "\n",
      "\n",
      "microsoft surface\n",
      "Vendas em 2019: 438508\n",
      "Vendas em 2020: 667179\n",
      "Crescimento: 52.1%\n",
      "\n",
      "\n",
      "webcam\n",
      "Vendas em 2019: 237467\n",
      "Vendas em 2020: 295633\n",
      "Crescimento: 24.5%\n",
      "\n",
      "\n",
      "caixa de som\n",
      "Vendas em 2019: 489705\n",
      "Vendas em 2020: 725316\n",
      "Crescimento: 48.1%\n",
      "\n",
      "\n",
      "microfone\n",
      "Vendas em 2019: 328311\n",
      "Vendas em 2020: 644622\n",
      "Crescimento: 96.3%\n",
      "\n",
      "\n",
      "câmera canon\n",
      "Vendas em 2019: 591120\n",
      "Vendas em 2020: 994303\n",
      "Crescimento: 68.2%\n",
      "\n",
      "\n"
     ]
    }
   ],
   "execution_count": 32
  },
  {
   "metadata": {
    "ExecuteTime": {
     "end_time": "2024-06-17T13:36:50.333286Z",
     "start_time": "2024-06-17T13:36:50.289583Z"
    }
   },
   "cell_type": "code",
   "source": [
    "#CORREÇÃO DA HASHTAG\n",
    "#novamente, a diferença foi que o unpack de tupla foi feito na mesma linha do for \n",
    "\n",
    "vendas_produtos = [('iphone', 558147, 951642), ('galaxy', 712350, 244295), ('ipad', 573823, 26964), ('tv', 405252, 787604), ('máquina de café', 718654, 867660), ('kindle', 531580, 78830), ('geladeira', 973139, 710331), ('adega', 892292, 646016), ('notebook dell', 422760, 694913), ('notebook hp', 154753, 539704), ('notebook asus', 887061, 324831), ('microsoft surface', 438508, 667179), ('webcam', 237467, 295633), ('caixa de som', 489705, 725316), ('microfone', 328311, 644622), ('câmera canon', 591120, 994303)]\n",
    "\n",
    "for produto, ano_2019, ano_2020 in vendas_produtos:\n",
    "    if ano_2020 > ano_2019:\n",
    "        crescimento = ano_2020/ano_2019-1\n",
    "        print(f'{produto}\\nVendas em 2019: {ano_2019}\\nVendas em 2020: {ano_2020}\\nCrescimento: {crescimento:.2%}\\n\\n')        "
   ],
   "outputs": [
    {
     "name": "stdout",
     "output_type": "stream",
     "text": [
      "iphone\n",
      "Vendas em 2019: 558147\n",
      "Vendas em 2020: 951642\n",
      "Crescimento: 70.50%\n",
      "\n",
      "\n",
      "tv\n",
      "Vendas em 2019: 405252\n",
      "Vendas em 2020: 787604\n",
      "Crescimento: 94.35%\n",
      "\n",
      "\n",
      "máquina de café\n",
      "Vendas em 2019: 718654\n",
      "Vendas em 2020: 867660\n",
      "Crescimento: 20.73%\n",
      "\n",
      "\n",
      "notebook dell\n",
      "Vendas em 2019: 422760\n",
      "Vendas em 2020: 694913\n",
      "Crescimento: 64.38%\n",
      "\n",
      "\n",
      "notebook hp\n",
      "Vendas em 2019: 154753\n",
      "Vendas em 2020: 539704\n",
      "Crescimento: 248.75%\n",
      "\n",
      "\n",
      "microsoft surface\n",
      "Vendas em 2019: 438508\n",
      "Vendas em 2020: 667179\n",
      "Crescimento: 52.15%\n",
      "\n",
      "\n",
      "webcam\n",
      "Vendas em 2019: 237467\n",
      "Vendas em 2020: 295633\n",
      "Crescimento: 24.49%\n",
      "\n",
      "\n",
      "caixa de som\n",
      "Vendas em 2019: 489705\n",
      "Vendas em 2020: 725316\n",
      "Crescimento: 48.11%\n",
      "\n",
      "\n",
      "microfone\n",
      "Vendas em 2019: 328311\n",
      "Vendas em 2020: 644622\n",
      "Crescimento: 96.34%\n",
      "\n",
      "\n",
      "câmera canon\n",
      "Vendas em 2019: 591120\n",
      "Vendas em 2020: 994303\n",
      "Crescimento: 68.21%\n",
      "\n",
      "\n"
     ]
    }
   ],
   "execution_count": 33
  },
  {
   "metadata": {},
   "cell_type": "code",
   "outputs": [],
   "execution_count": null,
   "source": ""
  }
 ],
 "metadata": {
  "kernelspec": {
   "display_name": "Python 3",
   "language": "python",
   "name": "python3"
  },
  "language_info": {
   "codemirror_mode": {
    "name": "ipython",
    "version": 3
   },
   "file_extension": ".py",
   "mimetype": "text/x-python",
   "name": "python",
   "nbconvert_exporter": "python",
   "pygments_lexer": "ipython3",
   "version": "3.8.3"
  }
 },
 "nbformat": 4,
 "nbformat_minor": 4
}
